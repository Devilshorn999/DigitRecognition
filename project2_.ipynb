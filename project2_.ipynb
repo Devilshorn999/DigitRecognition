{
 "cells": [
  {
   "cell_type": "code",
   "execution_count": 208,
   "id": "7a6c2142-831b-433d-8866-68279e48ac2f",
   "metadata": {},
   "outputs": [],
   "source": [
    "from colorama import Fore, Back, Style\n",
    "from random import choice\n",
    "import numpy as np\n",
    "import pandas as pd\n",
    "from pandas import read_csv, DataFrame\n",
    "import matplotlib.pyplot as plt\n",
    "import cv2\n",
    "import argparse\n",
    "\n",
    "from sklearn.model_selection import train_test_split\n",
    "import tensorflow as tf\n",
    "from tensorflow.keras.models import Sequential,load_model\n",
    "from tensorflow.keras.layers import Dense, Dropout, Activation, Flatten,Conv2D, MaxPooling2D\n",
    "from keras.preprocessing.image import ImageDataGenerator"
   ]
  },
  {
   "cell_type": "code",
   "execution_count": 180,
   "id": "bc0e524d-1e82-4ee6-a917-d753ebc852d9",
   "metadata": {},
   "outputs": [],
   "source": [
    "def statement(stmnt):\n",
    "    print(Fore.YELLOW, Back.LIGHTBLACK_EX, Style.BRIGHT, stmnt, Style.RESET_ALL)"
   ]
  },
  {
   "cell_type": "markdown",
   "id": "1c75ab57-31f6-4f0c-96e3-1634a23054d4",
   "metadata": {},
   "source": [
    "#  Loading Data"
   ]
  },
  {
   "cell_type": "code",
   "execution_count": 181,
   "id": "081afbfb-0145-4eca-9f3d-6cc242fd8e29",
   "metadata": {},
   "outputs": [],
   "source": [
    "mnist = tf.keras.datasets.mnist"
   ]
  },
  {
   "cell_type": "code",
   "execution_count": 182,
   "id": "f993d9a9-08b2-4cda-b71d-d87f17960c5a",
   "metadata": {},
   "outputs": [
    {
     "data": {
      "text/plain": [
       "((array([[[0, 0, 0, ..., 0, 0, 0],\n",
       "          [0, 0, 0, ..., 0, 0, 0],\n",
       "          [0, 0, 0, ..., 0, 0, 0],\n",
       "          ...,\n",
       "          [0, 0, 0, ..., 0, 0, 0],\n",
       "          [0, 0, 0, ..., 0, 0, 0],\n",
       "          [0, 0, 0, ..., 0, 0, 0]],\n",
       "  \n",
       "         [[0, 0, 0, ..., 0, 0, 0],\n",
       "          [0, 0, 0, ..., 0, 0, 0],\n",
       "          [0, 0, 0, ..., 0, 0, 0],\n",
       "          ...,\n",
       "          [0, 0, 0, ..., 0, 0, 0],\n",
       "          [0, 0, 0, ..., 0, 0, 0],\n",
       "          [0, 0, 0, ..., 0, 0, 0]],\n",
       "  \n",
       "         [[0, 0, 0, ..., 0, 0, 0],\n",
       "          [0, 0, 0, ..., 0, 0, 0],\n",
       "          [0, 0, 0, ..., 0, 0, 0],\n",
       "          ...,\n",
       "          [0, 0, 0, ..., 0, 0, 0],\n",
       "          [0, 0, 0, ..., 0, 0, 0],\n",
       "          [0, 0, 0, ..., 0, 0, 0]],\n",
       "  \n",
       "         ...,\n",
       "  \n",
       "         [[0, 0, 0, ..., 0, 0, 0],\n",
       "          [0, 0, 0, ..., 0, 0, 0],\n",
       "          [0, 0, 0, ..., 0, 0, 0],\n",
       "          ...,\n",
       "          [0, 0, 0, ..., 0, 0, 0],\n",
       "          [0, 0, 0, ..., 0, 0, 0],\n",
       "          [0, 0, 0, ..., 0, 0, 0]],\n",
       "  \n",
       "         [[0, 0, 0, ..., 0, 0, 0],\n",
       "          [0, 0, 0, ..., 0, 0, 0],\n",
       "          [0, 0, 0, ..., 0, 0, 0],\n",
       "          ...,\n",
       "          [0, 0, 0, ..., 0, 0, 0],\n",
       "          [0, 0, 0, ..., 0, 0, 0],\n",
       "          [0, 0, 0, ..., 0, 0, 0]],\n",
       "  \n",
       "         [[0, 0, 0, ..., 0, 0, 0],\n",
       "          [0, 0, 0, ..., 0, 0, 0],\n",
       "          [0, 0, 0, ..., 0, 0, 0],\n",
       "          ...,\n",
       "          [0, 0, 0, ..., 0, 0, 0],\n",
       "          [0, 0, 0, ..., 0, 0, 0],\n",
       "          [0, 0, 0, ..., 0, 0, 0]]], dtype=uint8),\n",
       "  array([5, 0, 4, ..., 5, 6, 8], dtype=uint8)),\n",
       " (array([[[0, 0, 0, ..., 0, 0, 0],\n",
       "          [0, 0, 0, ..., 0, 0, 0],\n",
       "          [0, 0, 0, ..., 0, 0, 0],\n",
       "          ...,\n",
       "          [0, 0, 0, ..., 0, 0, 0],\n",
       "          [0, 0, 0, ..., 0, 0, 0],\n",
       "          [0, 0, 0, ..., 0, 0, 0]],\n",
       "  \n",
       "         [[0, 0, 0, ..., 0, 0, 0],\n",
       "          [0, 0, 0, ..., 0, 0, 0],\n",
       "          [0, 0, 0, ..., 0, 0, 0],\n",
       "          ...,\n",
       "          [0, 0, 0, ..., 0, 0, 0],\n",
       "          [0, 0, 0, ..., 0, 0, 0],\n",
       "          [0, 0, 0, ..., 0, 0, 0]],\n",
       "  \n",
       "         [[0, 0, 0, ..., 0, 0, 0],\n",
       "          [0, 0, 0, ..., 0, 0, 0],\n",
       "          [0, 0, 0, ..., 0, 0, 0],\n",
       "          ...,\n",
       "          [0, 0, 0, ..., 0, 0, 0],\n",
       "          [0, 0, 0, ..., 0, 0, 0],\n",
       "          [0, 0, 0, ..., 0, 0, 0]],\n",
       "  \n",
       "         ...,\n",
       "  \n",
       "         [[0, 0, 0, ..., 0, 0, 0],\n",
       "          [0, 0, 0, ..., 0, 0, 0],\n",
       "          [0, 0, 0, ..., 0, 0, 0],\n",
       "          ...,\n",
       "          [0, 0, 0, ..., 0, 0, 0],\n",
       "          [0, 0, 0, ..., 0, 0, 0],\n",
       "          [0, 0, 0, ..., 0, 0, 0]],\n",
       "  \n",
       "         [[0, 0, 0, ..., 0, 0, 0],\n",
       "          [0, 0, 0, ..., 0, 0, 0],\n",
       "          [0, 0, 0, ..., 0, 0, 0],\n",
       "          ...,\n",
       "          [0, 0, 0, ..., 0, 0, 0],\n",
       "          [0, 0, 0, ..., 0, 0, 0],\n",
       "          [0, 0, 0, ..., 0, 0, 0]],\n",
       "  \n",
       "         [[0, 0, 0, ..., 0, 0, 0],\n",
       "          [0, 0, 0, ..., 0, 0, 0],\n",
       "          [0, 0, 0, ..., 0, 0, 0],\n",
       "          ...,\n",
       "          [0, 0, 0, ..., 0, 0, 0],\n",
       "          [0, 0, 0, ..., 0, 0, 0],\n",
       "          [0, 0, 0, ..., 0, 0, 0]]], dtype=uint8),\n",
       "  array([7, 2, 1, ..., 4, 5, 6], dtype=uint8)))"
      ]
     },
     "execution_count": 182,
     "metadata": {},
     "output_type": "execute_result"
    }
   ],
   "source": [
    "mnist.load_data()"
   ]
  },
  {
   "cell_type": "code",
   "execution_count": 183,
   "id": "4ab7f802-a5a4-4eeb-965e-71e19d87d410",
   "metadata": {},
   "outputs": [
    {
     "data": {
      "text/plain": [
       "((28000, 784), (42000, 785))"
      ]
     },
     "execution_count": 183,
     "metadata": {},
     "output_type": "execute_result"
    }
   ],
   "source": [
    "df_train = read_csv('train.csv')\n",
    "df_test = read_csv('test.csv')\n",
    "df_test.shape,df_train.shape"
   ]
  },
  {
   "cell_type": "code",
   "execution_count": 184,
   "id": "7a5a0ca6-0969-49dc-9f3a-ebac1cb3bf16",
   "metadata": {},
   "outputs": [],
   "source": [
    "x = df_train.iloc[:,1:].values\n",
    "y = df_train.iloc[:,0]"
   ]
  },
  {
   "cell_type": "code",
   "execution_count": 185,
   "id": "d3c241bd-7321-45e8-9c85-934a249c946d",
   "metadata": {},
   "outputs": [],
   "source": [
    "# y = tf.keras.utils.to_categorical(y)\n",
    "# y.shape"
   ]
  },
  {
   "cell_type": "code",
   "execution_count": 186,
   "id": "f7eeffc2-dc50-4062-8541-cba5b003d8d4",
   "metadata": {},
   "outputs": [],
   "source": [
    "x = x.reshape(x.shape[0],28,28,1)"
   ]
  },
  {
   "cell_type": "code",
   "execution_count": 187,
   "id": "54925bb9-7991-44ab-81da-5c193c67bd67",
   "metadata": {},
   "outputs": [
    {
     "data": {
      "text/plain": [
       "(42000, 28, 28, 1)"
      ]
     },
     "execution_count": 187,
     "metadata": {},
     "output_type": "execute_result"
    }
   ],
   "source": [
    "x.shape"
   ]
  },
  {
   "cell_type": "markdown",
   "id": "25e34a23-d4d9-4e94-845a-8347969046e6",
   "metadata": {},
   "source": [
    "# Loading the data into training and testing samples"
   ]
  },
  {
   "cell_type": "code",
   "execution_count": 188,
   "id": "4d1ddf7d-3097-4bb1-99c8-52e620e904f3",
   "metadata": {},
   "outputs": [],
   "source": [
    "(xtrain, ytrain),(xtest, ytest) = mnist.load_data()"
   ]
  },
  {
   "cell_type": "code",
   "execution_count": 189,
   "id": "97b40426-fb50-434f-9122-ab33ae8be424",
   "metadata": {},
   "outputs": [],
   "source": [
    "# ytrain = tf.keras.utils.to_categorical(ytrain)\n",
    "# ytest = tf.keras.utils.to_categorical(ytest)"
   ]
  },
  {
   "cell_type": "code",
   "execution_count": 190,
   "id": "3f78629a-e08d-4385-8c1f-34bb511a418c",
   "metadata": {},
   "outputs": [
    {
     "data": {
      "text/plain": [
       "(60000, 28, 28)"
      ]
     },
     "execution_count": 190,
     "metadata": {},
     "output_type": "execute_result"
    }
   ],
   "source": [
    "xtrain.shape"
   ]
  },
  {
   "cell_type": "code",
   "execution_count": 191,
   "id": "0d49d3af-bf7f-47da-bf5d-039903df7c0a",
   "metadata": {},
   "outputs": [
    {
     "data": {
      "text/plain": [
       "(10000, 28, 28)"
      ]
     },
     "execution_count": 191,
     "metadata": {},
     "output_type": "execute_result"
    }
   ],
   "source": [
    "xtest.shape"
   ]
  },
  {
   "cell_type": "markdown",
   "id": "e1d385de-a8cd-4cb4-9df3-60f5f907d5a7",
   "metadata": {},
   "source": [
    "# Crosschecking training and testing data with corresponding labels"
   ]
  },
  {
   "cell_type": "code",
   "execution_count": 192,
   "id": "f46f5ca7-f1f1-4637-ac33-d33c0e29514a",
   "metadata": {},
   "outputs": [
    {
     "data": {
      "image/png": "[encoded data removed]",
      "text/plain": [
       "<Figure size 432x288 with 1 Axes>"
      ]
     },
     "metadata": {
      "needs_background": "light"
     },
     "output_type": "display_data"
    },
    {
     "data": {
      "image/png": "[encoded data removed]",
      "text/plain": [
       "<Figure size 432x288 with 1 Axes>"
      ]
     },
     "metadata": {
      "needs_background": "light"
     },
     "output_type": "display_data"
    },
    {
     "name": "stdout",
     "output_type": "stream",
     "text": [
      "\u001b[33m \u001b[100m \u001b[1m Label Value At Index(16165) For Training Data = 5\n",
      "    Label Value At Index(5099) For Testing Data = 2 \u001b[0m\n"
     ]
    },
    {
     "data": {
      "image/png": "[encoded data removed]",
      "text/plain": [
       "<Figure size 432x288 with 1 Axes>"
      ]
     },
     "metadata": {
      "needs_background": "light"
     },
     "output_type": "display_data"
    },
    {
     "data": {
      "image/png": "[encoded data removed]",
      "text/plain": [
       "<Figure size 432x288 with 1 Axes>"
      ]
     },
     "metadata": {
      "needs_background": "light"
     },
     "output_type": "display_data"
    },
    {
     "name": "stdout",
     "output_type": "stream",
     "text": [
      "\u001b[33m \u001b[100m \u001b[1m Label Value At Index(22961) For Training Data = 9\n",
      "    Label Value At Index(1622) For Testing Data = 9 \u001b[0m\n"
     ]
    },
    {
     "data": {
      "image/png": "[encoded data removed]",
      "text/plain": [
       "<Figure size 432x288 with 1 Axes>"
      ]
     },
     "metadata": {
      "needs_background": "light"
     },
     "output_type": "display_data"
    },
    {
     "data": {
      "image/png": "[encoded data removed]",
      "text/plain": [
       "<Figure size 432x288 with 1 Axes>"
      ]
     },
     "metadata": {
      "needs_background": "light"
     },
     "output_type": "display_data"
    },
    {
     "name": "stdout",
     "output_type": "stream",
     "text": [
      "\u001b[33m \u001b[100m \u001b[1m Label Value At Index(12909) For Training Data = 1\n",
      "    Label Value At Index(561) For Testing Data = 0 \u001b[0m\n"
     ]
    },
    {
     "data": {
      "image/png": "[encoded data removed]",
      "text/plain": [
       "<Figure size 432x288 with 1 Axes>"
      ]
     },
     "metadata": {
      "needs_background": "light"
     },
     "output_type": "display_data"
    },
    {
     "data": {
      "image/png": "[encoded data removed]",
      "text/plain": [
       "<Figure size 432x288 with 1 Axes>"
      ]
     },
     "metadata": {
      "needs_background": "light"
     },
     "output_type": "display_data"
    },
    {
     "name": "stdout",
     "output_type": "stream",
     "text": [
      "\u001b[33m \u001b[100m \u001b[1m Label Value At Index(21404) For Training Data = 6\n",
      "    Label Value At Index(9604) For Testing Data = 3 \u001b[0m\n"
     ]
    },
    {
     "data": {
      "image/png": "[encoded data removed]",
      "text/plain": [
       "<Figure size 432x288 with 1 Axes>"
      ]
     },
     "metadata": {
      "needs_background": "light"
     },
     "output_type": "display_data"
    },
    {
     "data": {
      "image/png": "[encoded data removed]",
      "text/plain": [
       "<Figure size 432x288 with 1 Axes>"
      ]
     },
     "metadata": {
      "needs_background": "light"
     },
     "output_type": "display_data"
    },
    {
     "name": "stdout",
     "output_type": "stream",
     "text": [
      "\u001b[33m \u001b[100m \u001b[1m Label Value At Index(22345) For Training Data = 1\n",
      "    Label Value At Index(6765) For Testing Data = 8 \u001b[0m\n"
     ]
    }
   ],
   "source": [
    "for j in range(5):\n",
    "    i = choice(range(30000))\n",
    "    plt.imshow(xtrain_[i])\n",
    "    plt.show()\n",
    "    try:\n",
    "        k = i\n",
    "        plt.imshow(xtest[k],cmap= plt.cm.binary_r)\n",
    "    except IndexError:\n",
    "        k = choice(range(10000))\n",
    "        plt.imshow(xtest[k],cmap= plt.cm.binary_r)\n",
    "    plt.show()\n",
    "    stmnt = f'''label value at index({i}) for training data = {ytrain[i]}\n",
    "    label value at index({k}) for testing data = {ytest[k]}'''.title()\n",
    "    statement(stmnt)"
   ]
  },
  {
   "cell_type": "markdown",
   "id": "f6894bfd-9d1c-4c14-9a68-0cdf5ee4bec0",
   "metadata": {},
   "source": [
    "# Normalizing the data"
   ]
  },
  {
   "cell_type": "code",
   "execution_count": 193,
   "id": "75f6d32d-0598-48dd-b9c2-30e64086000d",
   "metadata": {},
   "outputs": [],
   "source": [
    "x = tf.keras.utils.normalize(x)\n",
    "xtrain = tf.keras.utils.normalize(xtrain)\n",
    "xtest = tf.keras.utils.normalize(xtest)"
   ]
  },
  {
   "cell_type": "markdown",
   "id": "5a086dba-ab46-4d4c-9af9-ac098c5bc31d",
   "metadata": {},
   "source": [
    "# Spliting data for validation"
   ]
  },
  {
   "cell_type": "code",
   "execution_count": 194,
   "id": "932283b3-7309-4e73-963b-f699a68a6c2f",
   "metadata": {},
   "outputs": [],
   "source": [
    "xtrain_, val_x, ytrain_, val_y = train_test_split(x,y,test_size=.2,random_state=42)"
   ]
  },
  {
   "cell_type": "code",
   "execution_count": 195,
   "id": "5ccb2086-4502-40a6-bbe1-202b08dbfc57",
   "metadata": {},
   "outputs": [
    {
     "data": {
      "image/png": "[encoded data removed]",
      "text/plain": [
       "<Figure size 432x288 with 1 Axes>"
      ]
     },
     "metadata": {
      "needs_background": "light"
     },
     "output_type": "display_data"
    },
    {
     "data": {
      "image/png": "[encoded data removed]",
      "text/plain": [
       "<Figure size 432x288 with 1 Axes>"
      ]
     },
     "metadata": {
      "needs_background": "light"
     },
     "output_type": "display_data"
    },
    {
     "name": "stdout",
     "output_type": "stream",
     "text": [
      "\u001b[33m \u001b[100m \u001b[1m Label Value At Index(42522) For Training Data = 2\n",
      "    Label Value At Index(8841) For Testing Data = 9 \u001b[0m\n"
     ]
    },
    {
     "data": {
      "image/png": "[encoded data removed]",
      "text/plain": [
       "<Figure size 432x288 with 1 Axes>"
      ]
     },
     "metadata": {
      "needs_background": "light"
     },
     "output_type": "display_data"
    },
    {
     "data": {
      "image/png": "[encoded data removed]",
      "text/plain": [
       "<Figure size 432x288 with 1 Axes>"
      ]
     },
     "metadata": {
      "needs_background": "light"
     },
     "output_type": "display_data"
    },
    {
     "name": "stdout",
     "output_type": "stream",
     "text": [
      "\u001b[33m \u001b[100m \u001b[1m Label Value At Index(15374) For Training Data = 5\n",
      "    Label Value At Index(2338) For Testing Data = 4 \u001b[0m\n"
     ]
    },
    {
     "data": {
      "image/png": "[encoded data removed]",
      "text/plain": [
       "<Figure size 432x288 with 1 Axes>"
      ]
     },
     "metadata": {
      "needs_background": "light"
     },
     "output_type": "display_data"
    },
    {
     "data": {
      "image/png": "[encoded data removed]",
      "text/plain": [
       "<Figure size 432x288 with 1 Axes>"
      ]
     },
     "metadata": {
      "needs_background": "light"
     },
     "output_type": "display_data"
    },
    {
     "name": "stdout",
     "output_type": "stream",
     "text": [
      "\u001b[33m \u001b[100m \u001b[1m Label Value At Index(55764) For Training Data = 8\n",
      "    Label Value At Index(8917) For Testing Data = 4 \u001b[0m\n"
     ]
    },
    {
     "data": {
      "image/png": "[encoded data removed]",
      "text/plain": [
       "<Figure size 432x288 with 1 Axes>"
      ]
     },
     "metadata": {
      "needs_background": "light"
     },
     "output_type": "display_data"
    },
    {
     "data": {
      "image/png": "[encoded data removed]",
      "text/plain": [
       "<Figure size 432x288 with 1 Axes>"
      ]
     },
     "metadata": {
      "needs_background": "light"
     },
     "output_type": "display_data"
    },
    {
     "name": "stdout",
     "output_type": "stream",
     "text": [
      "\u001b[33m \u001b[100m \u001b[1m Label Value At Index(59863) For Training Data = 4\n",
      "    Label Value At Index(9328) For Testing Data = 7 \u001b[0m\n"
     ]
    },
    {
     "data": {
      "image/png": "[encoded data removed]",
      "text/plain": [
       "<Figure size 432x288 with 1 Axes>"
      ]
     },
     "metadata": {
      "needs_background": "light"
     },
     "output_type": "display_data"
    },
    {
     "data": {
      "image/png": "[encoded data removed]",
      "text/plain": [
       "<Figure size 432x288 with 1 Axes>"
      ]
     },
     "metadata": {
      "needs_background": "light"
     },
     "output_type": "display_data"
    },
    {
     "name": "stdout",
     "output_type": "stream",
     "text": [
      "\u001b[33m \u001b[100m \u001b[1m Label Value At Index(37359) For Training Data = 9\n",
      "    Label Value At Index(6060) For Testing Data = 1 \u001b[0m\n"
     ]
    }
   ],
   "source": [
    "for j in range(5):\n",
    "    i = choice(range(60000))\n",
    "    plt.imshow(xtrain[i])\n",
    "    plt.show()\n",
    "    try:\n",
    "        k = i\n",
    "        plt.imshow(xtest[k],cmap= plt.cm.binary_r)\n",
    "    except IndexError:\n",
    "        k = choice(range(10000))\n",
    "        plt.imshow(xtest[k],cmap= plt.cm.binary_r)\n",
    "    plt.show()\n",
    "    stmnt = f'''label value at index({i}) for training data = {ytrain[i]}\n",
    "    label value at index({k}) for testing data = {ytest[k]}'''.title()\n",
    "    statement(stmnt)"
   ]
  },
  {
   "cell_type": "markdown",
   "id": "77cc4b15-cd01-4006-bade-f40e3d620d6e",
   "metadata": {},
   "source": [
    "# Reshaping the data with last point having the color setting set to grayscale"
   ]
  },
  {
   "cell_type": "code",
   "execution_count": 196,
   "id": "835b0a08-88b8-4b7d-ad0a-c27f796c3cae",
   "metadata": {},
   "outputs": [
    {
     "data": {
      "text/plain": [
       "(60000, 28, 28)"
      ]
     },
     "execution_count": 196,
     "metadata": {},
     "output_type": "execute_result"
    }
   ],
   "source": [
    "xtrain.shape"
   ]
  },
  {
   "cell_type": "code",
   "execution_count": 197,
   "id": "21f096f5-338c-4990-a7c0-486aa1f4db60",
   "metadata": {},
   "outputs": [
    {
     "name": "stdout",
     "output_type": "stream",
     "text": [
      "\u001b[33m \u001b[100m \u001b[1m Training Shape : (60000, 28, 28, 1) \u001b[0m\n",
      "\u001b[33m \u001b[100m \u001b[1m Testing Shape : (10000, 28, 28, 1) \u001b[0m\n"
     ]
    }
   ],
   "source": [
    "img = 28\n",
    "xtrain = np.array(xtrain).reshape(-1, img, img, 1)\n",
    "xtest = np.array(xtest).reshape(-1, img, img, 1)\n",
    "statement(f'training shape : {xtrain.shape}'.title())\n",
    "statement(f'testing shape : {xtest.shape}'.title())"
   ]
  },
  {
   "cell_type": "markdown",
   "id": "b7b2afe9-60c6-464b-9dd7-401d578e2735",
   "metadata": {},
   "source": [
    "# Creating A Image Generator"
   ]
  },
  {
   "cell_type": "code",
   "execution_count": 211,
   "id": "585dd1fe-3386-465f-bfbb-63444352ceaf",
   "metadata": {},
   "outputs": [],
   "source": [
    "# datagen = ImageDataGenerator(\n",
    "#         rotation_range=20,\n",
    "#         width_shift_range=0.3,\n",
    "#         height_shift_range=0.3,\n",
    "#         zoom_range=[.6,1.5],\n",
    "#         brightness_range=[0.2,1.3],\n",
    "#         shear_range=0.3\n",
    "# )\n",
    "datagen = ImageDataGenerator(\n",
    "        rotation_range=10,\n",
    "        width_shift_range=0.2,\n",
    "        height_shift_range=0.2,\n",
    "        zoom_range=[.8,1.3],\n",
    "        brightness_range=[0.2,1.3],\n",
    "        shear_range=0.2\n",
    ")\n",
    "\n",
    "\n",
    "batch1 = datagen.flow(xtrain,ytrain,batch_size=64)\n",
    "batch2 = datagen.flow(xtrain_,ytrain_,batch_size=64)\n",
    "val_batch = datagen.flow(val_x,val_y,batch_size=64)"
   ]
  },
  {
   "cell_type": "markdown",
   "id": "e7f768ac-ae8f-473b-ad12-a49473afa395",
   "metadata": {},
   "source": [
    "# Creating a convolutional neural network with 3 convolutional layers and 2 dense layer"
   ]
  },
  {
   "cell_type": "code",
   "execution_count": 237,
   "id": "587ddeac-abbe-4632-993e-066ccb9a8ed4",
   "metadata": {},
   "outputs": [
    {
     "name": "stdout",
     "output_type": "stream",
     "text": [
      "Model: \"sequential_5\"\n",
      "_________________________________________________________________\n",
      " Layer (type)                Output Shape              Param #   \n",
      "=================================================================\n",
      " conv2d_15 (Conv2D)          (None, 26, 26, 64)        640       \n",
      "                                                                 \n",
      " max_pooling2d_15 (MaxPoolin  (None, 13, 13, 64)       0         \n",
      " g2D)                                                            \n",
      "                                                                 \n",
      " conv2d_16 (Conv2D)          (None, 11, 11, 64)        36928     \n",
      "                                                                 \n",
      " max_pooling2d_16 (MaxPoolin  (None, 5, 5, 64)         0         \n",
      " g2D)                                                            \n",
      "                                                                 \n",
      " conv2d_17 (Conv2D)          (None, 3, 3, 64)          36928     \n",
      "                                                                 \n",
      " max_pooling2d_17 (MaxPoolin  (None, 1, 1, 64)         0         \n",
      " g2D)                                                            \n",
      "                                                                 \n",
      " flatten_5 (Flatten)         (None, 64)                0         \n",
      "                                                                 \n",
      " dense_15 (Dense)            (None, 64)                4160      \n",
      "                                                                 \n",
      " dense_16 (Dense)            (None, 32)                2080      \n",
      "                                                                 \n",
      " dense_17 (Dense)            (None, 10)                330       \n",
      "                                                                 \n",
      "=================================================================\n",
      "Total params: 81,066\n",
      "Trainable params: 81,066\n",
      "Non-trainable params: 0\n",
      "_________________________________________________________________\n"
     ]
    }
   ],
   "source": [
    "model = Sequential([\n",
    "    # Convolutional layers\n",
    "    Conv2D(64, (3,3), input_shape=xtrain.shape[1:], activation='relu'),\n",
    "    MaxPooling2D(2),\n",
    "    Conv2D(64, (3,3), input_shape=xtrain.shape[1:], activation='relu'),\n",
    "    MaxPooling2D(2),\n",
    "    Conv2D(64, (3,3), input_shape=xtrain.shape[1:], activation='relu'),\n",
    "    MaxPooling2D(2),\n",
    "    # Neural network\n",
    "    Flatten(),\n",
    "    # Hidden Layers\n",
    "    Dense(64,activation='relu'),\n",
    "    Dense(32,activation='relu'),\n",
    "    # Output Neuron\n",
    "    Dense(10,activation='softmax'),\n",
    "])\n",
    "model.summary()"
   ]
  },
  {
   "cell_type": "code",
   "execution_count": 241,
   "id": "104f7d18-2233-448c-865a-c39e144f92d8",
   "metadata": {},
   "outputs": [],
   "source": [
    "model.compile(loss='sparse_categorical_crossentropy', optimizer='adam', metrics='accuracy')\n",
    "model.optimizer.lr = .001"
   ]
  },
  {
   "cell_type": "code",
   "execution_count": 242,
   "id": "40a108e6-4939-4e23-b85d-446cf9d1a141",
   "metadata": {},
   "outputs": [
    {
     "name": "stderr",
     "output_type": "stream",
     "text": [
      "C:\\Users\\inder\\AppData\\Local\\Temp/ipykernel_28660/4071433199.py:1: UserWarning: `Model.fit_generator` is deprecated and will be removed in a future version. Please use `Model.fit`, which supports generators.\n",
      "  model.fit_generator(batch1,epochs=20,validation_data=val_batch)\n"
     ]
    },
    {
     "name": "stdout",
     "output_type": "stream",
     "text": [
      "Epoch 1/20\n",
      "938/938 [==============================] - 34s 36ms/step - loss: 0.9661 - accuracy: 0.7149 - val_loss: 0.9125 - val_accuracy: 0.7806\n",
      "Epoch 2/20\n",
      "938/938 [==============================] - 34s 36ms/step - loss: 0.4360 - accuracy: 0.8786 - val_loss: 0.7035 - val_accuracy: 0.8223\n",
      "Epoch 3/20\n",
      "938/938 [==============================] - 34s 36ms/step - loss: 0.3576 - accuracy: 0.8985 - val_loss: 0.6122 - val_accuracy: 0.8375\n",
      "Epoch 4/20\n",
      "938/938 [==============================] - 34s 36ms/step - loss: 0.3025 - accuracy: 0.9105 - val_loss: 0.5903 - val_accuracy: 0.8487\n",
      "Epoch 5/20\n",
      "938/938 [==============================] - 34s 36ms/step - loss: 0.2709 - accuracy: 0.9196 - val_loss: 0.5745 - val_accuracy: 0.8488\n",
      "Epoch 6/20\n",
      "938/938 [==============================] - 35s 38ms/step - loss: 0.2557 - accuracy: 0.9243 - val_loss: 0.4978 - val_accuracy: 0.8601\n",
      "Epoch 7/20\n",
      "938/938 [==============================] - 33s 35ms/step - loss: 0.2392 - accuracy: 0.9269 - val_loss: 0.5505 - val_accuracy: 0.8598\n",
      "Epoch 8/20\n",
      "938/938 [==============================] - 35s 38ms/step - loss: 0.2305 - accuracy: 0.9292 - val_loss: 0.4496 - val_accuracy: 0.8805\n",
      "Epoch 9/20\n",
      "938/938 [==============================] - 35s 37ms/step - loss: 0.2118 - accuracy: 0.9349 - val_loss: 0.4693 - val_accuracy: 0.8715\n",
      "Epoch 10/20\n",
      "938/938 [==============================] - 35s 37ms/step - loss: 0.2070 - accuracy: 0.9371 - val_loss: 0.3918 - val_accuracy: 0.8980\n",
      "Epoch 11/20\n",
      "938/938 [==============================] - 35s 37ms/step - loss: 0.1953 - accuracy: 0.9400 - val_loss: 0.4751 - val_accuracy: 0.8763\n",
      "Epoch 12/20\n",
      "938/938 [==============================] - 34s 36ms/step - loss: 0.1965 - accuracy: 0.9401 - val_loss: 0.3941 - val_accuracy: 0.8990\n",
      "Epoch 13/20\n",
      "938/938 [==============================] - 35s 38ms/step - loss: 0.1859 - accuracy: 0.9431 - val_loss: 0.4201 - val_accuracy: 0.8857\n",
      "Epoch 14/20\n",
      "938/938 [==============================] - 34s 36ms/step - loss: 0.1840 - accuracy: 0.9431 - val_loss: 0.3404 - val_accuracy: 0.8981\n",
      "Epoch 15/20\n",
      "938/938 [==============================] - 35s 37ms/step - loss: 0.1783 - accuracy: 0.9452 - val_loss: 0.5266 - val_accuracy: 0.8810\n",
      "Epoch 16/20\n",
      "938/938 [==============================] - 34s 37ms/step - loss: 0.1773 - accuracy: 0.9461 - val_loss: 0.3792 - val_accuracy: 0.8914\n",
      "Epoch 17/20\n",
      "938/938 [==============================] - 35s 38ms/step - loss: 0.1723 - accuracy: 0.9470 - val_loss: 0.4144 - val_accuracy: 0.8790\n",
      "Epoch 18/20\n",
      "938/938 [==============================] - 34s 37ms/step - loss: 0.1674 - accuracy: 0.9486 - val_loss: 0.4897 - val_accuracy: 0.8731\n",
      "Epoch 19/20\n",
      "938/938 [==============================] - 35s 37ms/step - loss: 0.1706 - accuracy: 0.9477 - val_loss: 0.3684 - val_accuracy: 0.9011\n",
      "Epoch 20/20\n",
      "938/938 [==============================] - 34s 37ms/step - loss: 0.1596 - accuracy: 0.9512 - val_loss: 0.4267 - val_accuracy: 0.8823\n"
     ]
    },
    {
     "data": {
      "text/plain": [
       "<keras.callbacks.History at 0x1bf102fa850>"
      ]
     },
     "execution_count": 242,
     "metadata": {},
     "output_type": "execute_result"
    }
   ],
   "source": [
    "model.fit_generator(batch1,epochs=20,validation_data=val_batch)"
   ]
  },
  {
   "cell_type": "code",
   "execution_count": 243,
   "id": "64e2e16b-457b-4845-97da-8fadcf18823b",
   "metadata": {},
   "outputs": [
    {
     "data": {
      "text/html": [
       "<div>\n",
       "<style scoped>\n",
       "    .dataframe tbody tr th:only-of-type {\n",
       "        vertical-align: middle;\n",
       "    }\n",
       "\n",
       "    .dataframe tbody tr th {\n",
       "        vertical-align: top;\n",
       "    }\n",
       "\n",
       "    .dataframe thead th {\n",
       "        text-align: right;\n",
       "    }\n",
       "</style>\n",
       "<table border=\"1\" class=\"dataframe\">\n",
       "  <thead>\n",
       "    <tr style=\"text-align: right;\">\n",
       "      <th></th>\n",
       "      <th>loss</th>\n",
       "      <th>accuracy</th>\n",
       "      <th>val_loss</th>\n",
       "      <th>val_accuracy</th>\n",
       "    </tr>\n",
       "  </thead>\n",
       "  <tbody>\n",
       "    <tr>\n",
       "      <th>0</th>\n",
       "      <td>0.966094</td>\n",
       "      <td>0.714867</td>\n",
       "      <td>0.912467</td>\n",
       "      <td>0.780595</td>\n",
       "    </tr>\n",
       "    <tr>\n",
       "      <th>1</th>\n",
       "      <td>0.436045</td>\n",
       "      <td>0.878600</td>\n",
       "      <td>0.703455</td>\n",
       "      <td>0.822262</td>\n",
       "    </tr>\n",
       "    <tr>\n",
       "      <th>2</th>\n",
       "      <td>0.357568</td>\n",
       "      <td>0.898483</td>\n",
       "      <td>0.612156</td>\n",
       "      <td>0.837500</td>\n",
       "    </tr>\n",
       "    <tr>\n",
       "      <th>3</th>\n",
       "      <td>0.302503</td>\n",
       "      <td>0.910550</td>\n",
       "      <td>0.590295</td>\n",
       "      <td>0.848690</td>\n",
       "    </tr>\n",
       "    <tr>\n",
       "      <th>4</th>\n",
       "      <td>0.270876</td>\n",
       "      <td>0.919550</td>\n",
       "      <td>0.574494</td>\n",
       "      <td>0.848810</td>\n",
       "    </tr>\n",
       "    <tr>\n",
       "      <th>5</th>\n",
       "      <td>0.255673</td>\n",
       "      <td>0.924267</td>\n",
       "      <td>0.497752</td>\n",
       "      <td>0.860119</td>\n",
       "    </tr>\n",
       "    <tr>\n",
       "      <th>6</th>\n",
       "      <td>0.239219</td>\n",
       "      <td>0.926933</td>\n",
       "      <td>0.550516</td>\n",
       "      <td>0.859762</td>\n",
       "    </tr>\n",
       "    <tr>\n",
       "      <th>7</th>\n",
       "      <td>0.230505</td>\n",
       "      <td>0.929200</td>\n",
       "      <td>0.449569</td>\n",
       "      <td>0.880476</td>\n",
       "    </tr>\n",
       "    <tr>\n",
       "      <th>8</th>\n",
       "      <td>0.211825</td>\n",
       "      <td>0.934883</td>\n",
       "      <td>0.469294</td>\n",
       "      <td>0.871548</td>\n",
       "    </tr>\n",
       "    <tr>\n",
       "      <th>9</th>\n",
       "      <td>0.206990</td>\n",
       "      <td>0.937117</td>\n",
       "      <td>0.391801</td>\n",
       "      <td>0.897976</td>\n",
       "    </tr>\n",
       "    <tr>\n",
       "      <th>10</th>\n",
       "      <td>0.195268</td>\n",
       "      <td>0.940000</td>\n",
       "      <td>0.475141</td>\n",
       "      <td>0.876310</td>\n",
       "    </tr>\n",
       "    <tr>\n",
       "      <th>11</th>\n",
       "      <td>0.196458</td>\n",
       "      <td>0.940100</td>\n",
       "      <td>0.394103</td>\n",
       "      <td>0.899048</td>\n",
       "    </tr>\n",
       "    <tr>\n",
       "      <th>12</th>\n",
       "      <td>0.185904</td>\n",
       "      <td>0.943150</td>\n",
       "      <td>0.420068</td>\n",
       "      <td>0.885714</td>\n",
       "    </tr>\n",
       "    <tr>\n",
       "      <th>13</th>\n",
       "      <td>0.184012</td>\n",
       "      <td>0.943100</td>\n",
       "      <td>0.340395</td>\n",
       "      <td>0.898095</td>\n",
       "    </tr>\n",
       "    <tr>\n",
       "      <th>14</th>\n",
       "      <td>0.178266</td>\n",
       "      <td>0.945250</td>\n",
       "      <td>0.526596</td>\n",
       "      <td>0.880952</td>\n",
       "    </tr>\n",
       "    <tr>\n",
       "      <th>15</th>\n",
       "      <td>0.177279</td>\n",
       "      <td>0.946117</td>\n",
       "      <td>0.379219</td>\n",
       "      <td>0.891429</td>\n",
       "    </tr>\n",
       "    <tr>\n",
       "      <th>16</th>\n",
       "      <td>0.172309</td>\n",
       "      <td>0.946967</td>\n",
       "      <td>0.414419</td>\n",
       "      <td>0.879048</td>\n",
       "    </tr>\n",
       "    <tr>\n",
       "      <th>17</th>\n",
       "      <td>0.167449</td>\n",
       "      <td>0.948600</td>\n",
       "      <td>0.489694</td>\n",
       "      <td>0.873095</td>\n",
       "    </tr>\n",
       "    <tr>\n",
       "      <th>18</th>\n",
       "      <td>0.170618</td>\n",
       "      <td>0.947667</td>\n",
       "      <td>0.368365</td>\n",
       "      <td>0.901071</td>\n",
       "    </tr>\n",
       "    <tr>\n",
       "      <th>19</th>\n",
       "      <td>0.159640</td>\n",
       "      <td>0.951217</td>\n",
       "      <td>0.426681</td>\n",
       "      <td>0.882262</td>\n",
       "    </tr>\n",
       "  </tbody>\n",
       "</table>\n",
       "</div>"
      ],
      "text/plain": [
       "        loss  accuracy  val_loss  val_accuracy\n",
       "0   0.966094  0.714867  0.912467      0.780595\n",
       "1   0.436045  0.878600  0.703455      0.822262\n",
       "2   0.357568  0.898483  0.612156      0.837500\n",
       "3   0.302503  0.910550  0.590295      0.848690\n",
       "4   0.270876  0.919550  0.574494      0.848810\n",
       "5   0.255673  0.924267  0.497752      0.860119\n",
       "6   0.239219  0.926933  0.550516      0.859762\n",
       "7   0.230505  0.929200  0.449569      0.880476\n",
       "8   0.211825  0.934883  0.469294      0.871548\n",
       "9   0.206990  0.937117  0.391801      0.897976\n",
       "10  0.195268  0.940000  0.475141      0.876310\n",
       "11  0.196458  0.940100  0.394103      0.899048\n",
       "12  0.185904  0.943150  0.420068      0.885714\n",
       "13  0.184012  0.943100  0.340395      0.898095\n",
       "14  0.178266  0.945250  0.526596      0.880952\n",
       "15  0.177279  0.946117  0.379219      0.891429\n",
       "16  0.172309  0.946967  0.414419      0.879048\n",
       "17  0.167449  0.948600  0.489694      0.873095\n",
       "18  0.170618  0.947667  0.368365      0.901071\n",
       "19  0.159640  0.951217  0.426681      0.882262"
      ]
     },
     "metadata": {},
     "output_type": "display_data"
    },
    {
     "data": {
      "text/plain": [
       "<AxesSubplot:>"
      ]
     },
     "execution_count": 243,
     "metadata": {},
     "output_type": "execute_result"
    },
    {
     "data": {
      "image/png": "[encoded data removed]",
      "text/plain": [
       "<Figure size 432x288 with 1 Axes>"
      ]
     },
     "metadata": {
      "needs_background": "light"
     },
     "output_type": "display_data"
    }
   ],
   "source": [
    "display(pd.DataFrame(model.history.history))\n",
    "pd.DataFrame(model.history.history).plot()"
   ]
  },
  {
   "cell_type": "code",
   "execution_count": 245,
   "id": "09b7e8ee-2b76-4fd0-8062-d376c66e1c1e",
   "metadata": {},
   "outputs": [
    {
     "name": "stdout",
     "output_type": "stream",
     "text": [
      "Epoch 1/20\n"
     ]
    },
    {
     "name": "stderr",
     "output_type": "stream",
     "text": [
      "C:\\Users\\inder\\AppData\\Local\\Temp/ipykernel_28660/1323228799.py:1: UserWarning: `Model.fit_generator` is deprecated and will be removed in a future version. Please use `Model.fit`, which supports generators.\n",
      "  model.fit_generator(batch2,epochs=20,validation_data=val_batch)\n"
     ]
    },
    {
     "name": "stdout",
     "output_type": "stream",
     "text": [
      "525/525 [==============================] - 21s 40ms/step - loss: 0.2899 - accuracy: 0.9128 - val_loss: 0.2551 - val_accuracy: 0.9208\n",
      "Epoch 2/20\n",
      "525/525 [==============================] - 20s 39ms/step - loss: 0.2563 - accuracy: 0.9200 - val_loss: 0.2380 - val_accuracy: 0.9250\n",
      "Epoch 3/20\n",
      "525/525 [==============================] - 21s 40ms/step - loss: 0.2469 - accuracy: 0.9246 - val_loss: 0.2326 - val_accuracy: 0.9280\n",
      "Epoch 4/20\n",
      "525/525 [==============================] - 21s 39ms/step - loss: 0.2316 - accuracy: 0.9282 - val_loss: 0.2464 - val_accuracy: 0.9237\n",
      "Epoch 5/20\n",
      "525/525 [==============================] - 21s 41ms/step - loss: 0.2267 - accuracy: 0.9302 - val_loss: 0.2370 - val_accuracy: 0.9252\n",
      "Epoch 6/20\n",
      "525/525 [==============================] - 21s 39ms/step - loss: 0.2289 - accuracy: 0.9283 - val_loss: 0.2154 - val_accuracy: 0.9321\n",
      "Epoch 7/20\n",
      "525/525 [==============================] - 21s 40ms/step - loss: 0.2180 - accuracy: 0.9319 - val_loss: 0.2297 - val_accuracy: 0.9285\n",
      "Epoch 8/20\n",
      "525/525 [==============================] - 21s 40ms/step - loss: 0.2230 - accuracy: 0.9298 - val_loss: 0.2177 - val_accuracy: 0.9344\n",
      "Epoch 9/20\n",
      "525/525 [==============================] - 21s 40ms/step - loss: 0.2249 - accuracy: 0.9299 - val_loss: 0.2172 - val_accuracy: 0.9302\n",
      "Epoch 10/20\n",
      "525/525 [==============================] - 21s 39ms/step - loss: 0.2137 - accuracy: 0.9332 - val_loss: 0.2165 - val_accuracy: 0.9335\n",
      "Epoch 11/20\n",
      "525/525 [==============================] - 22s 41ms/step - loss: 0.2214 - accuracy: 0.9317 - val_loss: 0.2203 - val_accuracy: 0.9342\n",
      "Epoch 12/20\n",
      "525/525 [==============================] - 21s 39ms/step - loss: 0.2159 - accuracy: 0.9336 - val_loss: 0.2078 - val_accuracy: 0.9357\n",
      "Epoch 13/20\n",
      "525/525 [==============================] - 21s 40ms/step - loss: 0.2107 - accuracy: 0.9340 - val_loss: 0.2139 - val_accuracy: 0.9329\n",
      "Epoch 14/20\n",
      "525/525 [==============================] - 21s 41ms/step - loss: 0.2048 - accuracy: 0.9358 - val_loss: 0.2137 - val_accuracy: 0.9363\n",
      "Epoch 15/20\n",
      "525/525 [==============================] - 21s 40ms/step - loss: 0.2099 - accuracy: 0.9355 - val_loss: 0.2059 - val_accuracy: 0.9342\n",
      "Epoch 16/20\n",
      "525/525 [==============================] - 20s 39ms/step - loss: 0.2059 - accuracy: 0.9359 - val_loss: 0.2027 - val_accuracy: 0.9387\n",
      "Epoch 17/20\n",
      "525/525 [==============================] - 21s 40ms/step - loss: 0.2050 - accuracy: 0.9357 - val_loss: 0.2118 - val_accuracy: 0.9313\n",
      "Epoch 18/20\n",
      "525/525 [==============================] - 20s 39ms/step - loss: 0.2019 - accuracy: 0.9374 - val_loss: 0.2110 - val_accuracy: 0.9349\n",
      "Epoch 19/20\n",
      "525/525 [==============================] - 21s 40ms/step - loss: 0.2001 - accuracy: 0.9388 - val_loss: 0.2183 - val_accuracy: 0.9343\n",
      "Epoch 20/20\n",
      "525/525 [==============================] - 21s 39ms/step - loss: 0.2021 - accuracy: 0.9355 - val_loss: 0.1951 - val_accuracy: 0.9401\n"
     ]
    },
    {
     "data": {
      "text/plain": [
       "<keras.callbacks.History at 0x1bfd0f1d130>"
      ]
     },
     "execution_count": 245,
     "metadata": {},
     "output_type": "execute_result"
    }
   ],
   "source": [
    "model.fit_generator(batch2,epochs=20,validation_data=val_batch)"
   ]
  },
  {
   "cell_type": "code",
   "execution_count": 246,
   "id": "33833079-0664-4ef3-ad69-4901474a8413",
   "metadata": {},
   "outputs": [
    {
     "data": {
      "text/html": [
       "<div>\n",
       "<style scoped>\n",
       "    .dataframe tbody tr th:only-of-type {\n",
       "        vertical-align: middle;\n",
       "    }\n",
       "\n",
       "    .dataframe tbody tr th {\n",
       "        vertical-align: top;\n",
       "    }\n",
       "\n",
       "    .dataframe thead th {\n",
       "        text-align: right;\n",
       "    }\n",
       "</style>\n",
       "<table border=\"1\" class=\"dataframe\">\n",
       "  <thead>\n",
       "    <tr style=\"text-align: right;\">\n",
       "      <th></th>\n",
       "      <th>loss</th>\n",
       "      <th>accuracy</th>\n",
       "      <th>val_loss</th>\n",
       "      <th>val_accuracy</th>\n",
       "    </tr>\n",
       "  </thead>\n",
       "  <tbody>\n",
       "    <tr>\n",
       "      <th>0</th>\n",
       "      <td>0.289947</td>\n",
       "      <td>0.912768</td>\n",
       "      <td>0.255149</td>\n",
       "      <td>0.920833</td>\n",
       "    </tr>\n",
       "    <tr>\n",
       "      <th>1</th>\n",
       "      <td>0.256281</td>\n",
       "      <td>0.919970</td>\n",
       "      <td>0.238011</td>\n",
       "      <td>0.925000</td>\n",
       "    </tr>\n",
       "    <tr>\n",
       "      <th>2</th>\n",
       "      <td>0.246919</td>\n",
       "      <td>0.924583</td>\n",
       "      <td>0.232586</td>\n",
       "      <td>0.927976</td>\n",
       "    </tr>\n",
       "    <tr>\n",
       "      <th>3</th>\n",
       "      <td>0.231649</td>\n",
       "      <td>0.928155</td>\n",
       "      <td>0.246382</td>\n",
       "      <td>0.923690</td>\n",
       "    </tr>\n",
       "    <tr>\n",
       "      <th>4</th>\n",
       "      <td>0.226666</td>\n",
       "      <td>0.930208</td>\n",
       "      <td>0.236998</td>\n",
       "      <td>0.925238</td>\n",
       "    </tr>\n",
       "    <tr>\n",
       "      <th>5</th>\n",
       "      <td>0.228853</td>\n",
       "      <td>0.928304</td>\n",
       "      <td>0.215445</td>\n",
       "      <td>0.932143</td>\n",
       "    </tr>\n",
       "    <tr>\n",
       "      <th>6</th>\n",
       "      <td>0.218035</td>\n",
       "      <td>0.931905</td>\n",
       "      <td>0.229727</td>\n",
       "      <td>0.928452</td>\n",
       "    </tr>\n",
       "    <tr>\n",
       "      <th>7</th>\n",
       "      <td>0.222996</td>\n",
       "      <td>0.929792</td>\n",
       "      <td>0.217725</td>\n",
       "      <td>0.934405</td>\n",
       "    </tr>\n",
       "    <tr>\n",
       "      <th>8</th>\n",
       "      <td>0.224926</td>\n",
       "      <td>0.929881</td>\n",
       "      <td>0.217155</td>\n",
       "      <td>0.930238</td>\n",
       "    </tr>\n",
       "    <tr>\n",
       "      <th>9</th>\n",
       "      <td>0.213739</td>\n",
       "      <td>0.933185</td>\n",
       "      <td>0.216541</td>\n",
       "      <td>0.933452</td>\n",
       "    </tr>\n",
       "    <tr>\n",
       "      <th>10</th>\n",
       "      <td>0.221444</td>\n",
       "      <td>0.931726</td>\n",
       "      <td>0.220303</td>\n",
       "      <td>0.934167</td>\n",
       "    </tr>\n",
       "    <tr>\n",
       "      <th>11</th>\n",
       "      <td>0.215893</td>\n",
       "      <td>0.933631</td>\n",
       "      <td>0.207769</td>\n",
       "      <td>0.935714</td>\n",
       "    </tr>\n",
       "    <tr>\n",
       "      <th>12</th>\n",
       "      <td>0.210681</td>\n",
       "      <td>0.934018</td>\n",
       "      <td>0.213904</td>\n",
       "      <td>0.932857</td>\n",
       "    </tr>\n",
       "    <tr>\n",
       "      <th>13</th>\n",
       "      <td>0.204783</td>\n",
       "      <td>0.935804</td>\n",
       "      <td>0.213676</td>\n",
       "      <td>0.936310</td>\n",
       "    </tr>\n",
       "    <tr>\n",
       "      <th>14</th>\n",
       "      <td>0.209909</td>\n",
       "      <td>0.935536</td>\n",
       "      <td>0.205905</td>\n",
       "      <td>0.934167</td>\n",
       "    </tr>\n",
       "    <tr>\n",
       "      <th>15</th>\n",
       "      <td>0.205872</td>\n",
       "      <td>0.935863</td>\n",
       "      <td>0.202722</td>\n",
       "      <td>0.938690</td>\n",
       "    </tr>\n",
       "    <tr>\n",
       "      <th>16</th>\n",
       "      <td>0.204957</td>\n",
       "      <td>0.935655</td>\n",
       "      <td>0.211846</td>\n",
       "      <td>0.931310</td>\n",
       "    </tr>\n",
       "    <tr>\n",
       "      <th>17</th>\n",
       "      <td>0.201903</td>\n",
       "      <td>0.937411</td>\n",
       "      <td>0.211029</td>\n",
       "      <td>0.934881</td>\n",
       "    </tr>\n",
       "    <tr>\n",
       "      <th>18</th>\n",
       "      <td>0.200132</td>\n",
       "      <td>0.938780</td>\n",
       "      <td>0.218322</td>\n",
       "      <td>0.934286</td>\n",
       "    </tr>\n",
       "    <tr>\n",
       "      <th>19</th>\n",
       "      <td>0.202098</td>\n",
       "      <td>0.935506</td>\n",
       "      <td>0.195071</td>\n",
       "      <td>0.940119</td>\n",
       "    </tr>\n",
       "  </tbody>\n",
       "</table>\n",
       "</div>"
      ],
      "text/plain": [
       "        loss  accuracy  val_loss  val_accuracy\n",
       "0   0.289947  0.912768  0.255149      0.920833\n",
       "1   0.256281  0.919970  0.238011      0.925000\n",
       "2   0.246919  0.924583  0.232586      0.927976\n",
       "3   0.231649  0.928155  0.246382      0.923690\n",
       "4   0.226666  0.930208  0.236998      0.925238\n",
       "5   0.228853  0.928304  0.215445      0.932143\n",
       "6   0.218035  0.931905  0.229727      0.928452\n",
       "7   0.222996  0.929792  0.217725      0.934405\n",
       "8   0.224926  0.929881  0.217155      0.930238\n",
       "9   0.213739  0.933185  0.216541      0.933452\n",
       "10  0.221444  0.931726  0.220303      0.934167\n",
       "11  0.215893  0.933631  0.207769      0.935714\n",
       "12  0.210681  0.934018  0.213904      0.932857\n",
       "13  0.204783  0.935804  0.213676      0.936310\n",
       "14  0.209909  0.935536  0.205905      0.934167\n",
       "15  0.205872  0.935863  0.202722      0.938690\n",
       "16  0.204957  0.935655  0.211846      0.931310\n",
       "17  0.201903  0.937411  0.211029      0.934881\n",
       "18  0.200132  0.938780  0.218322      0.934286\n",
       "19  0.202098  0.935506  0.195071      0.940119"
      ]
     },
     "metadata": {},
     "output_type": "display_data"
    },
    {
     "data": {
      "text/plain": [
       "<AxesSubplot:>"
      ]
     },
     "execution_count": 246,
     "metadata": {},
     "output_type": "execute_result"
    },
    {
     "data": {
      "image/png": "[encoded data removed]",
      "text/plain": [
       "<Figure size 432x288 with 1 Axes>"
      ]
     },
     "metadata": {
      "needs_background": "light"
     },
     "output_type": "display_data"
    }
   ],
   "source": [
    "display(pd.DataFrame(model.history.history))\n",
    "pd.DataFrame(model.history.history).plot()"
   ]
  },
  {
   "cell_type": "code",
   "execution_count": null,
   "id": "99f6ed3c-1d13-4e5e-8655-8f30f795ba1e",
   "metadata": {},
   "outputs": [],
   "source": [
    "model.fit_generator(batch1,epochs=20,validation_data=val_batch)"
   ]
  },
  {
   "cell_type": "code",
   "execution_count": null,
   "id": "d15b376a-5298-4466-9e63-37f8a60d4fa0",
   "metadata": {},
   "outputs": [],
   "source": [
    "display(pd.DataFrame(model.history.history))\n",
    "pd.DataFrame(model.history.history).plot()"
   ]
  },
  {
   "cell_type": "code",
   "execution_count": null,
   "id": "05726ea7-c020-47cf-aa6b-ccf57ca160a3",
   "metadata": {},
   "outputs": [],
   "source": [
    "model.fit_generator(batch2,epochs=20,validation_data=val_batch)"
   ]
  },
  {
   "cell_type": "code",
   "execution_count": null,
   "id": "f1795608-e7dc-4dac-92e6-e31d0eee9186",
   "metadata": {},
   "outputs": [],
   "source": [
    "display(pd.DataFrame(model.history.history))\n",
    "pd.DataFrame(model.history.history).plot()"
   ]
  },
  {
   "cell_type": "code",
   "execution_count": 218,
   "id": "026641c0-31d9-4386-a058-cc6edd16efd3",
   "metadata": {},
   "outputs": [],
   "source": [
    "ypred = model.predict(xtest)"
   ]
  },
  {
   "cell_type": "code",
   "execution_count": 228,
   "id": "25f494e7-49b5-41b6-9619-90aff14ed5e9",
   "metadata": {},
   "outputs": [
    {
     "data": {
      "text/plain": [
       "array([0.00143207, 0.54280657, 0.01276514, 0.01533968, 0.07414111,\n",
       "       0.12225553, 0.20572162, 0.01530631, 0.00289301, 0.00733892],\n",
       "      dtype=float32)"
      ]
     },
     "execution_count": 228,
     "metadata": {},
     "output_type": "execute_result"
    }
   ],
   "source": [
    "ypred[7]"
   ]
  },
  {
   "cell_type": "code",
   "execution_count": 244,
   "id": "0a32e28c-9d58-4b4d-ab55-6d043149dd29",
   "metadata": {},
   "outputs": [
    {
     "data": {
      "image/png": "[encoded data removed]",
      "text/plain": [
       "<Figure size 432x288 with 1 Axes>"
      ]
     },
     "metadata": {
      "needs_background": "light"
     },
     "output_type": "display_data"
    },
    {
     "name": "stdout",
     "output_type": "stream",
     "text": [
      "\u001b[33m \u001b[100m \u001b[1m The Actual Label At Index(6569) 3\n",
      "    Predicted Value At Index(6569) 1 \u001b[0m\n"
     ]
    },
    {
     "data": {
      "image/png": "[encoded data removed]",
      "text/plain": [
       "<Figure size 432x288 with 1 Axes>"
      ]
     },
     "metadata": {
      "needs_background": "light"
     },
     "output_type": "display_data"
    },
    {
     "name": "stdout",
     "output_type": "stream",
     "text": [
      "\u001b[33m \u001b[100m \u001b[1m The Actual Label At Index(9387) 0\n",
      "    Predicted Value At Index(9387) 1 \u001b[0m\n"
     ]
    },
    {
     "data": {
      "image/png": "[encoded data removed]",
      "text/plain": [
       "<Figure size 432x288 with 1 Axes>"
      ]
     },
     "metadata": {
      "needs_background": "light"
     },
     "output_type": "display_data"
    },
    {
     "name": "stdout",
     "output_type": "stream",
     "text": [
      "\u001b[33m \u001b[100m \u001b[1m The Actual Label At Index(598) 9\n",
      "    Predicted Value At Index(598) 1 \u001b[0m\n"
     ]
    },
    {
     "data": {
      "image/png": "[encoded data removed]",
      "text/plain": [
       "<Figure size 432x288 with 1 Axes>"
      ]
     },
     "metadata": {
      "needs_background": "light"
     },
     "output_type": "display_data"
    },
    {
     "name": "stdout",
     "output_type": "stream",
     "text": [
      "\u001b[33m \u001b[100m \u001b[1m The Actual Label At Index(5926) 4\n",
      "    Predicted Value At Index(5926) 1 \u001b[0m\n"
     ]
    },
    {
     "data": {
      "image/png": "[encoded data removed]",
      "text/plain": [
       "<Figure size 432x288 with 1 Axes>"
      ]
     },
     "metadata": {
      "needs_background": "light"
     },
     "output_type": "display_data"
    },
    {
     "name": "stdout",
     "output_type": "stream",
     "text": [
      "\u001b[33m \u001b[100m \u001b[1m The Actual Label At Index(4789) 8\n",
      "    Predicted Value At Index(4789) 1 \u001b[0m\n"
     ]
    }
   ],
   "source": [
    "for j in range(5):\n",
    "    i = choice(range(10000))\n",
    "    plt.imshow(xtest[i])\n",
    "    plt.show()    \n",
    "    stmnt=f'''the actual label at index({i}) {ytest[i]}\n",
    "    predicted value at index({i}) {np.argmax(ypred[i])}'''.title()\n",
    "    statement(stmnt)"
   ]
  },
  {
   "cell_type": "markdown",
   "id": "24e34f79-c23e-4459-b227-5c48c1598094",
   "metadata": {},
   "source": [
    "# The first model"
   ]
  },
  {
   "cell_type": "code",
   "execution_count": 19,
   "id": "0ed0a170-2aa5-469a-98dd-41f0244faa2a",
   "metadata": {},
   "outputs": [
    {
     "name": "stdout",
     "output_type": "stream",
     "text": [
      "313/313 [==============================] - 1s 4ms/step - loss: 0.0681 - accuracy: 0.9858\n",
      "\u001b[33m \u001b[100m \u001b[1m Test Loss On 10000 Test Smaples 0.06810879707336426 \u001b[0m\n",
      "\u001b[33m \u001b[100m \u001b[1m Validation Accuracy On 10000 Test Smaples 98.580002784729 \u001b[0m\n"
     ]
    }
   ],
   "source": [
    "test_loss, test_acc = model.evaluate(xtest,ytest)\n",
    "statement(f'test loss on {len(xtest)} test smaples {test_loss}'.title())\n",
    "statement(f'validation accuracy on {len(xtest)} test smaples {test_acc*100}'.title())"
   ]
  },
  {
   "cell_type": "code",
   "execution_count": 20,
   "id": "a25885ab-3841-48fe-b127-ad6735ebb737",
   "metadata": {},
   "outputs": [
    {
     "name": "stdout",
     "output_type": "stream",
     "text": [
      "INFO:tensorflow:Assets written to: model\\assets\n"
     ]
    }
   ],
   "source": [
    "model.save('./Digit Identification/model')"
   ]
  },
  {
   "cell_type": "code",
   "execution_count": 122,
   "id": "594f373b-42cc-4f68-8ac8-2f7e79654514",
   "metadata": {},
   "outputs": [
    {
     "name": "stdout",
     "output_type": "stream",
     "text": [
      "(60000, 28, 28) (60000,)\n",
      "xtrain1 shape: (60000, 28, 28, 1)\n",
      "60000 train samples\n",
      "10000 test samples\n"
     ]
    }
   ],
   "source": [
    "batch_size = 128\n",
    "num_classes = 10\n",
    "epochs = 10\n",
    "\n",
    "(xtrain1, ytrain1), (xtest1, ytest1) = mnist.load_data()\n",
    "print(xtrain1.shape, ytrain1.shape)\n",
    "\n",
    "xtrain1 = xtrain1.reshape(xtrain1.shape[0], 28, 28, 1)\n",
    "xtest1 = xtest1.reshape(xtest1.shape[0], 28, 28, 1)\n",
    "input_shape = (28, 28, 1)\n",
    "\n",
    "ytrain1 = tf.keras.utils.to_categorical(ytrain1, num_classes)\n",
    "ytest1 = tf.keras.utils.to_categorical(ytest1, num_classes)\n",
    "xtrain1 = xtrain1.astype('float32')\n",
    "xtest1 = xtest1.astype('float32')\n",
    "xtrain1 /= 255\n",
    "xtest1 /= 255\n",
    "print('xtrain1 shape:', xtrain1.shape)\n",
    "print(xtrain1.shape[0], 'train samples')\n",
    "print(xtest1.shape[0], 'test samples')"
   ]
  },
  {
   "cell_type": "markdown",
   "id": "e3f16509-f32a-4e20-84f1-5d79ef234a58",
   "metadata": {},
   "source": [
    "# A model with 2 convolutional layers and 1 dense layer"
   ]
  },
  {
   "cell_type": "code",
   "execution_count": 22,
   "id": "54072d7d-2d5c-4b6b-b180-f35728637eb7",
   "metadata": {},
   "outputs": [
    {
     "name": "stdout",
     "output_type": "stream",
     "text": [
      "Model: \"sequential_1\"\n",
      "_________________________________________________________________\n",
      " Layer (type)                Output Shape              Param #   \n",
      "=================================================================\n",
      " conv2d_3 (Conv2D)           (None, 26, 26, 32)        320       \n",
      "                                                                 \n",
      " conv2d_4 (Conv2D)           (None, 24, 24, 64)        18496     \n",
      "                                                                 \n",
      " max_pooling2d_3 (MaxPooling  (None, 12, 12, 64)       0         \n",
      " 2D)                                                             \n",
      "                                                                 \n",
      " dropout (Dropout)           (None, 12, 12, 64)        0         \n",
      "                                                                 \n",
      " flatten_1 (Flatten)         (None, 9216)              0         \n",
      "                                                                 \n",
      " dense_3 (Dense)             (None, 256)               2359552   \n",
      "                                                                 \n",
      " dropout_1 (Dropout)         (None, 256)               0         \n",
      "                                                                 \n",
      " dense_4 (Dense)             (None, 10)                2570      \n",
      "                                                                 \n",
      "=================================================================\n",
      "Total params: 2,380,938\n",
      "Trainable params: 2,380,938\n",
      "Non-trainable params: 0\n",
      "_________________________________________________________________\n"
     ]
    }
   ],
   "source": [
    "model1 = Sequential([\n",
    "(Conv2D(32, kernel_size=(3, 3),activation='relu',input_shape=xtrain1.shape[1:])),\n",
    "(Conv2D(64, (3, 3), activation='relu')),\n",
    "(MaxPooling2D(pool_size=(2, 2))),\n",
    "(Dropout(0.25)),\n",
    "(Flatten()),\n",
    "(Dense(256, activation='relu')),\n",
    "(Dropout(0.5)),\n",
    "(Dense(num_classes, activation='softmax')),\n",
    "])\n",
    "model1.summary()"
   ]
  },
  {
   "cell_type": "code",
   "execution_count": 23,
   "id": "dafe2462-25f3-492b-9074-96f32bc5bf5d",
   "metadata": {},
   "outputs": [
    {
     "name": "stdout",
     "output_type": "stream",
     "text": [
      "Epoch 1/20\n",
      "469/469 [==============================] - 39s 82ms/step - loss: 2.2740 - accuracy: 0.1674 - val_loss: 2.2279 - val_accuracy: 0.4276\n",
      "Epoch 2/20\n",
      "469/469 [==============================] - 38s 82ms/step - loss: 2.1949 - accuracy: 0.3257 - val_loss: 2.1287 - val_accuracy: 0.6034\n",
      "Epoch 3/20\n",
      "469/469 [==============================] - 39s 82ms/step - loss: 2.0868 - accuracy: 0.4547 - val_loss: 1.9823 - val_accuracy: 0.6912\n",
      "Epoch 4/20\n",
      "469/469 [==============================] - 39s 82ms/step - loss: 1.9237 - accuracy: 0.5486 - val_loss: 1.7704 - val_accuracy: 0.7372\n",
      "Epoch 5/20\n",
      "469/469 [==============================] - 39s 83ms/step - loss: 1.7083 - accuracy: 0.6038 - val_loss: 1.5032 - val_accuracy: 0.7622\n",
      "Epoch 6/20\n",
      "469/469 [==============================] - 38s 81ms/step - loss: 1.4644 - accuracy: 0.6484 - val_loss: 1.2289 - val_accuracy: 0.7877\n",
      "Epoch 7/20\n",
      "469/469 [==============================] - 38s 80ms/step - loss: 1.2432 - accuracy: 0.6814 - val_loss: 1.0056 - val_accuracy: 0.8055\n",
      "Epoch 8/20\n",
      "469/469 [==============================] - 38s 80ms/step - loss: 1.0745 - accuracy: 0.7075 - val_loss: 0.8447 - val_accuracy: 0.8208\n",
      "Epoch 9/20\n",
      "469/469 [==============================] - 38s 80ms/step - loss: 0.9545 - accuracy: 0.7308 - val_loss: 0.7331 - val_accuracy: 0.8327\n",
      "Epoch 10/20\n",
      "469/469 [==============================] - 38s 80ms/step - loss: 0.8634 - accuracy: 0.7488 - val_loss: 0.6536 - val_accuracy: 0.8443\n",
      "Epoch 11/20\n",
      "469/469 [==============================] - 38s 80ms/step - loss: 0.7984 - accuracy: 0.7617 - val_loss: 0.5958 - val_accuracy: 0.8535\n",
      "Epoch 12/20\n",
      "469/469 [==============================] - 37s 80ms/step - loss: 0.7471 - accuracy: 0.7748 - val_loss: 0.5510 - val_accuracy: 0.8608\n",
      "Epoch 13/20\n",
      "469/469 [==============================] - 38s 80ms/step - loss: 0.7079 - accuracy: 0.7847 - val_loss: 0.5165 - val_accuracy: 0.8686\n",
      "Epoch 14/20\n",
      "469/469 [==============================] - 37s 80ms/step - loss: 0.6722 - accuracy: 0.7952 - val_loss: 0.4883 - val_accuracy: 0.8736\n",
      "Epoch 15/20\n",
      "469/469 [==============================] - 37s 80ms/step - loss: 0.6427 - accuracy: 0.8038 - val_loss: 0.4653 - val_accuracy: 0.8785\n",
      "Epoch 16/20\n",
      "469/469 [==============================] - 37s 80ms/step - loss: 0.6170 - accuracy: 0.8099 - val_loss: 0.4459 - val_accuracy: 0.8829\n",
      "Epoch 17/20\n",
      "469/469 [==============================] - 37s 80ms/step - loss: 0.5996 - accuracy: 0.8167 - val_loss: 0.4292 - val_accuracy: 0.8864\n",
      "Epoch 18/20\n",
      "469/469 [==============================] - 37s 79ms/step - loss: 0.5819 - accuracy: 0.8227 - val_loss: 0.4157 - val_accuracy: 0.8890\n",
      "Epoch 19/20\n",
      "469/469 [==============================] - 37s 79ms/step - loss: 0.5612 - accuracy: 0.8295 - val_loss: 0.4028 - val_accuracy: 0.8912\n",
      "Epoch 20/20\n",
      "469/469 [==============================] - 37s 79ms/step - loss: 0.5504 - accuracy: 0.8317 - val_loss: 0.3920 - val_accuracy: 0.8929\n"
     ]
    }
   ],
   "source": [
    "# model.compile(loss='categorical_crossentropy', optimizer='adam', metrics='accuracy')\n",
    "# model.fit(xtrain1,ytrain1,epochs=5,validation_split=.3)\n",
    "model1.compile(loss=tf.keras.losses.categorical_crossentropy,optimizer=tf.keras.optimizers.Adadelta(),metrics=['accuracy'])\n",
    "hist = model1.fit(xtrain1, ytrain1,batch_size=batch_size,epochs=20,verbose=1,validation_data=(xtest1, ytest1))"
   ]
  },
  {
   "cell_type": "code",
   "execution_count": 24,
   "id": "e87059c6-ce86-4862-8e6b-58f8550115f7",
   "metadata": {},
   "outputs": [
    {
     "data": {
      "text/html": [
       "<div>\n",
       "<style scoped>\n",
       "    .dataframe tbody tr th:only-of-type {\n",
       "        vertical-align: middle;\n",
       "    }\n",
       "\n",
       "    .dataframe tbody tr th {\n",
       "        vertical-align: top;\n",
       "    }\n",
       "\n",
       "    .dataframe thead th {\n",
       "        text-align: right;\n",
       "    }\n",
       "</style>\n",
       "<table border=\"1\" class=\"dataframe\">\n",
       "  <thead>\n",
       "    <tr style=\"text-align: right;\">\n",
       "      <th></th>\n",
       "      <th>loss</th>\n",
       "      <th>accuracy</th>\n",
       "      <th>val_loss</th>\n",
       "      <th>val_accuracy</th>\n",
       "    </tr>\n",
       "  </thead>\n",
       "  <tbody>\n",
       "    <tr>\n",
       "      <th>0</th>\n",
       "      <td>2.273957</td>\n",
       "      <td>0.167433</td>\n",
       "      <td>2.227886</td>\n",
       "      <td>0.4276</td>\n",
       "    </tr>\n",
       "    <tr>\n",
       "      <th>1</th>\n",
       "      <td>2.194861</td>\n",
       "      <td>0.325750</td>\n",
       "      <td>2.128700</td>\n",
       "      <td>0.6034</td>\n",
       "    </tr>\n",
       "    <tr>\n",
       "      <th>2</th>\n",
       "      <td>2.086833</td>\n",
       "      <td>0.454667</td>\n",
       "      <td>1.982253</td>\n",
       "      <td>0.6912</td>\n",
       "    </tr>\n",
       "    <tr>\n",
       "      <th>3</th>\n",
       "      <td>1.923714</td>\n",
       "      <td>0.548567</td>\n",
       "      <td>1.770426</td>\n",
       "      <td>0.7372</td>\n",
       "    </tr>\n",
       "    <tr>\n",
       "      <th>4</th>\n",
       "      <td>1.708276</td>\n",
       "      <td>0.603767</td>\n",
       "      <td>1.503237</td>\n",
       "      <td>0.7622</td>\n",
       "    </tr>\n",
       "    <tr>\n",
       "      <th>5</th>\n",
       "      <td>1.464406</td>\n",
       "      <td>0.648350</td>\n",
       "      <td>1.228917</td>\n",
       "      <td>0.7877</td>\n",
       "    </tr>\n",
       "    <tr>\n",
       "      <th>6</th>\n",
       "      <td>1.243248</td>\n",
       "      <td>0.681367</td>\n",
       "      <td>1.005592</td>\n",
       "      <td>0.8055</td>\n",
       "    </tr>\n",
       "    <tr>\n",
       "      <th>7</th>\n",
       "      <td>1.074500</td>\n",
       "      <td>0.707500</td>\n",
       "      <td>0.844664</td>\n",
       "      <td>0.8208</td>\n",
       "    </tr>\n",
       "    <tr>\n",
       "      <th>8</th>\n",
       "      <td>0.954472</td>\n",
       "      <td>0.730783</td>\n",
       "      <td>0.733101</td>\n",
       "      <td>0.8327</td>\n",
       "    </tr>\n",
       "    <tr>\n",
       "      <th>9</th>\n",
       "      <td>0.863376</td>\n",
       "      <td>0.748817</td>\n",
       "      <td>0.653638</td>\n",
       "      <td>0.8443</td>\n",
       "    </tr>\n",
       "    <tr>\n",
       "      <th>10</th>\n",
       "      <td>0.798366</td>\n",
       "      <td>0.761650</td>\n",
       "      <td>0.595753</td>\n",
       "      <td>0.8535</td>\n",
       "    </tr>\n",
       "    <tr>\n",
       "      <th>11</th>\n",
       "      <td>0.747133</td>\n",
       "      <td>0.774817</td>\n",
       "      <td>0.551010</td>\n",
       "      <td>0.8608</td>\n",
       "    </tr>\n",
       "    <tr>\n",
       "      <th>12</th>\n",
       "      <td>0.707936</td>\n",
       "      <td>0.784717</td>\n",
       "      <td>0.516491</td>\n",
       "      <td>0.8686</td>\n",
       "    </tr>\n",
       "    <tr>\n",
       "      <th>13</th>\n",
       "      <td>0.672183</td>\n",
       "      <td>0.795200</td>\n",
       "      <td>0.488304</td>\n",
       "      <td>0.8736</td>\n",
       "    </tr>\n",
       "    <tr>\n",
       "      <th>14</th>\n",
       "      <td>0.642740</td>\n",
       "      <td>0.803817</td>\n",
       "      <td>0.465278</td>\n",
       "      <td>0.8785</td>\n",
       "    </tr>\n",
       "    <tr>\n",
       "      <th>15</th>\n",
       "      <td>0.617029</td>\n",
       "      <td>0.809900</td>\n",
       "      <td>0.445890</td>\n",
       "      <td>0.8829</td>\n",
       "    </tr>\n",
       "    <tr>\n",
       "      <th>16</th>\n",
       "      <td>0.599590</td>\n",
       "      <td>0.816700</td>\n",
       "      <td>0.429205</td>\n",
       "      <td>0.8864</td>\n",
       "    </tr>\n",
       "    <tr>\n",
       "      <th>17</th>\n",
       "      <td>0.581925</td>\n",
       "      <td>0.822650</td>\n",
       "      <td>0.415665</td>\n",
       "      <td>0.8890</td>\n",
       "    </tr>\n",
       "    <tr>\n",
       "      <th>18</th>\n",
       "      <td>0.561228</td>\n",
       "      <td>0.829483</td>\n",
       "      <td>0.402752</td>\n",
       "      <td>0.8912</td>\n",
       "    </tr>\n",
       "    <tr>\n",
       "      <th>19</th>\n",
       "      <td>0.550407</td>\n",
       "      <td>0.831667</td>\n",
       "      <td>0.392047</td>\n",
       "      <td>0.8929</td>\n",
       "    </tr>\n",
       "  </tbody>\n",
       "</table>\n",
       "</div>"
      ],
      "text/plain": [
       "        loss  accuracy  val_loss  val_accuracy\n",
       "0   2.273957  0.167433  2.227886        0.4276\n",
       "1   2.194861  0.325750  2.128700        0.6034\n",
       "2   2.086833  0.454667  1.982253        0.6912\n",
       "3   1.923714  0.548567  1.770426        0.7372\n",
       "4   1.708276  0.603767  1.503237        0.7622\n",
       "5   1.464406  0.648350  1.228917        0.7877\n",
       "6   1.243248  0.681367  1.005592        0.8055\n",
       "7   1.074500  0.707500  0.844664        0.8208\n",
       "8   0.954472  0.730783  0.733101        0.8327\n",
       "9   0.863376  0.748817  0.653638        0.8443\n",
       "10  0.798366  0.761650  0.595753        0.8535\n",
       "11  0.747133  0.774817  0.551010        0.8608\n",
       "12  0.707936  0.784717  0.516491        0.8686\n",
       "13  0.672183  0.795200  0.488304        0.8736\n",
       "14  0.642740  0.803817  0.465278        0.8785\n",
       "15  0.617029  0.809900  0.445890        0.8829\n",
       "16  0.599590  0.816700  0.429205        0.8864\n",
       "17  0.581925  0.822650  0.415665        0.8890\n",
       "18  0.561228  0.829483  0.402752        0.8912\n",
       "19  0.550407  0.831667  0.392047        0.8929"
      ]
     },
     "execution_count": 24,
     "metadata": {},
     "output_type": "execute_result"
    }
   ],
   "source": [
    "display(pd.DataFrame(model.history.history))\n",
    "pd.DataFrame(model1.history.history).plot"
   ]
  },
  {
   "cell_type": "markdown",
   "id": "76a2051b-538a-4dd2-9249-3ab5d27799f0",
   "metadata": {},
   "source": [
    "# Second model"
   ]
  },
  {
   "cell_type": "code",
   "execution_count": 25,
   "id": "b0f289e9-9965-497c-97ca-12e770f03b30",
   "metadata": {},
   "outputs": [
    {
     "name": "stdout",
     "output_type": "stream",
     "text": [
      "Test loss: 0.3920471668243408\n",
      "Test accuracy: 0.8928999900817871\n"
     ]
    }
   ],
   "source": [
    "score = model1.evaluate(xtest1, ytest1, verbose=0)\n",
    "print('Test loss:', score[0])\n",
    "print('Test accuracy:', score[1])"
   ]
  },
  {
   "cell_type": "code",
   "execution_count": 26,
   "id": "cc5289a5-dbd3-485a-80ce-860b7d43e0f4",
   "metadata": {},
   "outputs": [
    {
     "name": "stdout",
     "output_type": "stream",
     "text": [
      "INFO:tensorflow:Assets written to: tkinter_model\\assets\n"
     ]
    }
   ],
   "source": [
    "model1.save('./Digit Identification/tkinter_model')"
   ]
  },
  {
   "cell_type": "code",
   "execution_count": 27,
   "id": "a5843f41-ed62-43ee-b2fe-9c679e8e0f03",
   "metadata": {},
   "outputs": [],
   "source": [
    "def predict(file,model,frame_speed=1):\n",
    "    preds = []\n",
    "    ext = file.split('.')[-1]\n",
    "    if ext in 'mp4,ts'.split(','):\n",
    "        font = cv2.FONT_HERSHEY_SCRIPT_COMPLEX\n",
    "        size = 1.5\n",
    "\n",
    "        vid = cv2.VideoCapture(file)\n",
    "\n",
    "        if not vid.isOpened():\n",
    "            vid = cv2.VideoCapture(0)\n",
    "        if not vid.isOpened():\n",
    "            raise IOError('File Not Open')\n",
    "\n",
    "        text = 'some text in a box!'.title()\n",
    "        text_width,text_height=cv2.getTextSize(text,font,fontScale=size,thickness=1)[0]\n",
    "\n",
    "\n",
    "        counter = 0\n",
    "        while True:\n",
    "            ret, frame = vid.read()\n",
    "            counter+=1;\n",
    "            if (counter%frame_speed)==0:\n",
    "                try:\n",
    "                    gray = cv2.cvtColor(frame,cv2.COLOR_BGR2GRAY)\n",
    "                except:\n",
    "                    break\n",
    "                resized = cv2.resize(gray,(28,28),interpolation=cv2.INTER_AREA)\n",
    "\n",
    "                # txt_off_x = 5\n",
    "                # txt_off_y = gray.shape[0]-25\n",
    "                # box = ((txt_off_x,txt_off_y), (txt_off_x+text_width+1,txt_off_y-text_height-5))\n",
    "\n",
    "                img = tf.keras.utils.normalize(resized)\n",
    "                img = np.array(img).reshape(-1,28,28,1)\n",
    "                pred = model.predict(img)\n",
    "                status = np.argmax(pred)\n",
    "                # print(status)\n",
    "                # print(type(status))\n",
    "                preds.append(status)\n",
    "                x1,y1,w1,h1 = 0,0,175,175\n",
    "                cv2.rectangle(frame,(x1,x1),(x1+100,y1+100),(0,0,0),-1)\n",
    "                cv2.putText(frame,status.astype(str),(x1+int(w1/5),y1+int(h1/2)),cv2.FONT_HERSHEY_SCRIPT_COMPLEX,.7,(0,0,255),2)\n",
    "\n",
    "                cv2.imshow('handwritten digits recognition',frame)\n",
    "\n",
    "                if cv2.waitKey(2)&0xFF==ord('q'):\n",
    "                    break\n",
    "        vid.release()\n",
    "        cv2.destroyAllWindows()\n",
    "        return preds\n",
    "    \n",
    "    elif ext in 'png,jpeg'.split(','):\n",
    "        img = cv2.imread(file)\n",
    "        plt.imshow(img)\n",
    "        plt.show()\n",
    "        img = cv2.cvtColor(img,cv2.COLOR_BGR2GRAY)\n",
    "        plt.imshow(img)\n",
    "        plt.show()\n",
    "        img = cv2.resize(img,(28,28),interpolation=cv2.INTER_AREA)\n",
    "        plt.imshow(img)\n",
    "        plt.show()\n",
    "        img = tf.keras.utils.normalize(img)\n",
    "        img = np.array(img).reshape(-1,28,28,1)\n",
    "        pred = model.predict(img)\n",
    "        print('the model identified the digit in the image as'.title(),end='')\n",
    "        statement(np.argmax(pred))"
   ]
  },
  {
   "cell_type": "markdown",
   "id": "7091eb9b-3c38-4cee-aae9-af480bb3ec04",
   "metadata": {},
   "source": [
    "# A small demonsteration"
   ]
  },
  {
   "cell_type": "code",
   "execution_count": 35,
   "id": "c92bd4c2-d271-4650-98f3-e4b6a3f822ed",
   "metadata": {},
   "outputs": [
    {
     "data": {
      "image/png": "[encoded data removed]",
      "text/plain": [
       "<Figure size 432x288 with 1 Axes>"
      ]
     },
     "metadata": {
      "needs_background": "light"
     },
     "output_type": "display_data"
    },
    {
     "data": {
      "image/png": "[encoded data removed]",
      "text/plain": [
       "<Figure size 432x288 with 1 Axes>"
      ]
     },
     "metadata": {
      "needs_background": "light"
     },
     "output_type": "display_data"
    },
    {
     "data": {
      "image/png": "[encoded data removed]",
      "text/plain": [
       "<Figure size 432x288 with 1 Axes>"
      ]
     },
     "metadata": {
      "needs_background": "light"
     },
     "output_type": "display_data"
    },
    {
     "name": "stdout",
     "output_type": "stream",
     "text": [
      "The Model Identified The Digit In The Image As\u001b[33m \u001b[100m \u001b[1m 2 \u001b[0m\n"
     ]
    }
   ],
   "source": [
    "predict('./myImage/2.png',model,frame_speed=1)"
   ]
  },
  {
   "cell_type": "code",
   "execution_count": 37,
   "id": "78c31af0-8e1c-4ef7-a59c-40bd888733af",
   "metadata": {},
   "outputs": [
    {
     "data": {
      "text/plain": [
       "[0,\n",
       " 0,\n",
       " 0,\n",
       " 0,\n",
       " 0,\n",
       " 0,\n",
       " 0,\n",
       " 0,\n",
       " 0,\n",
       " 0,\n",
       " 0,\n",
       " 0,\n",
       " 0,\n",
       " 0,\n",
       " 0,\n",
       " 0,\n",
       " 0,\n",
       " 0,\n",
       " 0,\n",
       " 0,\n",
       " 0,\n",
       " 1,\n",
       " 1,\n",
       " 1,\n",
       " 1,\n",
       " 1,\n",
       " 1,\n",
       " 1,\n",
       " 1,\n",
       " 1,\n",
       " 1,\n",
       " 1,\n",
       " 1,\n",
       " 1,\n",
       " 1,\n",
       " 0,\n",
       " 0,\n",
       " 0,\n",
       " 0,\n",
       " 0,\n",
       " 0,\n",
       " 0,\n",
       " 0,\n",
       " 2,\n",
       " 1,\n",
       " 1,\n",
       " 2,\n",
       " 2,\n",
       " 2,\n",
       " 3,\n",
       " 2,\n",
       " 2,\n",
       " 2,\n",
       " 2,\n",
       " 2,\n",
       " 2,\n",
       " 2,\n",
       " 2,\n",
       " 2,\n",
       " 2,\n",
       " 2,\n",
       " 2,\n",
       " 2,\n",
       " 2,\n",
       " 2,\n",
       " 2,\n",
       " 0,\n",
       " 0,\n",
       " 0,\n",
       " 0,\n",
       " 0,\n",
       " 0,\n",
       " 0,\n",
       " 0,\n",
       " 0,\n",
       " 0,\n",
       " 0,\n",
       " 1,\n",
       " 1,\n",
       " 7,\n",
       " 7,\n",
       " 3,\n",
       " 3,\n",
       " 3,\n",
       " 3,\n",
       " 3,\n",
       " 3,\n",
       " 3,\n",
       " 3,\n",
       " 3,\n",
       " 3,\n",
       " 3,\n",
       " 3,\n",
       " 3,\n",
       " 3,\n",
       " 0,\n",
       " 0,\n",
       " 0,\n",
       " 0,\n",
       " 0,\n",
       " 0,\n",
       " 0,\n",
       " 0,\n",
       " 0,\n",
       " 0,\n",
       " 1,\n",
       " 1,\n",
       " 2,\n",
       " 2,\n",
       " 2,\n",
       " 2,\n",
       " 2,\n",
       " 7,\n",
       " 5,\n",
       " 4,\n",
       " 4,\n",
       " 4,\n",
       " 4,\n",
       " 4,\n",
       " 4,\n",
       " 4,\n",
       " 4,\n",
       " 4,\n",
       " 4,\n",
       " 4,\n",
       " 4,\n",
       " 4,\n",
       " 4,\n",
       " 0,\n",
       " 0,\n",
       " 0,\n",
       " 0,\n",
       " 0,\n",
       " 0,\n",
       " 0,\n",
       " 0,\n",
       " 0,\n",
       " 0,\n",
       " 0,\n",
       " 0,\n",
       " 2,\n",
       " 1,\n",
       " 1,\n",
       " 1,\n",
       " 6,\n",
       " 6,\n",
       " 6,\n",
       " 6,\n",
       " 6,\n",
       " 6,\n",
       " 6,\n",
       " 6,\n",
       " 5,\n",
       " 5,\n",
       " 5,\n",
       " 5,\n",
       " 5,\n",
       " 0,\n",
       " 0,\n",
       " 0,\n",
       " 0,\n",
       " 0,\n",
       " 0,\n",
       " 0,\n",
       " 0,\n",
       " 0,\n",
       " 0,\n",
       " 0,\n",
       " 1,\n",
       " 1,\n",
       " 1,\n",
       " 7,\n",
       " 7,\n",
       " 7,\n",
       " 3,\n",
       " 7,\n",
       " 7,\n",
       " 7,\n",
       " 7,\n",
       " 7,\n",
       " 7,\n",
       " 7,\n",
       " 7,\n",
       " 0,\n",
       " 0,\n",
       " 0,\n",
       " 0,\n",
       " 0,\n",
       " 0,\n",
       " 0,\n",
       " 0,\n",
       " 0,\n",
       " 0,\n",
       " 7,\n",
       " 0,\n",
       " 6,\n",
       " 6,\n",
       " 5,\n",
       " 5,\n",
       " 5,\n",
       " 5,\n",
       " 5,\n",
       " 5,\n",
       " 5,\n",
       " 5,\n",
       " 5,\n",
       " 5,\n",
       " 5,\n",
       " 5,\n",
       " 5,\n",
       " 8,\n",
       " 8,\n",
       " 8,\n",
       " 8,\n",
       " 8,\n",
       " 8,\n",
       " 8,\n",
       " 8,\n",
       " 8,\n",
       " 8,\n",
       " 8,\n",
       " 8,\n",
       " 0,\n",
       " 0,\n",
       " 0,\n",
       " 0,\n",
       " 0,\n",
       " 0,\n",
       " 0,\n",
       " 0,\n",
       " 0,\n",
       " 1,\n",
       " 7,\n",
       " 0,\n",
       " 3,\n",
       " 2,\n",
       " 2,\n",
       " 2,\n",
       " 2,\n",
       " 2,\n",
       " 2,\n",
       " 3,\n",
       " 3,\n",
       " 3,\n",
       " 3,\n",
       " 3,\n",
       " 3,\n",
       " 3,\n",
       " 3,\n",
       " 3,\n",
       " 0,\n",
       " 0,\n",
       " 0,\n",
       " 0,\n",
       " 0,\n",
       " 0,\n",
       " 0,\n",
       " 0,\n",
       " 0,\n",
       " 0,\n",
       " 0,\n",
       " 0,\n",
       " 0,\n",
       " 0,\n",
       " 0,\n",
       " 0,\n",
       " 0,\n",
       " 0,\n",
       " 0,\n",
       " 0,\n",
       " 4,\n",
       " 4,\n",
       " 1,\n",
       " 1,\n",
       " 7,\n",
       " 7,\n",
       " 7,\n",
       " 7,\n",
       " 7,\n",
       " 7,\n",
       " 7,\n",
       " 0,\n",
       " 0,\n",
       " 0,\n",
       " 0,\n",
       " 0,\n",
       " 0,\n",
       " 0,\n",
       " 0,\n",
       " 0,\n",
       " 0,\n",
       " 0,\n",
       " 0,\n",
       " 0,\n",
       " 0,\n",
       " 0,\n",
       " 0,\n",
       " 0,\n",
       " 0,\n",
       " 0,\n",
       " 0,\n",
       " 0,\n",
       " 0,\n",
       " 0,\n",
       " 0,\n",
       " 0,\n",
       " 0,\n",
       " 0,\n",
       " 7,\n",
       " 7,\n",
       " 7,\n",
       " 7,\n",
       " 7,\n",
       " 5,\n",
       " 5,\n",
       " 5,\n",
       " 5,\n",
       " 5,\n",
       " 5,\n",
       " 5,\n",
       " 5,\n",
       " 5,\n",
       " 5,\n",
       " 5,\n",
       " 5,\n",
       " 5,\n",
       " 0,\n",
       " 0,\n",
       " 0,\n",
       " 0,\n",
       " 0,\n",
       " 0,\n",
       " 4,\n",
       " 4,\n",
       " 1,\n",
       " 7,\n",
       " 7,\n",
       " 7,\n",
       " 7,\n",
       " 7,\n",
       " 7,\n",
       " 7,\n",
       " 7,\n",
       " 7,\n",
       " 7,\n",
       " 7,\n",
       " 7,\n",
       " 7,\n",
       " 7,\n",
       " 7,\n",
       " 7,\n",
       " 0,\n",
       " 0,\n",
       " 0,\n",
       " 0,\n",
       " 0,\n",
       " 0,\n",
       " 0,\n",
       " 0,\n",
       " 0,\n",
       " 7,\n",
       " 7,\n",
       " 2,\n",
       " 5,\n",
       " 5,\n",
       " 5,\n",
       " 5,\n",
       " 5,\n",
       " 5,\n",
       " 5,\n",
       " 8,\n",
       " 8,\n",
       " 8,\n",
       " 8,\n",
       " 8,\n",
       " 8,\n",
       " 8,\n",
       " 0,\n",
       " 0,\n",
       " 0,\n",
       " 0,\n",
       " 0,\n",
       " 0,\n",
       " 0,\n",
       " 0,\n",
       " 0,\n",
       " 7,\n",
       " 7,\n",
       " 7,\n",
       " 5,\n",
       " 8,\n",
       " 2,\n",
       " 9,\n",
       " 9,\n",
       " 9,\n",
       " 9,\n",
       " 9,\n",
       " 9,\n",
       " 9,\n",
       " 0,\n",
       " 0,\n",
       " 0,\n",
       " 0,\n",
       " 0,\n",
       " 0,\n",
       " 0,\n",
       " 0,\n",
       " 0,\n",
       " 0,\n",
       " 0,\n",
       " 0,\n",
       " 0,\n",
       " 0,\n",
       " 0,\n",
       " 0,\n",
       " 0,\n",
       " 0,\n",
       " 0,\n",
       " 0,\n",
       " 7,\n",
       " 1,\n",
       " 1,\n",
       " 7,\n",
       " 7,\n",
       " 7,\n",
       " 3,\n",
       " 3,\n",
       " 3,\n",
       " 3,\n",
       " 3,\n",
       " 3,\n",
       " 3,\n",
       " 3,\n",
       " 0,\n",
       " 0,\n",
       " 0,\n",
       " 0,\n",
       " 0,\n",
       " 0,\n",
       " 1,\n",
       " 1,\n",
       " 1,\n",
       " 7,\n",
       " 3,\n",
       " 2,\n",
       " 2,\n",
       " 2,\n",
       " 2,\n",
       " 2,\n",
       " 2,\n",
       " 2,\n",
       " 2,\n",
       " 0,\n",
       " 0,\n",
       " 0,\n",
       " 0,\n",
       " 0,\n",
       " 0,\n",
       " 0,\n",
       " 0,\n",
       " 0,\n",
       " 0,\n",
       " 0,\n",
       " 0,\n",
       " 0,\n",
       " 0,\n",
       " 4,\n",
       " 4,\n",
       " 1,\n",
       " 1,\n",
       " 1,\n",
       " 1,\n",
       " 1,\n",
       " 1,\n",
       " 1,\n",
       " 1,\n",
       " 1,\n",
       " 1,\n",
       " 1,\n",
       " 1,\n",
       " 1,\n",
       " 1,\n",
       " 1,\n",
       " 1,\n",
       " 1,\n",
       " 1,\n",
       " 1,\n",
       " 1,\n",
       " 1,\n",
       " 1,\n",
       " 1,\n",
       " 1,\n",
       " 1]"
      ]
     },
     "execution_count": 37,
     "metadata": {},
     "output_type": "execute_result"
    }
   ],
   "source": [
    "li = predict('./myImage/2022-02-02-18-10-28.mp4',model)\n",
    "li"
   ]
  }
 ],
 "metadata": {
  "kernelspec": {
   "display_name": "Python 3 (ipykernel)",
   "language": "python",
   "name": "python3"
  },
  "language_info": {
   "codemirror_mode": {
    "name": "ipython",
    "version": 3
   },
   "file_extension": ".py",
   "mimetype": "text/x-python",
   "name": "python",
   "nbconvert_exporter": "python",
   "pygments_lexer": "ipython3",
   "version": "3.9.2"
  }
 },
 "nbformat": 4,
 "nbformat_minor": 5
}
