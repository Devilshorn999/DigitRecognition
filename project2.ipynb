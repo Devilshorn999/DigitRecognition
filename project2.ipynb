{
 "cells": [
  {
   "cell_type": "code",
   "execution_count": 1,
   "id": "7a6c2142-831b-433d-8866-68279e48ac2f",
   "metadata": {},
   "outputs": [],
   "source": [
    "from colorama import Fore, Back, Style\n",
    "from random import choice\n",
    "import numpy as np\n",
    "import matplotlib.pyplot as plt\n",
    "import cv2\n",
    "import argparse\n",
    "\n",
    "import tensorflow as tf\n",
    "from tensorflow.keras.models import Sequential,load_model\n",
    "from tensorflow.keras.layers import Dense, Dropout, Activation, Flatten,Conv2D, MaxPooling2D"
   ]
  },
  {
   "cell_type": "code",
   "execution_count": 2,
   "id": "bc0e524d-1e82-4ee6-a917-d753ebc852d9",
   "metadata": {},
   "outputs": [],
   "source": [
    "def statement(stmnt):\n",
    "    print(Fore.YELLOW, Back.LIGHTBLACK_EX, Style.BRIGHT, stmnt, Style.RESET_ALL)"
   ]
  },
  {
   "cell_type": "code",
   "execution_count": 3,
   "id": "081afbfb-0145-4eca-9f3d-6cc242fd8e29",
   "metadata": {},
   "outputs": [],
   "source": [
    "mnist = tf.keras.datasets.mnist"
   ]
  },
  {
   "cell_type": "code",
   "execution_count": 4,
   "id": "f993d9a9-08b2-4cda-b71d-d87f17960c5a",
   "metadata": {},
   "outputs": [
    {
     "data": {
      "text/plain": [
       "((array([[[0, 0, 0, ..., 0, 0, 0],\n",
       "          [0, 0, 0, ..., 0, 0, 0],\n",
       "          [0, 0, 0, ..., 0, 0, 0],\n",
       "          ...,\n",
       "          [0, 0, 0, ..., 0, 0, 0],\n",
       "          [0, 0, 0, ..., 0, 0, 0],\n",
       "          [0, 0, 0, ..., 0, 0, 0]],\n",
       "  \n",
       "         [[0, 0, 0, ..., 0, 0, 0],\n",
       "          [0, 0, 0, ..., 0, 0, 0],\n",
       "          [0, 0, 0, ..., 0, 0, 0],\n",
       "          ...,\n",
       "          [0, 0, 0, ..., 0, 0, 0],\n",
       "          [0, 0, 0, ..., 0, 0, 0],\n",
       "          [0, 0, 0, ..., 0, 0, 0]],\n",
       "  \n",
       "         [[0, 0, 0, ..., 0, 0, 0],\n",
       "          [0, 0, 0, ..., 0, 0, 0],\n",
       "          [0, 0, 0, ..., 0, 0, 0],\n",
       "          ...,\n",
       "          [0, 0, 0, ..., 0, 0, 0],\n",
       "          [0, 0, 0, ..., 0, 0, 0],\n",
       "          [0, 0, 0, ..., 0, 0, 0]],\n",
       "  \n",
       "         ...,\n",
       "  \n",
       "         [[0, 0, 0, ..., 0, 0, 0],\n",
       "          [0, 0, 0, ..., 0, 0, 0],\n",
       "          [0, 0, 0, ..., 0, 0, 0],\n",
       "          ...,\n",
       "          [0, 0, 0, ..., 0, 0, 0],\n",
       "          [0, 0, 0, ..., 0, 0, 0],\n",
       "          [0, 0, 0, ..., 0, 0, 0]],\n",
       "  \n",
       "         [[0, 0, 0, ..., 0, 0, 0],\n",
       "          [0, 0, 0, ..., 0, 0, 0],\n",
       "          [0, 0, 0, ..., 0, 0, 0],\n",
       "          ...,\n",
       "          [0, 0, 0, ..., 0, 0, 0],\n",
       "          [0, 0, 0, ..., 0, 0, 0],\n",
       "          [0, 0, 0, ..., 0, 0, 0]],\n",
       "  \n",
       "         [[0, 0, 0, ..., 0, 0, 0],\n",
       "          [0, 0, 0, ..., 0, 0, 0],\n",
       "          [0, 0, 0, ..., 0, 0, 0],\n",
       "          ...,\n",
       "          [0, 0, 0, ..., 0, 0, 0],\n",
       "          [0, 0, 0, ..., 0, 0, 0],\n",
       "          [0, 0, 0, ..., 0, 0, 0]]], dtype=uint8),\n",
       "  array([5, 0, 4, ..., 5, 6, 8], dtype=uint8)),\n",
       " (array([[[0, 0, 0, ..., 0, 0, 0],\n",
       "          [0, 0, 0, ..., 0, 0, 0],\n",
       "          [0, 0, 0, ..., 0, 0, 0],\n",
       "          ...,\n",
       "          [0, 0, 0, ..., 0, 0, 0],\n",
       "          [0, 0, 0, ..., 0, 0, 0],\n",
       "          [0, 0, 0, ..., 0, 0, 0]],\n",
       "  \n",
       "         [[0, 0, 0, ..., 0, 0, 0],\n",
       "          [0, 0, 0, ..., 0, 0, 0],\n",
       "          [0, 0, 0, ..., 0, 0, 0],\n",
       "          ...,\n",
       "          [0, 0, 0, ..., 0, 0, 0],\n",
       "          [0, 0, 0, ..., 0, 0, 0],\n",
       "          [0, 0, 0, ..., 0, 0, 0]],\n",
       "  \n",
       "         [[0, 0, 0, ..., 0, 0, 0],\n",
       "          [0, 0, 0, ..., 0, 0, 0],\n",
       "          [0, 0, 0, ..., 0, 0, 0],\n",
       "          ...,\n",
       "          [0, 0, 0, ..., 0, 0, 0],\n",
       "          [0, 0, 0, ..., 0, 0, 0],\n",
       "          [0, 0, 0, ..., 0, 0, 0]],\n",
       "  \n",
       "         ...,\n",
       "  \n",
       "         [[0, 0, 0, ..., 0, 0, 0],\n",
       "          [0, 0, 0, ..., 0, 0, 0],\n",
       "          [0, 0, 0, ..., 0, 0, 0],\n",
       "          ...,\n",
       "          [0, 0, 0, ..., 0, 0, 0],\n",
       "          [0, 0, 0, ..., 0, 0, 0],\n",
       "          [0, 0, 0, ..., 0, 0, 0]],\n",
       "  \n",
       "         [[0, 0, 0, ..., 0, 0, 0],\n",
       "          [0, 0, 0, ..., 0, 0, 0],\n",
       "          [0, 0, 0, ..., 0, 0, 0],\n",
       "          ...,\n",
       "          [0, 0, 0, ..., 0, 0, 0],\n",
       "          [0, 0, 0, ..., 0, 0, 0],\n",
       "          [0, 0, 0, ..., 0, 0, 0]],\n",
       "  \n",
       "         [[0, 0, 0, ..., 0, 0, 0],\n",
       "          [0, 0, 0, ..., 0, 0, 0],\n",
       "          [0, 0, 0, ..., 0, 0, 0],\n",
       "          ...,\n",
       "          [0, 0, 0, ..., 0, 0, 0],\n",
       "          [0, 0, 0, ..., 0, 0, 0],\n",
       "          [0, 0, 0, ..., 0, 0, 0]]], dtype=uint8),\n",
       "  array([7, 2, 1, ..., 4, 5, 6], dtype=uint8)))"
      ]
     },
     "execution_count": 4,
     "metadata": {},
     "output_type": "execute_result"
    }
   ],
   "source": [
    "mnist.load_data()"
   ]
  },
  {
   "cell_type": "markdown",
   "id": "25e34a23-d4d9-4e94-845a-8347969046e6",
   "metadata": {},
   "source": [
    "# Loading the data into training and testing samples"
   ]
  },
  {
   "cell_type": "code",
   "execution_count": 5,
   "id": "4d1ddf7d-3097-4bb1-99c8-52e620e904f3",
   "metadata": {},
   "outputs": [],
   "source": [
    "(xtrain, ytrain),(xtest, ytest) = mnist.load_data()"
   ]
  },
  {
   "cell_type": "code",
   "execution_count": 6,
   "id": "3f78629a-e08d-4385-8c1f-34bb511a418c",
   "metadata": {},
   "outputs": [
    {
     "data": {
      "text/plain": [
       "(60000, 28, 28)"
      ]
     },
     "execution_count": 6,
     "metadata": {},
     "output_type": "execute_result"
    }
   ],
   "source": [
    "xtrain.shape"
   ]
  },
  {
   "cell_type": "code",
   "execution_count": 7,
   "id": "0d49d3af-bf7f-47da-bf5d-039903df7c0a",
   "metadata": {},
   "outputs": [
    {
     "data": {
      "text/plain": [
       "(10000, 28, 28)"
      ]
     },
     "execution_count": 7,
     "metadata": {},
     "output_type": "execute_result"
    }
   ],
   "source": [
    "xtest.shape"
   ]
  },
  {
   "cell_type": "markdown",
   "id": "e1d385de-a8cd-4cb4-9df3-60f5f907d5a7",
   "metadata": {},
   "source": [
    "# Crosschecking training and testing data with corresponding labels"
   ]
  },
  {
   "cell_type": "code",
   "execution_count": 8,
   "id": "f46f5ca7-f1f1-4637-ac33-d33c0e29514a",
   "metadata": {},
   "outputs": [
    {
     "data": {
      "image/png": "[encoded data removed]",
      "text/plain": [
       "<Figure size 432x288 with 1 Axes>"
      ]
     },
     "metadata": {
      "needs_background": "light"
     },
     "output_type": "display_data"
    },
    {
     "data": {
      "image/png": "[encoded data removed]",
      "text/plain": [
       "<Figure size 432x288 with 1 Axes>"
      ]
     },
     "metadata": {
      "needs_background": "light"
     },
     "output_type": "display_data"
    },
    {
     "name": "stdout",
     "output_type": "stream",
     "text": [
      "\u001b[33m \u001b[100m \u001b[1m Label Value At Index(31332) For Training Data = 1\n",
      "    Label Value At Index(3190) For Testing Data = 9 \u001b[0m\n"
     ]
    },
    {
     "data": {
      "image/png": "[encoded data removed]",
      "text/plain": [
       "<Figure size 432x288 with 1 Axes>"
      ]
     },
     "metadata": {
      "needs_background": "light"
     },
     "output_type": "display_data"
    },
    {
     "data": {
      "image/png": "[encoded data removed]",
      "text/plain": [
       "<Figure size 432x288 with 1 Axes>"
      ]
     },
     "metadata": {
      "needs_background": "light"
     },
     "output_type": "display_data"
    },
    {
     "name": "stdout",
     "output_type": "stream",
     "text": [
      "\u001b[33m \u001b[100m \u001b[1m Label Value At Index(47297) For Training Data = 8\n",
      "    Label Value At Index(6625) For Testing Data = 8 \u001b[0m\n"
     ]
    },
    {
     "data": {
      "image/png": "[encoded data removed]",
      "text/plain": [
       "<Figure size 432x288 with 1 Axes>"
      ]
     },
     "metadata": {
      "needs_background": "light"
     },
     "output_type": "display_data"
    },
    {
     "data": {
      "image/png": "[encoded data removed]",
      "text/plain": [
       "<Figure size 432x288 with 1 Axes>"
      ]
     },
     "metadata": {
      "needs_background": "light"
     },
     "output_type": "display_data"
    },
    {
     "name": "stdout",
     "output_type": "stream",
     "text": [
      "\u001b[33m \u001b[100m \u001b[1m Label Value At Index(58728) For Training Data = 2\n",
      "    Label Value At Index(9565) For Testing Data = 4 \u001b[0m\n"
     ]
    },
    {
     "data": {
      "image/png": "[encoded data removed]",
      "text/plain": [
       "<Figure size 432x288 with 1 Axes>"
      ]
     },
     "metadata": {
      "needs_background": "light"
     },
     "output_type": "display_data"
    },
    {
     "data": {
      "image/png": "[encoded data removed]",
      "text/plain": [
       "<Figure size 432x288 with 1 Axes>"
      ]
     },
     "metadata": {
      "needs_background": "light"
     },
     "output_type": "display_data"
    },
    {
     "name": "stdout",
     "output_type": "stream",
     "text": [
      "\u001b[33m \u001b[100m \u001b[1m Label Value At Index(49840) For Training Data = 1\n",
      "    Label Value At Index(2425) For Testing Data = 8 \u001b[0m\n"
     ]
    },
    {
     "data": {
      "image/png": "[encoded data removed]",
      "text/plain": [
       "<Figure size 432x288 with 1 Axes>"
      ]
     },
     "metadata": {
      "needs_background": "light"
     },
     "output_type": "display_data"
    },
    {
     "data": {
      "image/png": "[encoded data removed]",
      "text/plain": [
       "<Figure size 432x288 with 1 Axes>"
      ]
     },
     "metadata": {
      "needs_background": "light"
     },
     "output_type": "display_data"
    },
    {
     "name": "stdout",
     "output_type": "stream",
     "text": [
      "\u001b[33m \u001b[100m \u001b[1m Label Value At Index(8308) For Training Data = 9\n",
      "    Label Value At Index(8308) For Testing Data = 3 \u001b[0m\n"
     ]
    }
   ],
   "source": [
    "for j in range(5):\n",
    "    i = choice(range(60000))\n",
    "    plt.imshow(xtrain[i])\n",
    "    plt.show()\n",
    "    try:\n",
    "        k = i\n",
    "        plt.imshow(xtest[k],cmap= plt.cm.binary_r)\n",
    "    except IndexError:\n",
    "        k = choice(range(10000))\n",
    "        plt.imshow(xtest[k],cmap= plt.cm.binary_r)\n",
    "    plt.show()\n",
    "    stmnt = f'''label value at index({i}) for training data = {ytrain[i]}\n",
    "    label value at index({k}) for testing data = {ytest[k]}'''.title()\n",
    "    statement(stmnt)"
   ]
  },
  {
   "cell_type": "code",
   "execution_count": 9,
   "id": "89780c34-e53e-4df0-848c-7ccba7a3425a",
   "metadata": {},
   "outputs": [
    {
     "data": {
      "text/plain": [
       "(60000, 28, 28)"
      ]
     },
     "execution_count": 9,
     "metadata": {},
     "output_type": "execute_result"
    }
   ],
   "source": [
    "xtrain.shape"
   ]
  },
  {
   "cell_type": "markdown",
   "id": "f6894bfd-9d1c-4c14-9a68-0cdf5ee4bec0",
   "metadata": {},
   "source": [
    "# Normalizing the data"
   ]
  },
  {
   "cell_type": "code",
   "execution_count": 10,
   "id": "75f6d32d-0598-48dd-b9c2-30e64086000d",
   "metadata": {},
   "outputs": [],
   "source": [
    "xtrain = tf.keras.utils.normalize(xtrain)\n",
    "xtest = tf.keras.utils.normalize(xtest)"
   ]
  },
  {
   "cell_type": "code",
   "execution_count": 11,
   "id": "5ccb2086-4502-40a6-bbe1-202b08dbfc57",
   "metadata": {},
   "outputs": [
    {
     "data": {
      "image/png": "[encoded data removed]",
      "text/plain": [
       "<Figure size 432x288 with 1 Axes>"
      ]
     },
     "metadata": {
      "needs_background": "light"
     },
     "output_type": "display_data"
    },
    {
     "data": {
      "image/png": "[encoded data removed]",
      "text/plain": [
       "<Figure size 432x288 with 1 Axes>"
      ]
     },
     "metadata": {
      "needs_background": "light"
     },
     "output_type": "display_data"
    },
    {
     "name": "stdout",
     "output_type": "stream",
     "text": [
      "\u001b[33m \u001b[100m \u001b[1m Label Value At Index(33937) For Training Data = 1\n",
      "    Label Value At Index(1273) For Testing Data = 0 \u001b[0m\n"
     ]
    },
    {
     "data": {
      "image/png": "[encoded data removed]",
      "text/plain": [
       "<Figure size 432x288 with 1 Axes>"
      ]
     },
     "metadata": {
      "needs_background": "light"
     },
     "output_type": "display_data"
    },
    {
     "data": {
      "image/png": "[encoded data removed]",
      "text/plain": [
       "<Figure size 432x288 with 1 Axes>"
      ]
     },
     "metadata": {
      "needs_background": "light"
     },
     "output_type": "display_data"
    },
    {
     "name": "stdout",
     "output_type": "stream",
     "text": [
      "\u001b[33m \u001b[100m \u001b[1m Label Value At Index(40265) For Training Data = 8\n",
      "    Label Value At Index(2242) For Testing Data = 2 \u001b[0m\n"
     ]
    },
    {
     "data": {
      "image/png": "[encoded data removed]",
      "text/plain": [
       "<Figure size 432x288 with 1 Axes>"
      ]
     },
     "metadata": {
      "needs_background": "light"
     },
     "output_type": "display_data"
    },
    {
     "data": {
      "image/png": "[encoded data removed]",
      "text/plain": [
       "<Figure size 432x288 with 1 Axes>"
      ]
     },
     "metadata": {
      "needs_background": "light"
     },
     "output_type": "display_data"
    },
    {
     "name": "stdout",
     "output_type": "stream",
     "text": [
      "\u001b[33m \u001b[100m \u001b[1m Label Value At Index(11258) For Training Data = 8\n",
      "    Label Value At Index(6848) For Testing Data = 1 \u001b[0m\n"
     ]
    },
    {
     "data": {
      "image/png": "[encoded data removed]",
      "text/plain": [
       "<Figure size 432x288 with 1 Axes>"
      ]
     },
     "metadata": {
      "needs_background": "light"
     },
     "output_type": "display_data"
    },
    {
     "data": {
      "image/png": "[encoded data removed]",
      "text/plain": [
       "<Figure size 432x288 with 1 Axes>"
      ]
     },
     "metadata": {
      "needs_background": "light"
     },
     "output_type": "display_data"
    },
    {
     "name": "stdout",
     "output_type": "stream",
     "text": [
      "\u001b[33m \u001b[100m \u001b[1m Label Value At Index(55384) For Training Data = 7\n",
      "    Label Value At Index(7675) For Testing Data = 3 \u001b[0m\n"
     ]
    },
    {
     "data": {
      "image/png": "[encoded data removed]",
      "text/plain": [
       "<Figure size 432x288 with 1 Axes>"
      ]
     },
     "metadata": {
      "needs_background": "light"
     },
     "output_type": "display_data"
    },
    {
     "data": {
      "image/png": "[encoded data removed]",
      "text/plain": [
       "<Figure size 432x288 with 1 Axes>"
      ]
     },
     "metadata": {
      "needs_background": "light"
     },
     "output_type": "display_data"
    },
    {
     "name": "stdout",
     "output_type": "stream",
     "text": [
      "\u001b[33m \u001b[100m \u001b[1m Label Value At Index(35068) For Training Data = 9\n",
      "    Label Value At Index(6112) For Testing Data = 9 \u001b[0m\n"
     ]
    }
   ],
   "source": [
    "for j in range(5):\n",
    "    i = choice(range(60000))\n",
    "    plt.imshow(xtrain[i])\n",
    "    plt.show()\n",
    "    try:\n",
    "        k = i\n",
    "        plt.imshow(xtest[k],cmap= plt.cm.binary_r)\n",
    "    except IndexError:\n",
    "        k = choice(range(10000))\n",
    "        plt.imshow(xtest[k],cmap= plt.cm.binary_r)\n",
    "    plt.show()\n",
    "    stmnt = f'''label value at index({i}) for training data = {ytrain[i]}\n",
    "    label value at index({k}) for testing data = {ytest[k]}'''.title()\n",
    "    statement(stmnt)"
   ]
  },
  {
   "cell_type": "markdown",
   "id": "77cc4b15-cd01-4006-bade-f40e3d620d6e",
   "metadata": {},
   "source": [
    "# Reshaping the data with last point having the color setting set to grayscale"
   ]
  },
  {
   "cell_type": "code",
   "execution_count": 12,
   "id": "21f096f5-338c-4990-a7c0-486aa1f4db60",
   "metadata": {},
   "outputs": [
    {
     "name": "stdout",
     "output_type": "stream",
     "text": [
      "\u001b[33m \u001b[100m \u001b[1m Training Shape : (60000, 28, 28, 1) \u001b[0m\n",
      "\u001b[33m \u001b[100m \u001b[1m Testing Shape : (10000, 28, 28, 1) \u001b[0m\n"
     ]
    }
   ],
   "source": [
    "img = 28\n",
    "xtrain = np.array(xtrain).reshape(-1, img, img, 1)\n",
    "xtest = np.array(xtest).reshape(-1, img, img, 1)\n",
    "statement(f'training shape : {xtrain.shape}'.title())\n",
    "statement(f'testing shape : {xtest.shape}'.title())"
   ]
  },
  {
   "cell_type": "markdown",
   "id": "e7f768ac-ae8f-473b-ad12-a49473afa395",
   "metadata": {},
   "source": [
    "# Creating a convolutional neural network with 3 convolutional layers and 2 dense layer"
   ]
  },
  {
   "cell_type": "code",
   "execution_count": 13,
   "id": "587ddeac-abbe-4632-993e-066ccb9a8ed4",
   "metadata": {},
   "outputs": [
    {
     "name": "stdout",
     "output_type": "stream",
     "text": [
      "Model: \"sequential\"\n",
      "_________________________________________________________________\n",
      " Layer (type)                Output Shape              Param #   \n",
      "=================================================================\n",
      " conv2d (Conv2D)             (None, 26, 26, 64)        640       \n",
      "                                                                 \n",
      " max_pooling2d (MaxPooling2D  (None, 13, 13, 64)       0         \n",
      " )                                                               \n",
      "                                                                 \n",
      " conv2d_1 (Conv2D)           (None, 11, 11, 64)        36928     \n",
      "                                                                 \n",
      " max_pooling2d_1 (MaxPooling  (None, 5, 5, 64)         0         \n",
      " 2D)                                                             \n",
      "                                                                 \n",
      " conv2d_2 (Conv2D)           (None, 3, 3, 64)          36928     \n",
      "                                                                 \n",
      " max_pooling2d_2 (MaxPooling  (None, 1, 1, 64)         0         \n",
      " 2D)                                                             \n",
      "                                                                 \n",
      " flatten (Flatten)           (None, 64)                0         \n",
      "                                                                 \n",
      " dense (Dense)               (None, 64)                4160      \n",
      "                                                                 \n",
      " dense_1 (Dense)             (None, 32)                2080      \n",
      "                                                                 \n",
      " dense_2 (Dense)             (None, 10)                330       \n",
      "                                                                 \n",
      "=================================================================\n",
      "Total params: 81,066\n",
      "Trainable params: 81,066\n",
      "Non-trainable params: 0\n",
      "_________________________________________________________________\n"
     ]
    }
   ],
   "source": [
    "model = Sequential([\n",
    "    # Convolutional layers\n",
    "    Conv2D(64, (3,3), input_shape=xtrain.shape[1:], activation='relu'),\n",
    "    MaxPooling2D(2),\n",
    "    Conv2D(64, (3,3), input_shape=xtrain.shape[1:], activation='relu'),\n",
    "    MaxPooling2D(2),\n",
    "    Conv2D(64, (3,3), input_shape=xtrain.shape[1:], activation='relu'),\n",
    "    MaxPooling2D(2),\n",
    "    # Neural network\n",
    "    Flatten(),\n",
    "    # Hidden Layers\n",
    "    Dense(64,activation='relu'),\n",
    "    Dense(32,activation='relu'),\n",
    "    # Output Neuron\n",
    "    Dense(10,activation='softmax'),\n",
    "])\n",
    "model.summary()"
   ]
  },
  {
   "cell_type": "code",
   "execution_count": 14,
   "id": "104f7d18-2233-448c-865a-c39e144f92d8",
   "metadata": {},
   "outputs": [],
   "source": [
    "model.compile(loss='sparse_categorical_crossentropy', optimizer='adam', metrics='accuracy')"
   ]
  },
  {
   "cell_type": "code",
   "execution_count": 15,
   "id": "40a108e6-4939-4e23-b85d-446cf9d1a141",
   "metadata": {},
   "outputs": [
    {
     "name": "stdout",
     "output_type": "stream",
     "text": [
      "Epoch 1/20\n",
      "1313/1313 [==============================] - 21s 16ms/step - loss: 0.3352 - accuracy: 0.8898 - val_loss: 0.1452 - val_accuracy: 0.9556\n",
      "Epoch 2/20\n",
      "1313/1313 [==============================] - 20s 15ms/step - loss: 0.1078 - accuracy: 0.9670 - val_loss: 0.0818 - val_accuracy: 0.9744\n",
      "Epoch 3/20\n",
      "1313/1313 [==============================] - 20s 15ms/step - loss: 0.0747 - accuracy: 0.9768 - val_loss: 0.0696 - val_accuracy: 0.9792\n",
      "Epoch 4/20\n",
      "1313/1313 [==============================] - 20s 15ms/step - loss: 0.0605 - accuracy: 0.9818 - val_loss: 0.0927 - val_accuracy: 0.9743\n",
      "Epoch 5/20\n",
      "1313/1313 [==============================] - 20s 15ms/step - loss: 0.0502 - accuracy: 0.9842 - val_loss: 0.0800 - val_accuracy: 0.9767\n",
      "Epoch 6/20\n",
      "1313/1313 [==============================] - 20s 15ms/step - loss: 0.0426 - accuracy: 0.9868 - val_loss: 0.0538 - val_accuracy: 0.9846\n",
      "Epoch 7/20\n",
      "1313/1313 [==============================] - 21s 16ms/step - loss: 0.0360 - accuracy: 0.9880 - val_loss: 0.0524 - val_accuracy: 0.9851\n",
      "Epoch 8/20\n",
      "1313/1313 [==============================] - 21s 16ms/step - loss: 0.0299 - accuracy: 0.9904 - val_loss: 0.0503 - val_accuracy: 0.9854\n",
      "Epoch 9/20\n",
      "1313/1313 [==============================] - 21s 16ms/step - loss: 0.0273 - accuracy: 0.9916 - val_loss: 0.0584 - val_accuracy: 0.9837\n",
      "Epoch 10/20\n",
      "1313/1313 [==============================] - 21s 16ms/step - loss: 0.0242 - accuracy: 0.9922 - val_loss: 0.0557 - val_accuracy: 0.9856\n",
      "Epoch 11/20\n",
      "1313/1313 [==============================] - 21s 16ms/step - loss: 0.0208 - accuracy: 0.9930 - val_loss: 0.0550 - val_accuracy: 0.9846\n",
      "Epoch 12/20\n",
      "1313/1313 [==============================] - 21s 16ms/step - loss: 0.0188 - accuracy: 0.9939 - val_loss: 0.0563 - val_accuracy: 0.9854\n",
      "Epoch 13/20\n",
      "1313/1313 [==============================] - 21s 16ms/step - loss: 0.0175 - accuracy: 0.9947 - val_loss: 0.0524 - val_accuracy: 0.9860\n",
      "Epoch 14/20\n",
      "1313/1313 [==============================] - 21s 16ms/step - loss: 0.0145 - accuracy: 0.9955 - val_loss: 0.0606 - val_accuracy: 0.9845\n",
      "Epoch 15/20\n",
      "1313/1313 [==============================] - 21s 16ms/step - loss: 0.0138 - accuracy: 0.9952 - val_loss: 0.0820 - val_accuracy: 0.9813\n",
      "Epoch 16/20\n",
      "1313/1313 [==============================] - 21s 16ms/step - loss: 0.0131 - accuracy: 0.9958 - val_loss: 0.0908 - val_accuracy: 0.9798\n",
      "Epoch 17/20\n",
      "1313/1313 [==============================] - 21s 16ms/step - loss: 0.0130 - accuracy: 0.9959 - val_loss: 0.0779 - val_accuracy: 0.9832\n",
      "Epoch 18/20\n",
      "1313/1313 [==============================] - 21s 16ms/step - loss: 0.0114 - accuracy: 0.9967 - val_loss: 0.0634 - val_accuracy: 0.9858\n",
      "Epoch 19/20\n",
      "1313/1313 [==============================] - 21s 16ms/step - loss: 0.0103 - accuracy: 0.9969 - val_loss: 0.0694 - val_accuracy: 0.9834\n",
      "Epoch 20/20\n",
      "1313/1313 [==============================] - 21s 16ms/step - loss: 0.0102 - accuracy: 0.9968 - val_loss: 0.0674 - val_accuracy: 0.9858\n"
     ]
    },
    {
     "data": {
      "text/plain": [
       "<keras.callbacks.History at 0x1147ed46dc0>"
      ]
     },
     "execution_count": 15,
     "metadata": {},
     "output_type": "execute_result"
    }
   ],
   "source": [
    "model.fit(xtrain,ytrain,epochs=20,validation_split=.3)"
   ]
  },
  {
   "cell_type": "code",
   "execution_count": 16,
   "id": "64e2e16b-457b-4845-97da-8fadcf18823b",
   "metadata": {},
   "outputs": [
    {
     "data": {
      "text/html": [
       "<div>\n",
       "<style scoped>\n",
       "    .dataframe tbody tr th:only-of-type {\n",
       "        vertical-align: middle;\n",
       "    }\n",
       "\n",
       "    .dataframe tbody tr th {\n",
       "        vertical-align: top;\n",
       "    }\n",
       "\n",
       "    .dataframe thead th {\n",
       "        text-align: right;\n",
       "    }\n",
       "</style>\n",
       "<table border=\"1\" class=\"dataframe\">\n",
       "  <thead>\n",
       "    <tr style=\"text-align: right;\">\n",
       "      <th></th>\n",
       "      <th>loss</th>\n",
       "      <th>accuracy</th>\n",
       "      <th>val_loss</th>\n",
       "      <th>val_accuracy</th>\n",
       "    </tr>\n",
       "  </thead>\n",
       "  <tbody>\n",
       "    <tr>\n",
       "      <th>0</th>\n",
       "      <td>0.335199</td>\n",
       "      <td>0.889833</td>\n",
       "      <td>0.145236</td>\n",
       "      <td>0.955611</td>\n",
       "    </tr>\n",
       "    <tr>\n",
       "      <th>1</th>\n",
       "      <td>0.107781</td>\n",
       "      <td>0.966952</td>\n",
       "      <td>0.081783</td>\n",
       "      <td>0.974444</td>\n",
       "    </tr>\n",
       "    <tr>\n",
       "      <th>2</th>\n",
       "      <td>0.074729</td>\n",
       "      <td>0.976810</td>\n",
       "      <td>0.069591</td>\n",
       "      <td>0.979222</td>\n",
       "    </tr>\n",
       "    <tr>\n",
       "      <th>3</th>\n",
       "      <td>0.060520</td>\n",
       "      <td>0.981786</td>\n",
       "      <td>0.092721</td>\n",
       "      <td>0.974278</td>\n",
       "    </tr>\n",
       "    <tr>\n",
       "      <th>4</th>\n",
       "      <td>0.050227</td>\n",
       "      <td>0.984190</td>\n",
       "      <td>0.079969</td>\n",
       "      <td>0.976722</td>\n",
       "    </tr>\n",
       "    <tr>\n",
       "      <th>5</th>\n",
       "      <td>0.042575</td>\n",
       "      <td>0.986762</td>\n",
       "      <td>0.053821</td>\n",
       "      <td>0.984611</td>\n",
       "    </tr>\n",
       "    <tr>\n",
       "      <th>6</th>\n",
       "      <td>0.036050</td>\n",
       "      <td>0.988048</td>\n",
       "      <td>0.052376</td>\n",
       "      <td>0.985111</td>\n",
       "    </tr>\n",
       "    <tr>\n",
       "      <th>7</th>\n",
       "      <td>0.029914</td>\n",
       "      <td>0.990381</td>\n",
       "      <td>0.050317</td>\n",
       "      <td>0.985444</td>\n",
       "    </tr>\n",
       "    <tr>\n",
       "      <th>8</th>\n",
       "      <td>0.027254</td>\n",
       "      <td>0.991643</td>\n",
       "      <td>0.058379</td>\n",
       "      <td>0.983667</td>\n",
       "    </tr>\n",
       "    <tr>\n",
       "      <th>9</th>\n",
       "      <td>0.024181</td>\n",
       "      <td>0.992238</td>\n",
       "      <td>0.055732</td>\n",
       "      <td>0.985611</td>\n",
       "    </tr>\n",
       "    <tr>\n",
       "      <th>10</th>\n",
       "      <td>0.020785</td>\n",
       "      <td>0.993048</td>\n",
       "      <td>0.055049</td>\n",
       "      <td>0.984611</td>\n",
       "    </tr>\n",
       "    <tr>\n",
       "      <th>11</th>\n",
       "      <td>0.018756</td>\n",
       "      <td>0.993857</td>\n",
       "      <td>0.056275</td>\n",
       "      <td>0.985389</td>\n",
       "    </tr>\n",
       "    <tr>\n",
       "      <th>12</th>\n",
       "      <td>0.017470</td>\n",
       "      <td>0.994690</td>\n",
       "      <td>0.052416</td>\n",
       "      <td>0.986000</td>\n",
       "    </tr>\n",
       "    <tr>\n",
       "      <th>13</th>\n",
       "      <td>0.014486</td>\n",
       "      <td>0.995548</td>\n",
       "      <td>0.060553</td>\n",
       "      <td>0.984500</td>\n",
       "    </tr>\n",
       "    <tr>\n",
       "      <th>14</th>\n",
       "      <td>0.013837</td>\n",
       "      <td>0.995238</td>\n",
       "      <td>0.081978</td>\n",
       "      <td>0.981278</td>\n",
       "    </tr>\n",
       "    <tr>\n",
       "      <th>15</th>\n",
       "      <td>0.013096</td>\n",
       "      <td>0.995809</td>\n",
       "      <td>0.090789</td>\n",
       "      <td>0.979778</td>\n",
       "    </tr>\n",
       "    <tr>\n",
       "      <th>16</th>\n",
       "      <td>0.012980</td>\n",
       "      <td>0.995929</td>\n",
       "      <td>0.077936</td>\n",
       "      <td>0.983167</td>\n",
       "    </tr>\n",
       "    <tr>\n",
       "      <th>17</th>\n",
       "      <td>0.011396</td>\n",
       "      <td>0.996690</td>\n",
       "      <td>0.063351</td>\n",
       "      <td>0.985833</td>\n",
       "    </tr>\n",
       "    <tr>\n",
       "      <th>18</th>\n",
       "      <td>0.010299</td>\n",
       "      <td>0.996881</td>\n",
       "      <td>0.069387</td>\n",
       "      <td>0.983389</td>\n",
       "    </tr>\n",
       "    <tr>\n",
       "      <th>19</th>\n",
       "      <td>0.010219</td>\n",
       "      <td>0.996786</td>\n",
       "      <td>0.067389</td>\n",
       "      <td>0.985833</td>\n",
       "    </tr>\n",
       "  </tbody>\n",
       "</table>\n",
       "</div>"
      ],
      "text/plain": [
       "        loss  accuracy  val_loss  val_accuracy\n",
       "0   0.335199  0.889833  0.145236      0.955611\n",
       "1   0.107781  0.966952  0.081783      0.974444\n",
       "2   0.074729  0.976810  0.069591      0.979222\n",
       "3   0.060520  0.981786  0.092721      0.974278\n",
       "4   0.050227  0.984190  0.079969      0.976722\n",
       "5   0.042575  0.986762  0.053821      0.984611\n",
       "6   0.036050  0.988048  0.052376      0.985111\n",
       "7   0.029914  0.990381  0.050317      0.985444\n",
       "8   0.027254  0.991643  0.058379      0.983667\n",
       "9   0.024181  0.992238  0.055732      0.985611\n",
       "10  0.020785  0.993048  0.055049      0.984611\n",
       "11  0.018756  0.993857  0.056275      0.985389\n",
       "12  0.017470  0.994690  0.052416      0.986000\n",
       "13  0.014486  0.995548  0.060553      0.984500\n",
       "14  0.013837  0.995238  0.081978      0.981278\n",
       "15  0.013096  0.995809  0.090789      0.979778\n",
       "16  0.012980  0.995929  0.077936      0.983167\n",
       "17  0.011396  0.996690  0.063351      0.985833\n",
       "18  0.010299  0.996881  0.069387      0.983389\n",
       "19  0.010219  0.996786  0.067389      0.985833"
      ]
     },
     "execution_count": 16,
     "metadata": {},
     "output_type": "execute_result"
    }
   ],
   "source": [
    "import pandas as pd\n",
    "pd.DataFrame(model.history.history)"
   ]
  },
  {
   "cell_type": "code",
   "execution_count": 17,
   "id": "026641c0-31d9-4386-a058-cc6edd16efd3",
   "metadata": {},
   "outputs": [],
   "source": [
    "ypred = model.predict(xtest)"
   ]
  },
  {
   "cell_type": "code",
   "execution_count": 18,
   "id": "0a32e28c-9d58-4b4d-ab55-6d043149dd29",
   "metadata": {},
   "outputs": [
    {
     "data": {
      "image/png": "[encoded data removed]",
      "text/plain": [
       "<Figure size 432x288 with 1 Axes>"
      ]
     },
     "metadata": {
      "needs_background": "light"
     },
     "output_type": "display_data"
    },
    {
     "name": "stdout",
     "output_type": "stream",
     "text": [
      "\u001b[33m \u001b[100m \u001b[1m The Actual Label At Index(3936) 7\n",
      "    Predicted Value At Index(3936) 7 \u001b[0m\n"
     ]
    },
    {
     "data": {
      "image/png": "[encoded data removed]",
      "text/plain": [
       "<Figure size 432x288 with 1 Axes>"
      ]
     },
     "metadata": {
      "needs_background": "light"
     },
     "output_type": "display_data"
    },
    {
     "name": "stdout",
     "output_type": "stream",
     "text": [
      "\u001b[33m \u001b[100m \u001b[1m The Actual Label At Index(1374) 2\n",
      "    Predicted Value At Index(1374) 2 \u001b[0m\n"
     ]
    },
    {
     "data": {
      "image/png": "[encoded data removed]",
      "text/plain": [
       "<Figure size 432x288 with 1 Axes>"
      ]
     },
     "metadata": {
      "needs_background": "light"
     },
     "output_type": "display_data"
    },
    {
     "name": "stdout",
     "output_type": "stream",
     "text": [
      "\u001b[33m \u001b[100m \u001b[1m The Actual Label At Index(5422) 7\n",
      "    Predicted Value At Index(5422) 7 \u001b[0m\n"
     ]
    },
    {
     "data": {
      "image/png": "[encoded data removed]",
      "text/plain": [
       "<Figure size 432x288 with 1 Axes>"
      ]
     },
     "metadata": {
      "needs_background": "light"
     },
     "output_type": "display_data"
    },
    {
     "name": "stdout",
     "output_type": "stream",
     "text": [
      "\u001b[33m \u001b[100m \u001b[1m The Actual Label At Index(949) 1\n",
      "    Predicted Value At Index(949) 1 \u001b[0m\n"
     ]
    },
    {
     "data": {
      "image/png": "[encoded data removed]",
      "text/plain": [
       "<Figure size 432x288 with 1 Axes>"
      ]
     },
     "metadata": {
      "needs_background": "light"
     },
     "output_type": "display_data"
    },
    {
     "name": "stdout",
     "output_type": "stream",
     "text": [
      "\u001b[33m \u001b[100m \u001b[1m The Actual Label At Index(1659) 1\n",
      "    Predicted Value At Index(1659) 1 \u001b[0m\n"
     ]
    }
   ],
   "source": [
    "for j in range(5):\n",
    "    i = choice(range(10000))\n",
    "    plt.imshow(xtest[i])\n",
    "    plt.show()    \n",
    "    stmnt=f'''the actual label at index({i}) {ytest[i]}\n",
    "    predicted value at index({i}) {np.argmax(ypred[i])}'''.title()\n",
    "    statement(stmnt)"
   ]
  },
  {
   "cell_type": "markdown",
   "id": "24e34f79-c23e-4459-b227-5c48c1598094",
   "metadata": {},
   "source": [
    "# The first model"
   ]
  },
  {
   "cell_type": "code",
   "execution_count": 19,
   "id": "0ed0a170-2aa5-469a-98dd-41f0244faa2a",
   "metadata": {},
   "outputs": [
    {
     "name": "stdout",
     "output_type": "stream",
     "text": [
      "313/313 [==============================] - 1s 4ms/step - loss: 0.0681 - accuracy: 0.9858\n",
      "\u001b[33m \u001b[100m \u001b[1m Test Loss On 10000 Test Smaples 0.06810879707336426 \u001b[0m\n",
      "\u001b[33m \u001b[100m \u001b[1m Validation Accuracy On 10000 Test Smaples 98.580002784729 \u001b[0m\n"
     ]
    }
   ],
   "source": [
    "test_loss, test_acc = model.evaluate(xtest,ytest)\n",
    "statement(f'test loss on {len(xtest)} test smaples {test_loss}'.title())\n",
    "statement(f'validation accuracy on {len(xtest)} test smaples {test_acc*100}'.title())"
   ]
  },
  {
   "cell_type": "code",
   "execution_count": 20,
   "id": "a25885ab-3841-48fe-b127-ad6735ebb737",
   "metadata": {},
   "outputs": [
    {
     "name": "stdout",
     "output_type": "stream",
     "text": [
      "INFO:tensorflow:Assets written to: model\\assets\n"
     ]
    }
   ],
   "source": [
    "model.save('./Digit Identification/model')"
   ]
  },
  {
   "cell_type": "code",
   "execution_count": 21,
   "id": "594f373b-42cc-4f68-8ac8-2f7e79654514",
   "metadata": {},
   "outputs": [
    {
     "name": "stdout",
     "output_type": "stream",
     "text": [
      "(60000, 28, 28) (60000,)\n",
      "xtrain1 shape: (60000, 28, 28, 1)\n",
      "60000 train samples\n",
      "10000 test samples\n"
     ]
    }
   ],
   "source": [
    "batch_size = 128\n",
    "num_classes = 10\n",
    "epochs = 10\n",
    "\n",
    "(xtrain1, ytrain1), (xtest1, ytest1) = mnist.load_data()\n",
    "print(xtrain1.shape, ytrain1.shape)\n",
    "\n",
    "xtrain1 = xtrain1.reshape(xtrain1.shape[0], 28, 28, 1)\n",
    "xtest1 = xtest1.reshape(xtest1.shape[0], 28, 28, 1)\n",
    "input_shape = (28, 28, 1)\n",
    "\n",
    "ytrain1 = tf.keras.utils.to_categorical(ytrain1, num_classes)\n",
    "ytest1 = tf.keras.utils.to_categorical(ytest1, num_classes)\n",
    "xtrain1 = xtrain1.astype('float32')\n",
    "xtest1 = xtest1.astype('float32')\n",
    "xtrain1 /= 255\n",
    "xtest1 /= 255\n",
    "print('xtrain1 shape:', xtrain1.shape)\n",
    "print(xtrain1.shape[0], 'train samples')\n",
    "print(xtest1.shape[0], 'test samples')"
   ]
  },
  {
   "cell_type": "markdown",
   "id": "e3f16509-f32a-4e20-84f1-5d79ef234a58",
   "metadata": {},
   "source": [
    "# A model with 2 convolutional layers and 1 dense layer"
   ]
  },
  {
   "cell_type": "code",
   "execution_count": 22,
   "id": "54072d7d-2d5c-4b6b-b180-f35728637eb7",
   "metadata": {},
   "outputs": [
    {
     "name": "stdout",
     "output_type": "stream",
     "text": [
      "Model: \"sequential_1\"\n",
      "_________________________________________________________________\n",
      " Layer (type)                Output Shape              Param #   \n",
      "=================================================================\n",
      " conv2d_3 (Conv2D)           (None, 26, 26, 32)        320       \n",
      "                                                                 \n",
      " conv2d_4 (Conv2D)           (None, 24, 24, 64)        18496     \n",
      "                                                                 \n",
      " max_pooling2d_3 (MaxPooling  (None, 12, 12, 64)       0         \n",
      " 2D)                                                             \n",
      "                                                                 \n",
      " dropout (Dropout)           (None, 12, 12, 64)        0         \n",
      "                                                                 \n",
      " flatten_1 (Flatten)         (None, 9216)              0         \n",
      "                                                                 \n",
      " dense_3 (Dense)             (None, 256)               2359552   \n",
      "                                                                 \n",
      " dropout_1 (Dropout)         (None, 256)               0         \n",
      "                                                                 \n",
      " dense_4 (Dense)             (None, 10)                2570      \n",
      "                                                                 \n",
      "=================================================================\n",
      "Total params: 2,380,938\n",
      "Trainable params: 2,380,938\n",
      "Non-trainable params: 0\n",
      "_________________________________________________________________\n"
     ]
    }
   ],
   "source": [
    "model1 = Sequential([\n",
    "(Conv2D(32, kernel_size=(3, 3),activation='relu',input_shape=xtrain1.shape[1:])),\n",
    "(Conv2D(64, (3, 3), activation='relu')),\n",
    "(MaxPooling2D(pool_size=(2, 2))),\n",
    "(Dropout(0.25)),\n",
    "(Flatten()),\n",
    "(Dense(256, activation='relu')),\n",
    "(Dropout(0.5)),\n",
    "(Dense(num_classes, activation='softmax')),\n",
    "])\n",
    "model1.summary()"
   ]
  },
  {
   "cell_type": "code",
   "execution_count": 23,
   "id": "dafe2462-25f3-492b-9074-96f32bc5bf5d",
   "metadata": {},
   "outputs": [
    {
     "name": "stdout",
     "output_type": "stream",
     "text": [
      "Epoch 1/20\n",
      "469/469 [==============================] - 39s 82ms/step - loss: 2.2740 - accuracy: 0.1674 - val_loss: 2.2279 - val_accuracy: 0.4276\n",
      "Epoch 2/20\n",
      "469/469 [==============================] - 38s 82ms/step - loss: 2.1949 - accuracy: 0.3257 - val_loss: 2.1287 - val_accuracy: 0.6034\n",
      "Epoch 3/20\n",
      "469/469 [==============================] - 39s 82ms/step - loss: 2.0868 - accuracy: 0.4547 - val_loss: 1.9823 - val_accuracy: 0.6912\n",
      "Epoch 4/20\n",
      "469/469 [==============================] - 39s 82ms/step - loss: 1.9237 - accuracy: 0.5486 - val_loss: 1.7704 - val_accuracy: 0.7372\n",
      "Epoch 5/20\n",
      "469/469 [==============================] - 39s 83ms/step - loss: 1.7083 - accuracy: 0.6038 - val_loss: 1.5032 - val_accuracy: 0.7622\n",
      "Epoch 6/20\n",
      "469/469 [==============================] - 38s 81ms/step - loss: 1.4644 - accuracy: 0.6484 - val_loss: 1.2289 - val_accuracy: 0.7877\n",
      "Epoch 7/20\n",
      "469/469 [==============================] - 38s 80ms/step - loss: 1.2432 - accuracy: 0.6814 - val_loss: 1.0056 - val_accuracy: 0.8055\n",
      "Epoch 8/20\n",
      "469/469 [==============================] - 38s 80ms/step - loss: 1.0745 - accuracy: 0.7075 - val_loss: 0.8447 - val_accuracy: 0.8208\n",
      "Epoch 9/20\n",
      "469/469 [==============================] - 38s 80ms/step - loss: 0.9545 - accuracy: 0.7308 - val_loss: 0.7331 - val_accuracy: 0.8327\n",
      "Epoch 10/20\n",
      "469/469 [==============================] - 38s 80ms/step - loss: 0.8634 - accuracy: 0.7488 - val_loss: 0.6536 - val_accuracy: 0.8443\n",
      "Epoch 11/20\n",
      "469/469 [==============================] - 38s 80ms/step - loss: 0.7984 - accuracy: 0.7617 - val_loss: 0.5958 - val_accuracy: 0.8535\n",
      "Epoch 12/20\n",
      "469/469 [==============================] - 37s 80ms/step - loss: 0.7471 - accuracy: 0.7748 - val_loss: 0.5510 - val_accuracy: 0.8608\n",
      "Epoch 13/20\n",
      "469/469 [==============================] - 38s 80ms/step - loss: 0.7079 - accuracy: 0.7847 - val_loss: 0.5165 - val_accuracy: 0.8686\n",
      "Epoch 14/20\n",
      "469/469 [==============================] - 37s 80ms/step - loss: 0.6722 - accuracy: 0.7952 - val_loss: 0.4883 - val_accuracy: 0.8736\n",
      "Epoch 15/20\n",
      "469/469 [==============================] - 37s 80ms/step - loss: 0.6427 - accuracy: 0.8038 - val_loss: 0.4653 - val_accuracy: 0.8785\n",
      "Epoch 16/20\n",
      "469/469 [==============================] - 37s 80ms/step - loss: 0.6170 - accuracy: 0.8099 - val_loss: 0.4459 - val_accuracy: 0.8829\n",
      "Epoch 17/20\n",
      "469/469 [==============================] - 37s 80ms/step - loss: 0.5996 - accuracy: 0.8167 - val_loss: 0.4292 - val_accuracy: 0.8864\n",
      "Epoch 18/20\n",
      "469/469 [==============================] - 37s 79ms/step - loss: 0.5819 - accuracy: 0.8227 - val_loss: 0.4157 - val_accuracy: 0.8890\n",
      "Epoch 19/20\n",
      "469/469 [==============================] - 37s 79ms/step - loss: 0.5612 - accuracy: 0.8295 - val_loss: 0.4028 - val_accuracy: 0.8912\n",
      "Epoch 20/20\n",
      "469/469 [==============================] - 37s 79ms/step - loss: 0.5504 - accuracy: 0.8317 - val_loss: 0.3920 - val_accuracy: 0.8929\n"
     ]
    }
   ],
   "source": [
    "# model.compile(loss='categorical_crossentropy', optimizer='adam', metrics='accuracy')\n",
    "# model.fit(xtrain1,ytrain1,epochs=5,validation_split=.3)\n",
    "model1.compile(loss=tf.keras.losses.categorical_crossentropy,optimizer=tf.keras.optimizers.Adadelta(),metrics=['accuracy'])\n",
    "hist = model1.fit(xtrain1, ytrain1,batch_size=batch_size,epochs=20,verbose=1,validation_data=(xtest1, ytest1))"
   ]
  },
  {
   "cell_type": "code",
   "execution_count": 24,
   "id": "e87059c6-ce86-4862-8e6b-58f8550115f7",
   "metadata": {},
   "outputs": [
    {
     "data": {
      "text/html": [
       "<div>\n",
       "<style scoped>\n",
       "    .dataframe tbody tr th:only-of-type {\n",
       "        vertical-align: middle;\n",
       "    }\n",
       "\n",
       "    .dataframe tbody tr th {\n",
       "        vertical-align: top;\n",
       "    }\n",
       "\n",
       "    .dataframe thead th {\n",
       "        text-align: right;\n",
       "    }\n",
       "</style>\n",
       "<table border=\"1\" class=\"dataframe\">\n",
       "  <thead>\n",
       "    <tr style=\"text-align: right;\">\n",
       "      <th></th>\n",
       "      <th>loss</th>\n",
       "      <th>accuracy</th>\n",
       "      <th>val_loss</th>\n",
       "      <th>val_accuracy</th>\n",
       "    </tr>\n",
       "  </thead>\n",
       "  <tbody>\n",
       "    <tr>\n",
       "      <th>0</th>\n",
       "      <td>2.273957</td>\n",
       "      <td>0.167433</td>\n",
       "      <td>2.227886</td>\n",
       "      <td>0.4276</td>\n",
       "    </tr>\n",
       "    <tr>\n",
       "      <th>1</th>\n",
       "      <td>2.194861</td>\n",
       "      <td>0.325750</td>\n",
       "      <td>2.128700</td>\n",
       "      <td>0.6034</td>\n",
       "    </tr>\n",
       "    <tr>\n",
       "      <th>2</th>\n",
       "      <td>2.086833</td>\n",
       "      <td>0.454667</td>\n",
       "      <td>1.982253</td>\n",
       "      <td>0.6912</td>\n",
       "    </tr>\n",
       "    <tr>\n",
       "      <th>3</th>\n",
       "      <td>1.923714</td>\n",
       "      <td>0.548567</td>\n",
       "      <td>1.770426</td>\n",
       "      <td>0.7372</td>\n",
       "    </tr>\n",
       "    <tr>\n",
       "      <th>4</th>\n",
       "      <td>1.708276</td>\n",
       "      <td>0.603767</td>\n",
       "      <td>1.503237</td>\n",
       "      <td>0.7622</td>\n",
       "    </tr>\n",
       "    <tr>\n",
       "      <th>5</th>\n",
       "      <td>1.464406</td>\n",
       "      <td>0.648350</td>\n",
       "      <td>1.228917</td>\n",
       "      <td>0.7877</td>\n",
       "    </tr>\n",
       "    <tr>\n",
       "      <th>6</th>\n",
       "      <td>1.243248</td>\n",
       "      <td>0.681367</td>\n",
       "      <td>1.005592</td>\n",
       "      <td>0.8055</td>\n",
       "    </tr>\n",
       "    <tr>\n",
       "      <th>7</th>\n",
       "      <td>1.074500</td>\n",
       "      <td>0.707500</td>\n",
       "      <td>0.844664</td>\n",
       "      <td>0.8208</td>\n",
       "    </tr>\n",
       "    <tr>\n",
       "      <th>8</th>\n",
       "      <td>0.954472</td>\n",
       "      <td>0.730783</td>\n",
       "      <td>0.733101</td>\n",
       "      <td>0.8327</td>\n",
       "    </tr>\n",
       "    <tr>\n",
       "      <th>9</th>\n",
       "      <td>0.863376</td>\n",
       "      <td>0.748817</td>\n",
       "      <td>0.653638</td>\n",
       "      <td>0.8443</td>\n",
       "    </tr>\n",
       "    <tr>\n",
       "      <th>10</th>\n",
       "      <td>0.798366</td>\n",
       "      <td>0.761650</td>\n",
       "      <td>0.595753</td>\n",
       "      <td>0.8535</td>\n",
       "    </tr>\n",
       "    <tr>\n",
       "      <th>11</th>\n",
       "      <td>0.747133</td>\n",
       "      <td>0.774817</td>\n",
       "      <td>0.551010</td>\n",
       "      <td>0.8608</td>\n",
       "    </tr>\n",
       "    <tr>\n",
       "      <th>12</th>\n",
       "      <td>0.707936</td>\n",
       "      <td>0.784717</td>\n",
       "      <td>0.516491</td>\n",
       "      <td>0.8686</td>\n",
       "    </tr>\n",
       "    <tr>\n",
       "      <th>13</th>\n",
       "      <td>0.672183</td>\n",
       "      <td>0.795200</td>\n",
       "      <td>0.488304</td>\n",
       "      <td>0.8736</td>\n",
       "    </tr>\n",
       "    <tr>\n",
       "      <th>14</th>\n",
       "      <td>0.642740</td>\n",
       "      <td>0.803817</td>\n",
       "      <td>0.465278</td>\n",
       "      <td>0.8785</td>\n",
       "    </tr>\n",
       "    <tr>\n",
       "      <th>15</th>\n",
       "      <td>0.617029</td>\n",
       "      <td>0.809900</td>\n",
       "      <td>0.445890</td>\n",
       "      <td>0.8829</td>\n",
       "    </tr>\n",
       "    <tr>\n",
       "      <th>16</th>\n",
       "      <td>0.599590</td>\n",
       "      <td>0.816700</td>\n",
       "      <td>0.429205</td>\n",
       "      <td>0.8864</td>\n",
       "    </tr>\n",
       "    <tr>\n",
       "      <th>17</th>\n",
       "      <td>0.581925</td>\n",
       "      <td>0.822650</td>\n",
       "      <td>0.415665</td>\n",
       "      <td>0.8890</td>\n",
       "    </tr>\n",
       "    <tr>\n",
       "      <th>18</th>\n",
       "      <td>0.561228</td>\n",
       "      <td>0.829483</td>\n",
       "      <td>0.402752</td>\n",
       "      <td>0.8912</td>\n",
       "    </tr>\n",
       "    <tr>\n",
       "      <th>19</th>\n",
       "      <td>0.550407</td>\n",
       "      <td>0.831667</td>\n",
       "      <td>0.392047</td>\n",
       "      <td>0.8929</td>\n",
       "    </tr>\n",
       "  </tbody>\n",
       "</table>\n",
       "</div>"
      ],
      "text/plain": [
       "        loss  accuracy  val_loss  val_accuracy\n",
       "0   2.273957  0.167433  2.227886        0.4276\n",
       "1   2.194861  0.325750  2.128700        0.6034\n",
       "2   2.086833  0.454667  1.982253        0.6912\n",
       "3   1.923714  0.548567  1.770426        0.7372\n",
       "4   1.708276  0.603767  1.503237        0.7622\n",
       "5   1.464406  0.648350  1.228917        0.7877\n",
       "6   1.243248  0.681367  1.005592        0.8055\n",
       "7   1.074500  0.707500  0.844664        0.8208\n",
       "8   0.954472  0.730783  0.733101        0.8327\n",
       "9   0.863376  0.748817  0.653638        0.8443\n",
       "10  0.798366  0.761650  0.595753        0.8535\n",
       "11  0.747133  0.774817  0.551010        0.8608\n",
       "12  0.707936  0.784717  0.516491        0.8686\n",
       "13  0.672183  0.795200  0.488304        0.8736\n",
       "14  0.642740  0.803817  0.465278        0.8785\n",
       "15  0.617029  0.809900  0.445890        0.8829\n",
       "16  0.599590  0.816700  0.429205        0.8864\n",
       "17  0.581925  0.822650  0.415665        0.8890\n",
       "18  0.561228  0.829483  0.402752        0.8912\n",
       "19  0.550407  0.831667  0.392047        0.8929"
      ]
     },
     "execution_count": 24,
     "metadata": {},
     "output_type": "execute_result"
    }
   ],
   "source": [
    "pd.DataFrame(model1.history.history)"
   ]
  },
  {
   "cell_type": "markdown",
   "id": "76a2051b-538a-4dd2-9249-3ab5d27799f0",
   "metadata": {
    "tags": []
   },
   "source": [
    "# Second model"
   ]
  },
  {
   "cell_type": "code",
   "execution_count": 25,
   "id": "b0f289e9-9965-497c-97ca-12e770f03b30",
   "metadata": {},
   "outputs": [
    {
     "name": "stdout",
     "output_type": "stream",
     "text": [
      "Test loss: 0.3920471668243408\n",
      "Test accuracy: 0.8928999900817871\n"
     ]
    }
   ],
   "source": [
    "score = model1.evaluate(xtest1, ytest1, verbose=0)\n",
    "print('Test loss:', score[0])\n",
    "print('Test accuracy:', score[1])"
   ]
  },
  {
   "cell_type": "code",
   "execution_count": 26,
   "id": "cc5289a5-dbd3-485a-80ce-860b7d43e0f4",
   "metadata": {},
   "outputs": [
    {
     "name": "stdout",
     "output_type": "stream",
     "text": [
      "INFO:tensorflow:Assets written to: tkinter_model\\assets\n"
     ]
    }
   ],
   "source": [
    "model1.save('./Digit Identification/tkinter_model')"
   ]
  },
  {
   "cell_type": "code",
   "execution_count": 27,
   "id": "a5843f41-ed62-43ee-b2fe-9c679e8e0f03",
   "metadata": {},
   "outputs": [],
   "source": [
    "def predict(file,model,frame_speed=1):\n",
    "    preds = []\n",
    "    ext = file.split('.')[-1]\n",
    "    if ext in 'mp4,ts'.split(','):\n",
    "        font = cv2.FONT_HERSHEY_SCRIPT_COMPLEX\n",
    "        size = 1.5\n",
    "\n",
    "        vid = cv2.VideoCapture(file)\n",
    "\n",
    "        if not vid.isOpened():\n",
    "            vid = cv2.VideoCapture(0)\n",
    "        if not vid.isOpened():\n",
    "            raise IOError('File Not Open')\n",
    "\n",
    "        text = 'some text in a box!'.title()\n",
    "        text_width,text_height=cv2.getTextSize(text,font,fontScale=size,thickness=1)[0]\n",
    "\n",
    "\n",
    "        counter = 0\n",
    "        while True:\n",
    "            ret, frame = vid.read()\n",
    "            counter+=1;\n",
    "            if (counter%frame_speed)==0:\n",
    "                try:\n",
    "                    gray = cv2.cvtColor(frame,cv2.COLOR_BGR2GRAY)\n",
    "                except:\n",
    "                    break\n",
    "                resized = cv2.resize(gray,(28,28),interpolation=cv2.INTER_AREA)\n",
    "\n",
    "                # txt_off_x = 5\n",
    "                # txt_off_y = gray.shape[0]-25\n",
    "                # box = ((txt_off_x,txt_off_y), (txt_off_x+text_width+1,txt_off_y-text_height-5))\n",
    "\n",
    "                img = tf.keras.utils.normalize(resized)\n",
    "                img = np.array(img).reshape(-1,28,28,1)\n",
    "                pred = model.predict(img)\n",
    "                status = np.argmax(pred)\n",
    "                # print(status)\n",
    "                # print(type(status))\n",
    "                preds.append(status)\n",
    "                x1,y1,w1,h1 = 0,0,175,175\n",
    "                cv2.rectangle(frame,(x1,x1),(x1+100,y1+100),(0,0,0),-1)\n",
    "                cv2.putText(frame,status.astype(str),(x1+int(w1/5),y1+int(h1/2)),cv2.FONT_HERSHEY_SCRIPT_COMPLEX,.7,(0,0,255),2)\n",
    "\n",
    "                cv2.imshow('handwritten digits recognition',frame)\n",
    "\n",
    "                if cv2.waitKey(2)&0xFF==ord('q'):\n",
    "                    break\n",
    "        vid.release()\n",
    "        cv2.destroyAllWindows()\n",
    "        return preds\n",
    "    \n",
    "    elif ext in 'png,jpeg'.split(','):\n",
    "        img = cv2.imread(file)\n",
    "        plt.imshow(img)\n",
    "        plt.show()\n",
    "        img = cv2.cvtColor(img,cv2.COLOR_BGR2GRAY)\n",
    "        plt.imshow(img)\n",
    "        plt.show()\n",
    "        img = cv2.resize(img,(28,28),interpolation=cv2.INTER_AREA)\n",
    "        plt.imshow(img)\n",
    "        plt.show()\n",
    "        img = tf.keras.utils.normalize(img)\n",
    "        img = np.array(img).reshape(-1,28,28,1)\n",
    "        pred = model.predict(img)\n",
    "        print('the model identified the digit in the image as'.title(),end='')\n",
    "        statement(np.argmax(pred))"
   ]
  },
  {
   "cell_type": "markdown",
   "id": "7091eb9b-3c38-4cee-aae9-af480bb3ec04",
   "metadata": {},
   "source": [
    "# A small demonsteration"
   ]
  },
  {
   "cell_type": "code",
   "execution_count": 35,
   "id": "c92bd4c2-d271-4650-98f3-e4b6a3f822ed",
   "metadata": {},
   "outputs": [
    {
     "data": {
      "image/png": "[encoded data removed]",
      "text/plain": [
       "<Figure size 432x288 with 1 Axes>"
      ]
     },
     "metadata": {
      "needs_background": "light"
     },
     "output_type": "display_data"
    },
    {
     "data": {
      "image/png": "[encoded data removed]",
      "text/plain": [
       "<Figure size 432x288 with 1 Axes>"
      ]
     },
     "metadata": {
      "needs_background": "light"
     },
     "output_type": "display_data"
    },
    {
     "data": {
      "image/png": "[encoded data removed]",
      "text/plain": [
       "<Figure size 432x288 with 1 Axes>"
      ]
     },
     "metadata": {
      "needs_background": "light"
     },
     "output_type": "display_data"
    },
    {
     "name": "stdout",
     "output_type": "stream",
     "text": [
      "The Model Identified The Digit In The Image As\u001b[33m \u001b[100m \u001b[1m 2 \u001b[0m\n"
     ]
    }
   ],
   "source": [
    "predict('./myImage/2.png',model,frame_speed=1)"
   ]
  },
  {
   "cell_type": "code",
   "execution_count": 37,
   "id": "78c31af0-8e1c-4ef7-a59c-40bd888733af",
   "metadata": {},
   "outputs": [
    {
     "data": {
      "text/plain": [
       "[0,\n",
       " 0,\n",
       " 0,\n",
       " 0,\n",
       " 0,\n",
       " 0,\n",
       " 0,\n",
       " 0,\n",
       " 0,\n",
       " 0,\n",
       " 0,\n",
       " 0,\n",
       " 0,\n",
       " 0,\n",
       " 0,\n",
       " 0,\n",
       " 0,\n",
       " 0,\n",
       " 0,\n",
       " 0,\n",
       " 0,\n",
       " 1,\n",
       " 1,\n",
       " 1,\n",
       " 1,\n",
       " 1,\n",
       " 1,\n",
       " 1,\n",
       " 1,\n",
       " 1,\n",
       " 1,\n",
       " 1,\n",
       " 1,\n",
       " 1,\n",
       " 1,\n",
       " 0,\n",
       " 0,\n",
       " 0,\n",
       " 0,\n",
       " 0,\n",
       " 0,\n",
       " 0,\n",
       " 0,\n",
       " 2,\n",
       " 1,\n",
       " 1,\n",
       " 2,\n",
       " 2,\n",
       " 2,\n",
       " 3,\n",
       " 2,\n",
       " 2,\n",
       " 2,\n",
       " 2,\n",
       " 2,\n",
       " 2,\n",
       " 2,\n",
       " 2,\n",
       " 2,\n",
       " 2,\n",
       " 2,\n",
       " 2,\n",
       " 2,\n",
       " 2,\n",
       " 2,\n",
       " 2,\n",
       " 0,\n",
       " 0,\n",
       " 0,\n",
       " 0,\n",
       " 0,\n",
       " 0,\n",
       " 0,\n",
       " 0,\n",
       " 0,\n",
       " 0,\n",
       " 0,\n",
       " 1,\n",
       " 1,\n",
       " 7,\n",
       " 7,\n",
       " 3,\n",
       " 3,\n",
       " 3,\n",
       " 3,\n",
       " 3,\n",
       " 3,\n",
       " 3,\n",
       " 3,\n",
       " 3,\n",
       " 3,\n",
       " 3,\n",
       " 3,\n",
       " 3,\n",
       " 3,\n",
       " 0,\n",
       " 0,\n",
       " 0,\n",
       " 0,\n",
       " 0,\n",
       " 0,\n",
       " 0,\n",
       " 0,\n",
       " 0,\n",
       " 0,\n",
       " 1,\n",
       " 1,\n",
       " 2,\n",
       " 2,\n",
       " 2,\n",
       " 2,\n",
       " 2,\n",
       " 7,\n",
       " 5,\n",
       " 4,\n",
       " 4,\n",
       " 4,\n",
       " 4,\n",
       " 4,\n",
       " 4,\n",
       " 4,\n",
       " 4,\n",
       " 4,\n",
       " 4,\n",
       " 4,\n",
       " 4,\n",
       " 4,\n",
       " 4,\n",
       " 0,\n",
       " 0,\n",
       " 0,\n",
       " 0,\n",
       " 0,\n",
       " 0,\n",
       " 0,\n",
       " 0,\n",
       " 0,\n",
       " 0,\n",
       " 0,\n",
       " 0,\n",
       " 2,\n",
       " 1,\n",
       " 1,\n",
       " 1,\n",
       " 6,\n",
       " 6,\n",
       " 6,\n",
       " 6,\n",
       " 6,\n",
       " 6,\n",
       " 6,\n",
       " 6,\n",
       " 5,\n",
       " 5,\n",
       " 5,\n",
       " 5,\n",
       " 5,\n",
       " 0,\n",
       " 0,\n",
       " 0,\n",
       " 0,\n",
       " 0,\n",
       " 0,\n",
       " 0,\n",
       " 0,\n",
       " 0,\n",
       " 0,\n",
       " 0,\n",
       " 1,\n",
       " 1,\n",
       " 1,\n",
       " 7,\n",
       " 7,\n",
       " 7,\n",
       " 3,\n",
       " 7,\n",
       " 7,\n",
       " 7,\n",
       " 7,\n",
       " 7,\n",
       " 7,\n",
       " 7,\n",
       " 7,\n",
       " 0,\n",
       " 0,\n",
       " 0,\n",
       " 0,\n",
       " 0,\n",
       " 0,\n",
       " 0,\n",
       " 0,\n",
       " 0,\n",
       " 0,\n",
       " 7,\n",
       " 0,\n",
       " 6,\n",
       " 6,\n",
       " 5,\n",
       " 5,\n",
       " 5,\n",
       " 5,\n",
       " 5,\n",
       " 5,\n",
       " 5,\n",
       " 5,\n",
       " 5,\n",
       " 5,\n",
       " 5,\n",
       " 5,\n",
       " 5,\n",
       " 8,\n",
       " 8,\n",
       " 8,\n",
       " 8,\n",
       " 8,\n",
       " 8,\n",
       " 8,\n",
       " 8,\n",
       " 8,\n",
       " 8,\n",
       " 8,\n",
       " 8,\n",
       " 0,\n",
       " 0,\n",
       " 0,\n",
       " 0,\n",
       " 0,\n",
       " 0,\n",
       " 0,\n",
       " 0,\n",
       " 0,\n",
       " 1,\n",
       " 7,\n",
       " 0,\n",
       " 3,\n",
       " 2,\n",
       " 2,\n",
       " 2,\n",
       " 2,\n",
       " 2,\n",
       " 2,\n",
       " 3,\n",
       " 3,\n",
       " 3,\n",
       " 3,\n",
       " 3,\n",
       " 3,\n",
       " 3,\n",
       " 3,\n",
       " 3,\n",
       " 0,\n",
       " 0,\n",
       " 0,\n",
       " 0,\n",
       " 0,\n",
       " 0,\n",
       " 0,\n",
       " 0,\n",
       " 0,\n",
       " 0,\n",
       " 0,\n",
       " 0,\n",
       " 0,\n",
       " 0,\n",
       " 0,\n",
       " 0,\n",
       " 0,\n",
       " 0,\n",
       " 0,\n",
       " 0,\n",
       " 4,\n",
       " 4,\n",
       " 1,\n",
       " 1,\n",
       " 7,\n",
       " 7,\n",
       " 7,\n",
       " 7,\n",
       " 7,\n",
       " 7,\n",
       " 7,\n",
       " 0,\n",
       " 0,\n",
       " 0,\n",
       " 0,\n",
       " 0,\n",
       " 0,\n",
       " 0,\n",
       " 0,\n",
       " 0,\n",
       " 0,\n",
       " 0,\n",
       " 0,\n",
       " 0,\n",
       " 0,\n",
       " 0,\n",
       " 0,\n",
       " 0,\n",
       " 0,\n",
       " 0,\n",
       " 0,\n",
       " 0,\n",
       " 0,\n",
       " 0,\n",
       " 0,\n",
       " 0,\n",
       " 0,\n",
       " 0,\n",
       " 7,\n",
       " 7,\n",
       " 7,\n",
       " 7,\n",
       " 7,\n",
       " 5,\n",
       " 5,\n",
       " 5,\n",
       " 5,\n",
       " 5,\n",
       " 5,\n",
       " 5,\n",
       " 5,\n",
       " 5,\n",
       " 5,\n",
       " 5,\n",
       " 5,\n",
       " 5,\n",
       " 0,\n",
       " 0,\n",
       " 0,\n",
       " 0,\n",
       " 0,\n",
       " 0,\n",
       " 4,\n",
       " 4,\n",
       " 1,\n",
       " 7,\n",
       " 7,\n",
       " 7,\n",
       " 7,\n",
       " 7,\n",
       " 7,\n",
       " 7,\n",
       " 7,\n",
       " 7,\n",
       " 7,\n",
       " 7,\n",
       " 7,\n",
       " 7,\n",
       " 7,\n",
       " 7,\n",
       " 7,\n",
       " 0,\n",
       " 0,\n",
       " 0,\n",
       " 0,\n",
       " 0,\n",
       " 0,\n",
       " 0,\n",
       " 0,\n",
       " 0,\n",
       " 7,\n",
       " 7,\n",
       " 2,\n",
       " 5,\n",
       " 5,\n",
       " 5,\n",
       " 5,\n",
       " 5,\n",
       " 5,\n",
       " 5,\n",
       " 8,\n",
       " 8,\n",
       " 8,\n",
       " 8,\n",
       " 8,\n",
       " 8,\n",
       " 8,\n",
       " 0,\n",
       " 0,\n",
       " 0,\n",
       " 0,\n",
       " 0,\n",
       " 0,\n",
       " 0,\n",
       " 0,\n",
       " 0,\n",
       " 7,\n",
       " 7,\n",
       " 7,\n",
       " 5,\n",
       " 8,\n",
       " 2,\n",
       " 9,\n",
       " 9,\n",
       " 9,\n",
       " 9,\n",
       " 9,\n",
       " 9,\n",
       " 9,\n",
       " 0,\n",
       " 0,\n",
       " 0,\n",
       " 0,\n",
       " 0,\n",
       " 0,\n",
       " 0,\n",
       " 0,\n",
       " 0,\n",
       " 0,\n",
       " 0,\n",
       " 0,\n",
       " 0,\n",
       " 0,\n",
       " 0,\n",
       " 0,\n",
       " 0,\n",
       " 0,\n",
       " 0,\n",
       " 0,\n",
       " 7,\n",
       " 1,\n",
       " 1,\n",
       " 7,\n",
       " 7,\n",
       " 7,\n",
       " 3,\n",
       " 3,\n",
       " 3,\n",
       " 3,\n",
       " 3,\n",
       " 3,\n",
       " 3,\n",
       " 3,\n",
       " 0,\n",
       " 0,\n",
       " 0,\n",
       " 0,\n",
       " 0,\n",
       " 0,\n",
       " 1,\n",
       " 1,\n",
       " 1,\n",
       " 7,\n",
       " 3,\n",
       " 2,\n",
       " 2,\n",
       " 2,\n",
       " 2,\n",
       " 2,\n",
       " 2,\n",
       " 2,\n",
       " 2,\n",
       " 0,\n",
       " 0,\n",
       " 0,\n",
       " 0,\n",
       " 0,\n",
       " 0,\n",
       " 0,\n",
       " 0,\n",
       " 0,\n",
       " 0,\n",
       " 0,\n",
       " 0,\n",
       " 0,\n",
       " 0,\n",
       " 4,\n",
       " 4,\n",
       " 1,\n",
       " 1,\n",
       " 1,\n",
       " 1,\n",
       " 1,\n",
       " 1,\n",
       " 1,\n",
       " 1,\n",
       " 1,\n",
       " 1,\n",
       " 1,\n",
       " 1,\n",
       " 1,\n",
       " 1,\n",
       " 1,\n",
       " 1,\n",
       " 1,\n",
       " 1,\n",
       " 1,\n",
       " 1,\n",
       " 1,\n",
       " 1,\n",
       " 1,\n",
       " 1,\n",
       " 1]"
      ]
     },
     "execution_count": 37,
     "metadata": {},
     "output_type": "execute_result"
    }
   ],
   "source": [
    "li = predict('./myImage/2022-02-02-18-10-28.mp4',model)\n",
    "li"
   ]
  }
 ],
 "metadata": {
  "kernelspec": {
   "display_name": "Python 3 (ipykernel)",
   "language": "python",
   "name": "python3"
  },
  "language_info": {
   "codemirror_mode": {
    "name": "ipython",
    "version": 3
   },
   "file_extension": ".py",
   "mimetype": "text/x-python",
   "name": "python",
   "nbconvert_exporter": "python",
   "pygments_lexer": "ipython3",
   "version": "3.9.2"
  }
 },
 "nbformat": 4,
 "nbformat_minor": 5
}
