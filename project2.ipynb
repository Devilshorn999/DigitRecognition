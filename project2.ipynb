{
 "cells": [
  {
   "cell_type": "code",
   "execution_count": 37,
   "id": "7a6c2142-831b-433d-8866-68279e48ac2f",
   "metadata": {},
   "outputs": [],
   "source": [
    "from colorama import Fore, Back, Style\n",
    "from random import choice\n",
    "import numpy as np\n",
    "import matplotlib.pyplot as plt\n",
    "import cv2\n",
    "import argparse\n",
    "\n",
    "import tensorflow as tf\n",
    "from tensorflow.keras.models import Sequential,load_model\n",
    "from tensorflow.keras.layers import Dense, Dropout, Activation, Flatten,Conv2D, MaxPooling2D\n",
    "from keras.preprocessing.image import ImageDataGenerator"
   ]
  },
  {
   "cell_type": "code",
   "execution_count": 38,
   "id": "bc0e524d-1e82-4ee6-a917-d753ebc852d9",
   "metadata": {},
   "outputs": [],
   "source": [
    "def statement(stmnt):\n",
    "    print(Fore.YELLOW, Back.LIGHTBLACK_EX, Style.BRIGHT, stmnt, Style.RESET_ALL)"
   ]
  },
  {
   "cell_type": "code",
   "execution_count": 39,
   "id": "081afbfb-0145-4eca-9f3d-6cc242fd8e29",
   "metadata": {},
   "outputs": [],
   "source": [
    "mnist = tf.keras.datasets.mnist"
   ]
  },
  {
   "cell_type": "code",
   "execution_count": 40,
   "id": "f993d9a9-08b2-4cda-b71d-d87f17960c5a",
   "metadata": {},
   "outputs": [
    {
     "data": {
      "text/plain": [
       "((array([[[0, 0, 0, ..., 0, 0, 0],\n",
       "          [0, 0, 0, ..., 0, 0, 0],\n",
       "          [0, 0, 0, ..., 0, 0, 0],\n",
       "          ...,\n",
       "          [0, 0, 0, ..., 0, 0, 0],\n",
       "          [0, 0, 0, ..., 0, 0, 0],\n",
       "          [0, 0, 0, ..., 0, 0, 0]],\n",
       "  \n",
       "         [[0, 0, 0, ..., 0, 0, 0],\n",
       "          [0, 0, 0, ..., 0, 0, 0],\n",
       "          [0, 0, 0, ..., 0, 0, 0],\n",
       "          ...,\n",
       "          [0, 0, 0, ..., 0, 0, 0],\n",
       "          [0, 0, 0, ..., 0, 0, 0],\n",
       "          [0, 0, 0, ..., 0, 0, 0]],\n",
       "  \n",
       "         [[0, 0, 0, ..., 0, 0, 0],\n",
       "          [0, 0, 0, ..., 0, 0, 0],\n",
       "          [0, 0, 0, ..., 0, 0, 0],\n",
       "          ...,\n",
       "          [0, 0, 0, ..., 0, 0, 0],\n",
       "          [0, 0, 0, ..., 0, 0, 0],\n",
       "          [0, 0, 0, ..., 0, 0, 0]],\n",
       "  \n",
       "         ...,\n",
       "  \n",
       "         [[0, 0, 0, ..., 0, 0, 0],\n",
       "          [0, 0, 0, ..., 0, 0, 0],\n",
       "          [0, 0, 0, ..., 0, 0, 0],\n",
       "          ...,\n",
       "          [0, 0, 0, ..., 0, 0, 0],\n",
       "          [0, 0, 0, ..., 0, 0, 0],\n",
       "          [0, 0, 0, ..., 0, 0, 0]],\n",
       "  \n",
       "         [[0, 0, 0, ..., 0, 0, 0],\n",
       "          [0, 0, 0, ..., 0, 0, 0],\n",
       "          [0, 0, 0, ..., 0, 0, 0],\n",
       "          ...,\n",
       "          [0, 0, 0, ..., 0, 0, 0],\n",
       "          [0, 0, 0, ..., 0, 0, 0],\n",
       "          [0, 0, 0, ..., 0, 0, 0]],\n",
       "  \n",
       "         [[0, 0, 0, ..., 0, 0, 0],\n",
       "          [0, 0, 0, ..., 0, 0, 0],\n",
       "          [0, 0, 0, ..., 0, 0, 0],\n",
       "          ...,\n",
       "          [0, 0, 0, ..., 0, 0, 0],\n",
       "          [0, 0, 0, ..., 0, 0, 0],\n",
       "          [0, 0, 0, ..., 0, 0, 0]]], dtype=uint8),\n",
       "  array([5, 0, 4, ..., 5, 6, 8], dtype=uint8)),\n",
       " (array([[[0, 0, 0, ..., 0, 0, 0],\n",
       "          [0, 0, 0, ..., 0, 0, 0],\n",
       "          [0, 0, 0, ..., 0, 0, 0],\n",
       "          ...,\n",
       "          [0, 0, 0, ..., 0, 0, 0],\n",
       "          [0, 0, 0, ..., 0, 0, 0],\n",
       "          [0, 0, 0, ..., 0, 0, 0]],\n",
       "  \n",
       "         [[0, 0, 0, ..., 0, 0, 0],\n",
       "          [0, 0, 0, ..., 0, 0, 0],\n",
       "          [0, 0, 0, ..., 0, 0, 0],\n",
       "          ...,\n",
       "          [0, 0, 0, ..., 0, 0, 0],\n",
       "          [0, 0, 0, ..., 0, 0, 0],\n",
       "          [0, 0, 0, ..., 0, 0, 0]],\n",
       "  \n",
       "         [[0, 0, 0, ..., 0, 0, 0],\n",
       "          [0, 0, 0, ..., 0, 0, 0],\n",
       "          [0, 0, 0, ..., 0, 0, 0],\n",
       "          ...,\n",
       "          [0, 0, 0, ..., 0, 0, 0],\n",
       "          [0, 0, 0, ..., 0, 0, 0],\n",
       "          [0, 0, 0, ..., 0, 0, 0]],\n",
       "  \n",
       "         ...,\n",
       "  \n",
       "         [[0, 0, 0, ..., 0, 0, 0],\n",
       "          [0, 0, 0, ..., 0, 0, 0],\n",
       "          [0, 0, 0, ..., 0, 0, 0],\n",
       "          ...,\n",
       "          [0, 0, 0, ..., 0, 0, 0],\n",
       "          [0, 0, 0, ..., 0, 0, 0],\n",
       "          [0, 0, 0, ..., 0, 0, 0]],\n",
       "  \n",
       "         [[0, 0, 0, ..., 0, 0, 0],\n",
       "          [0, 0, 0, ..., 0, 0, 0],\n",
       "          [0, 0, 0, ..., 0, 0, 0],\n",
       "          ...,\n",
       "          [0, 0, 0, ..., 0, 0, 0],\n",
       "          [0, 0, 0, ..., 0, 0, 0],\n",
       "          [0, 0, 0, ..., 0, 0, 0]],\n",
       "  \n",
       "         [[0, 0, 0, ..., 0, 0, 0],\n",
       "          [0, 0, 0, ..., 0, 0, 0],\n",
       "          [0, 0, 0, ..., 0, 0, 0],\n",
       "          ...,\n",
       "          [0, 0, 0, ..., 0, 0, 0],\n",
       "          [0, 0, 0, ..., 0, 0, 0],\n",
       "          [0, 0, 0, ..., 0, 0, 0]]], dtype=uint8),\n",
       "  array([7, 2, 1, ..., 4, 5, 6], dtype=uint8)))"
      ]
     },
     "execution_count": 40,
     "metadata": {},
     "output_type": "execute_result"
    }
   ],
   "source": [
    "mnist.load_data()"
   ]
  },
  {
   "cell_type": "markdown",
   "id": "25e34a23-d4d9-4e94-845a-8347969046e6",
   "metadata": {},
   "source": [
    "# Loading the data into training and testing samples"
   ]
  },
  {
   "cell_type": "code",
   "execution_count": 41,
   "id": "4d1ddf7d-3097-4bb1-99c8-52e620e904f3",
   "metadata": {},
   "outputs": [],
   "source": [
    "(xtrain, ytrain),(xtest, ytest) = mnist.load_data()"
   ]
  },
  {
   "cell_type": "code",
   "execution_count": 42,
   "id": "3f78629a-e08d-4385-8c1f-34bb511a418c",
   "metadata": {},
   "outputs": [
    {
     "data": {
      "text/plain": [
       "(60000, 28, 28)"
      ]
     },
     "execution_count": 42,
     "metadata": {},
     "output_type": "execute_result"
    }
   ],
   "source": [
    "xtrain.shape"
   ]
  },
  {
   "cell_type": "code",
   "execution_count": 43,
   "id": "0d49d3af-bf7f-47da-bf5d-039903df7c0a",
   "metadata": {},
   "outputs": [
    {
     "data": {
      "text/plain": [
       "(10000, 28, 28)"
      ]
     },
     "execution_count": 43,
     "metadata": {},
     "output_type": "execute_result"
    }
   ],
   "source": [
    "xtest.shape"
   ]
  },
  {
   "cell_type": "markdown",
   "id": "e1d385de-a8cd-4cb4-9df3-60f5f907d5a7",
   "metadata": {},
   "source": [
    "# Crosschecking training and testing data with corresponding labels"
   ]
  },
  {
   "cell_type": "code",
   "execution_count": 44,
   "id": "f46f5ca7-f1f1-4637-ac33-d33c0e29514a",
   "metadata": {},
   "outputs": [
    {
     "data": {
      "image/png": "[encoded data removed]",
      "text/plain": [
       "<Figure size 432x288 with 1 Axes>"
      ]
     },
     "metadata": {
      "needs_background": "light"
     },
     "output_type": "display_data"
    },
    {
     "data": {
      "image/png": "[encoded data removed]",
      "text/plain": [
       "<Figure size 432x288 with 1 Axes>"
      ]
     },
     "metadata": {
      "needs_background": "light"
     },
     "output_type": "display_data"
    },
    {
     "name": "stdout",
     "output_type": "stream",
     "text": [
      "\u001b[33m \u001b[100m \u001b[1m Label Value At Index(11785) For Training Data = 5\n",
      "    Label Value At Index(4082) For Testing Data = 0 \u001b[0m\n"
     ]
    },
    {
     "data": {
      "image/png": "[encoded data removed]",
      "text/plain": [
       "<Figure size 432x288 with 1 Axes>"
      ]
     },
     "metadata": {
      "needs_background": "light"
     },
     "output_type": "display_data"
    },
    {
     "data": {
      "image/png": "[encoded data removed]",
      "text/plain": [
       "<Figure size 432x288 with 1 Axes>"
      ]
     },
     "metadata": {
      "needs_background": "light"
     },
     "output_type": "display_data"
    },
    {
     "name": "stdout",
     "output_type": "stream",
     "text": [
      "\u001b[33m \u001b[100m \u001b[1m Label Value At Index(10527) For Training Data = 3\n",
      "    Label Value At Index(6742) For Testing Data = 4 \u001b[0m\n"
     ]
    },
    {
     "data": {
      "image/png": "[encoded data removed]",
      "text/plain": [
       "<Figure size 432x288 with 1 Axes>"
      ]
     },
     "metadata": {
      "needs_background": "light"
     },
     "output_type": "display_data"
    },
    {
     "data": {
      "image/png": "[encoded data removed]",
      "text/plain": [
       "<Figure size 432x288 with 1 Axes>"
      ]
     },
     "metadata": {
      "needs_background": "light"
     },
     "output_type": "display_data"
    },
    {
     "name": "stdout",
     "output_type": "stream",
     "text": [
      "\u001b[33m \u001b[100m \u001b[1m Label Value At Index(55595) For Training Data = 9\n",
      "    Label Value At Index(8212) For Testing Data = 0 \u001b[0m\n"
     ]
    },
    {
     "data": {
      "image/png": "[encoded data removed]",
      "text/plain": [
       "<Figure size 432x288 with 1 Axes>"
      ]
     },
     "metadata": {
      "needs_background": "light"
     },
     "output_type": "display_data"
    },
    {
     "data": {
      "image/png": "[encoded data removed]",
      "text/plain": [
       "<Figure size 432x288 with 1 Axes>"
      ]
     },
     "metadata": {
      "needs_background": "light"
     },
     "output_type": "display_data"
    },
    {
     "name": "stdout",
     "output_type": "stream",
     "text": [
      "\u001b[33m \u001b[100m \u001b[1m Label Value At Index(9428) For Training Data = 9\n",
      "    Label Value At Index(9428) For Testing Data = 5 \u001b[0m\n"
     ]
    },
    {
     "data": {
      "image/png": "[encoded data removed]",
      "text/plain": [
       "<Figure size 432x288 with 1 Axes>"
      ]
     },
     "metadata": {
      "needs_background": "light"
     },
     "output_type": "display_data"
    },
    {
     "data": {
      "image/png": "[encoded data removed]",
      "text/plain": [
       "<Figure size 432x288 with 1 Axes>"
      ]
     },
     "metadata": {
      "needs_background": "light"
     },
     "output_type": "display_data"
    },
    {
     "name": "stdout",
     "output_type": "stream",
     "text": [
      "\u001b[33m \u001b[100m \u001b[1m Label Value At Index(19751) For Training Data = 1\n",
      "    Label Value At Index(6063) For Testing Data = 1 \u001b[0m\n"
     ]
    }
   ],
   "source": [
    "for j in range(5):\n",
    "    i = choice(range(60000))\n",
    "    plt.imshow(xtrain[i])\n",
    "    plt.show()\n",
    "    try:\n",
    "        k = i\n",
    "        plt.imshow(xtest[k],cmap= plt.cm.binary_r)\n",
    "    except IndexError:\n",
    "        k = choice(range(10000))\n",
    "        plt.imshow(xtest[k],cmap= plt.cm.binary_r)\n",
    "    plt.show()\n",
    "    stmnt = f'''label value at index({i}) for training data = {ytrain[i]}\n",
    "    label value at index({k}) for testing data = {ytest[k]}'''.title()\n",
    "    statement(stmnt)"
   ]
  },
  {
   "cell_type": "code",
   "execution_count": 45,
   "id": "89780c34-e53e-4df0-848c-7ccba7a3425a",
   "metadata": {},
   "outputs": [
    {
     "data": {
      "text/plain": [
       "(60000, 28, 28)"
      ]
     },
     "execution_count": 45,
     "metadata": {},
     "output_type": "execute_result"
    }
   ],
   "source": [
    "xtrain.shape"
   ]
  },
  {
   "cell_type": "markdown",
   "id": "f6894bfd-9d1c-4c14-9a68-0cdf5ee4bec0",
   "metadata": {},
   "source": [
    "# Normalizing the data"
   ]
  },
  {
   "cell_type": "code",
   "execution_count": 46,
   "id": "75f6d32d-0598-48dd-b9c2-30e64086000d",
   "metadata": {},
   "outputs": [],
   "source": [
    "xtrain = tf.keras.utils.normalize(xtrain)\n",
    "xtest = tf.keras.utils.normalize(xtest)"
   ]
  },
  {
   "cell_type": "code",
   "execution_count": 47,
   "id": "5ccb2086-4502-40a6-bbe1-202b08dbfc57",
   "metadata": {},
   "outputs": [
    {
     "data": {
      "image/png": "[encoded data removed]",
      "text/plain": [
       "<Figure size 432x288 with 1 Axes>"
      ]
     },
     "metadata": {
      "needs_background": "light"
     },
     "output_type": "display_data"
    },
    {
     "data": {
      "image/png": "[encoded data removed]",
      "text/plain": [
       "<Figure size 432x288 with 1 Axes>"
      ]
     },
     "metadata": {
      "needs_background": "light"
     },
     "output_type": "display_data"
    },
    {
     "name": "stdout",
     "output_type": "stream",
     "text": [
      "\u001b[33m \u001b[100m \u001b[1m Label Value At Index(47300) For Training Data = 6\n",
      "    Label Value At Index(8007) For Testing Data = 0 \u001b[0m\n"
     ]
    },
    {
     "data": {
      "image/png": "[encoded data removed]",
      "text/plain": [
       "<Figure size 432x288 with 1 Axes>"
      ]
     },
     "metadata": {
      "needs_background": "light"
     },
     "output_type": "display_data"
    },
    {
     "data": {
      "image/png": "[encoded data removed]",
      "text/plain": [
       "<Figure size 432x288 with 1 Axes>"
      ]
     },
     "metadata": {
      "needs_background": "light"
     },
     "output_type": "display_data"
    },
    {
     "name": "stdout",
     "output_type": "stream",
     "text": [
      "\u001b[33m \u001b[100m \u001b[1m Label Value At Index(37626) For Training Data = 3\n",
      "    Label Value At Index(1619) For Testing Data = 0 \u001b[0m\n"
     ]
    },
    {
     "data": {
      "image/png": "[encoded data removed]",
      "text/plain": [
       "<Figure size 432x288 with 1 Axes>"
      ]
     },
     "metadata": {
      "needs_background": "light"
     },
     "output_type": "display_data"
    },
    {
     "data": {
      "image/png": "[encoded data removed]",
      "text/plain": [
       "<Figure size 432x288 with 1 Axes>"
      ]
     },
     "metadata": {
      "needs_background": "light"
     },
     "output_type": "display_data"
    },
    {
     "name": "stdout",
     "output_type": "stream",
     "text": [
      "\u001b[33m \u001b[100m \u001b[1m Label Value At Index(51089) For Training Data = 6\n",
      "    Label Value At Index(9425) For Testing Data = 0 \u001b[0m\n"
     ]
    },
    {
     "data": {
      "image/png": "[encoded data removed]",
      "text/plain": [
       "<Figure size 432x288 with 1 Axes>"
      ]
     },
     "metadata": {
      "needs_background": "light"
     },
     "output_type": "display_data"
    },
    {
     "data": {
      "image/png": "[encoded data removed]",
      "text/plain": [
       "<Figure size 432x288 with 1 Axes>"
      ]
     },
     "metadata": {
      "needs_background": "light"
     },
     "output_type": "display_data"
    },
    {
     "name": "stdout",
     "output_type": "stream",
     "text": [
      "\u001b[33m \u001b[100m \u001b[1m Label Value At Index(29373) For Training Data = 7\n",
      "    Label Value At Index(8886) For Testing Data = 4 \u001b[0m\n"
     ]
    },
    {
     "data": {
      "image/png": "[encoded data removed]",
      "text/plain": [
       "<Figure size 432x288 with 1 Axes>"
      ]
     },
     "metadata": {
      "needs_background": "light"
     },
     "output_type": "display_data"
    },
    {
     "data": {
      "image/png": "[encoded data removed]",
      "text/plain": [
       "<Figure size 432x288 with 1 Axes>"
      ]
     },
     "metadata": {
      "needs_background": "light"
     },
     "output_type": "display_data"
    },
    {
     "name": "stdout",
     "output_type": "stream",
     "text": [
      "\u001b[33m \u001b[100m \u001b[1m Label Value At Index(28582) For Training Data = 9\n",
      "    Label Value At Index(4041) For Testing Data = 8 \u001b[0m\n"
     ]
    }
   ],
   "source": [
    "for j in range(5):\n",
    "    i = choice(range(60000))\n",
    "    plt.imshow(xtrain[i])\n",
    "    plt.show()\n",
    "    try:\n",
    "        k = i\n",
    "        plt.imshow(xtest[k],cmap= plt.cm.binary_r)\n",
    "    except IndexError:\n",
    "        k = choice(range(10000))\n",
    "        plt.imshow(xtest[k],cmap= plt.cm.binary_r)\n",
    "    plt.show()\n",
    "    stmnt = f'''label value at index({i}) for training data = {ytrain[i]}\n",
    "    label value at index({k}) for testing data = {ytest[k]}'''.title()\n",
    "    statement(stmnt)"
   ]
  },
  {
   "cell_type": "markdown",
   "id": "77cc4b15-cd01-4006-bade-f40e3d620d6e",
   "metadata": {},
   "source": [
    "# Reshaping the data with last point having the color setting set to grayscale"
   ]
  },
  {
   "cell_type": "code",
   "execution_count": 48,
   "id": "21f096f5-338c-4990-a7c0-486aa1f4db60",
   "metadata": {},
   "outputs": [
    {
     "name": "stdout",
     "output_type": "stream",
     "text": [
      "\u001b[33m \u001b[100m \u001b[1m Training Shape : (60000, 28, 28, 1) \u001b[0m\n",
      "\u001b[33m \u001b[100m \u001b[1m Testing Shape : (10000, 28, 28, 1) \u001b[0m\n"
     ]
    }
   ],
   "source": [
    "img = 28\n",
    "xtrain = np.array(xtrain).reshape(-1, img, img, 1)\n",
    "xtest = np.array(xtest).reshape(-1, img, img, 1)\n",
    "statement(f'training shape : {xtrain.shape}'.title())\n",
    "statement(f'testing shape : {xtest.shape}'.title())"
   ]
  },
  {
   "cell_type": "markdown",
   "id": "a6b5e709-6037-4f2d-93d6-e816c4e563bf",
   "metadata": {},
   "source": [
    "# Initializing ImageDataGenerator"
   ]
  },
  {
   "cell_type": "code",
   "execution_count": 49,
   "id": "143b65bc-7367-452a-aa1f-84c819d6048c",
   "metadata": {},
   "outputs": [],
   "source": [
    "# # datagen = ImageDataGenerator(\n",
    "# #         rotation_range=20,\n",
    "# #         width_shift_range=0.3,\n",
    "# #         height_shift_range=0.3,\n",
    "# #         zoom_range=[.6,1.5],\n",
    "# #         brightness_range=[0.2,1.3],\n",
    "# #         shear_range=0.3\n",
    "# # )\n",
    "# datagen = ImageDataGenerator(\n",
    "#         rotation_range=10,\n",
    "#         width_shift_range=0.2,\n",
    "#         height_shift_range=0.2,\n",
    "#         zoom_range=[.8,1.3],\n",
    "#         brightness_range=[0.2,1.3],\n",
    "#         shear_range=0.2\n",
    "# )\n",
    "\n",
    "\n",
    "# training_batch = datagen.flow(xtrain,ytrain,batch_size=64)\n",
    "# # batch2 = datagen.flow(xtrain_,ytrain_,batch_size=64)\n",
    "# val_batch = datagen.flow(xtest,ytest,batch_size=64)"
   ]
  },
  {
   "cell_type": "markdown",
   "id": "e7f768ac-ae8f-473b-ad12-a49473afa395",
   "metadata": {},
   "source": [
    "# Creating a convolutional neural network with 3 convolutional layers and 2 dense layer"
   ]
  },
  {
   "cell_type": "code",
   "execution_count": 50,
   "id": "587ddeac-abbe-4632-993e-066ccb9a8ed4",
   "metadata": {},
   "outputs": [
    {
     "name": "stdout",
     "output_type": "stream",
     "text": [
      "Model: \"sequential_3\"\n",
      "_________________________________________________________________\n",
      " Layer (type)                Output Shape              Param #   \n",
      "=================================================================\n",
      " conv2d_9 (Conv2D)           (None, 26, 26, 64)        640       \n",
      "                                                                 \n",
      " max_pooling2d_9 (MaxPooling  (None, 13, 13, 64)       0         \n",
      " 2D)                                                             \n",
      "                                                                 \n",
      " conv2d_10 (Conv2D)          (None, 11, 11, 64)        36928     \n",
      "                                                                 \n",
      " max_pooling2d_10 (MaxPoolin  (None, 5, 5, 64)         0         \n",
      " g2D)                                                            \n",
      "                                                                 \n",
      " conv2d_11 (Conv2D)          (None, 3, 3, 64)          36928     \n",
      "                                                                 \n",
      " max_pooling2d_11 (MaxPoolin  (None, 1, 1, 64)         0         \n",
      " g2D)                                                            \n",
      "                                                                 \n",
      " flatten_3 (Flatten)         (None, 64)                0         \n",
      "                                                                 \n",
      " dense_9 (Dense)             (None, 64)                4160      \n",
      "                                                                 \n",
      " dense_10 (Dense)            (None, 32)                2080      \n",
      "                                                                 \n",
      " dense_11 (Dense)            (None, 10)                330       \n",
      "                                                                 \n",
      "=================================================================\n",
      "Total params: 81,066\n",
      "Trainable params: 81,066\n",
      "Non-trainable params: 0\n",
      "_________________________________________________________________\n"
     ]
    }
   ],
   "source": [
    "model = Sequential([\n",
    "    # Convolutional layers\n",
    "    Conv2D(64, (3,3), input_shape=xtrain.shape[1:], activation='relu'),\n",
    "    MaxPooling2D(2),\n",
    "    Conv2D(64, (3,3), input_shape=xtrain.shape[1:], activation='relu'),\n",
    "    MaxPooling2D(2),\n",
    "    Conv2D(64, (3,3), input_shape=xtrain.shape[1:], activation='relu'),\n",
    "    MaxPooling2D(2),\n",
    "    # Neural network\n",
    "    Flatten(),\n",
    "    # Hidden Layers\n",
    "    Dense(64,activation='relu'),\n",
    "    Dense(32,activation='relu'),\n",
    "    # Output Neuron\n",
    "    Dense(10,activation='softmax'),\n",
    "])\n",
    "model.summary()"
   ]
  },
  {
   "cell_type": "code",
   "execution_count": 51,
   "id": "104f7d18-2233-448c-865a-c39e144f92d8",
   "metadata": {},
   "outputs": [],
   "source": [
    "model.compile(loss='sparse_categorical_crossentropy', optimizer='adam', metrics='accuracy')"
   ]
  },
  {
   "cell_type": "code",
   "execution_count": 52,
   "id": "40a108e6-4939-4e23-b85d-446cf9d1a141",
   "metadata": {},
   "outputs": [
    {
     "name": "stdout",
     "output_type": "stream",
     "text": [
      "Epoch 1/20\n",
      "1875/1875 [==============================] - 27s 14ms/step - loss: 0.2719 - accuracy: 0.9161 - val_loss: 0.0979 - val_accuracy: 0.9708\n",
      "Epoch 2/20\n",
      "1875/1875 [==============================] - 26s 14ms/step - loss: 0.0883 - accuracy: 0.9733 - val_loss: 0.0724 - val_accuracy: 0.9780\n",
      "Epoch 3/20\n",
      "1875/1875 [==============================] - 28s 15ms/step - loss: 0.0629 - accuracy: 0.9816 - val_loss: 0.0561 - val_accuracy: 0.9842\n",
      "Epoch 4/20\n",
      "1875/1875 [==============================] - 25s 14ms/step - loss: 0.0497 - accuracy: 0.9845 - val_loss: 0.0537 - val_accuracy: 0.9848\n",
      "Epoch 5/20\n",
      "1875/1875 [==============================] - 25s 14ms/step - loss: 0.0396 - accuracy: 0.9878 - val_loss: 0.0517 - val_accuracy: 0.9854\n",
      "Epoch 6/20\n",
      "1875/1875 [==============================] - 26s 14ms/step - loss: 0.0319 - accuracy: 0.9899 - val_loss: 0.0538 - val_accuracy: 0.9863\n",
      "Epoch 7/20\n",
      "1875/1875 [==============================] - 26s 14ms/step - loss: 0.0276 - accuracy: 0.9912 - val_loss: 0.0497 - val_accuracy: 0.9859\n",
      "Epoch 8/20\n",
      "1875/1875 [==============================] - 26s 14ms/step - loss: 0.0222 - accuracy: 0.9930 - val_loss: 0.0540 - val_accuracy: 0.9852\n",
      "Epoch 9/20\n",
      "1875/1875 [==============================] - 26s 14ms/step - loss: 0.0186 - accuracy: 0.9937 - val_loss: 0.0549 - val_accuracy: 0.9875\n",
      "Epoch 10/20\n",
      "1875/1875 [==============================] - 25s 14ms/step - loss: 0.0190 - accuracy: 0.9941 - val_loss: 0.0578 - val_accuracy: 0.9858\n",
      "Epoch 11/20\n",
      "1875/1875 [==============================] - 26s 14ms/step - loss: 0.0154 - accuracy: 0.9947 - val_loss: 0.0531 - val_accuracy: 0.9892\n",
      "Epoch 12/20\n",
      "1875/1875 [==============================] - 26s 14ms/step - loss: 0.0133 - accuracy: 0.9959 - val_loss: 0.0559 - val_accuracy: 0.9864\n",
      "Epoch 13/20\n",
      "1875/1875 [==============================] - 26s 14ms/step - loss: 0.0143 - accuracy: 0.9952 - val_loss: 0.0544 - val_accuracy: 0.9871\n",
      "Epoch 14/20\n",
      "1875/1875 [==============================] - 26s 14ms/step - loss: 0.0109 - accuracy: 0.9966 - val_loss: 0.0642 - val_accuracy: 0.9871\n",
      "Epoch 15/20\n",
      "1875/1875 [==============================] - 26s 14ms/step - loss: 0.0119 - accuracy: 0.9962 - val_loss: 0.0486 - val_accuracy: 0.9886\n",
      "Epoch 16/20\n",
      "1875/1875 [==============================] - 26s 14ms/step - loss: 0.0098 - accuracy: 0.9970 - val_loss: 0.0712 - val_accuracy: 0.9862\n",
      "Epoch 17/20\n",
      "1875/1875 [==============================] - 26s 14ms/step - loss: 0.0098 - accuracy: 0.9967 - val_loss: 0.0880 - val_accuracy: 0.9828\n",
      "Epoch 18/20\n",
      "1875/1875 [==============================] - 26s 14ms/step - loss: 0.0082 - accuracy: 0.9971 - val_loss: 0.0653 - val_accuracy: 0.9880\n",
      "Epoch 19/20\n",
      "1875/1875 [==============================] - 26s 14ms/step - loss: 0.0097 - accuracy: 0.9967 - val_loss: 0.0554 - val_accuracy: 0.9889\n",
      "Epoch 20/20\n",
      "1875/1875 [==============================] - 27s 14ms/step - loss: 0.0076 - accuracy: 0.9976 - val_loss: 0.0680 - val_accuracy: 0.9874\n"
     ]
    },
    {
     "data": {
      "text/plain": [
       "<keras.callbacks.History at 0x10a5afa1e20>"
      ]
     },
     "execution_count": 52,
     "metadata": {},
     "output_type": "execute_result"
    }
   ],
   "source": [
    "model.fit(xtrain,ytrain,epochs=20,validation_data=[xtest,ytest])"
   ]
  },
  {
   "cell_type": "code",
   "execution_count": 53,
   "id": "64e2e16b-457b-4845-97da-8fadcf18823b",
   "metadata": {},
   "outputs": [
    {
     "data": {
      "text/html": [
       "<div>\n",
       "<style scoped>\n",
       "    .dataframe tbody tr th:only-of-type {\n",
       "        vertical-align: middle;\n",
       "    }\n",
       "\n",
       "    .dataframe tbody tr th {\n",
       "        vertical-align: top;\n",
       "    }\n",
       "\n",
       "    .dataframe thead th {\n",
       "        text-align: right;\n",
       "    }\n",
       "</style>\n",
       "<table border=\"1\" class=\"dataframe\">\n",
       "  <thead>\n",
       "    <tr style=\"text-align: right;\">\n",
       "      <th></th>\n",
       "      <th>loss</th>\n",
       "      <th>accuracy</th>\n",
       "      <th>val_loss</th>\n",
       "      <th>val_accuracy</th>\n",
       "    </tr>\n",
       "  </thead>\n",
       "  <tbody>\n",
       "    <tr>\n",
       "      <th>0</th>\n",
       "      <td>0.271852</td>\n",
       "      <td>0.916133</td>\n",
       "      <td>0.097853</td>\n",
       "      <td>0.9708</td>\n",
       "    </tr>\n",
       "    <tr>\n",
       "      <th>1</th>\n",
       "      <td>0.088252</td>\n",
       "      <td>0.973283</td>\n",
       "      <td>0.072432</td>\n",
       "      <td>0.9780</td>\n",
       "    </tr>\n",
       "    <tr>\n",
       "      <th>2</th>\n",
       "      <td>0.062856</td>\n",
       "      <td>0.981617</td>\n",
       "      <td>0.056117</td>\n",
       "      <td>0.9842</td>\n",
       "    </tr>\n",
       "    <tr>\n",
       "      <th>3</th>\n",
       "      <td>0.049683</td>\n",
       "      <td>0.984483</td>\n",
       "      <td>0.053653</td>\n",
       "      <td>0.9848</td>\n",
       "    </tr>\n",
       "    <tr>\n",
       "      <th>4</th>\n",
       "      <td>0.039614</td>\n",
       "      <td>0.987783</td>\n",
       "      <td>0.051699</td>\n",
       "      <td>0.9854</td>\n",
       "    </tr>\n",
       "    <tr>\n",
       "      <th>5</th>\n",
       "      <td>0.031919</td>\n",
       "      <td>0.989900</td>\n",
       "      <td>0.053822</td>\n",
       "      <td>0.9863</td>\n",
       "    </tr>\n",
       "    <tr>\n",
       "      <th>6</th>\n",
       "      <td>0.027605</td>\n",
       "      <td>0.991250</td>\n",
       "      <td>0.049733</td>\n",
       "      <td>0.9859</td>\n",
       "    </tr>\n",
       "    <tr>\n",
       "      <th>7</th>\n",
       "      <td>0.022237</td>\n",
       "      <td>0.992983</td>\n",
       "      <td>0.054018</td>\n",
       "      <td>0.9852</td>\n",
       "    </tr>\n",
       "    <tr>\n",
       "      <th>8</th>\n",
       "      <td>0.018629</td>\n",
       "      <td>0.993733</td>\n",
       "      <td>0.054870</td>\n",
       "      <td>0.9875</td>\n",
       "    </tr>\n",
       "    <tr>\n",
       "      <th>9</th>\n",
       "      <td>0.018987</td>\n",
       "      <td>0.994067</td>\n",
       "      <td>0.057843</td>\n",
       "      <td>0.9858</td>\n",
       "    </tr>\n",
       "    <tr>\n",
       "      <th>10</th>\n",
       "      <td>0.015424</td>\n",
       "      <td>0.994667</td>\n",
       "      <td>0.053107</td>\n",
       "      <td>0.9892</td>\n",
       "    </tr>\n",
       "    <tr>\n",
       "      <th>11</th>\n",
       "      <td>0.013262</td>\n",
       "      <td>0.995883</td>\n",
       "      <td>0.055922</td>\n",
       "      <td>0.9864</td>\n",
       "    </tr>\n",
       "    <tr>\n",
       "      <th>12</th>\n",
       "      <td>0.014291</td>\n",
       "      <td>0.995250</td>\n",
       "      <td>0.054360</td>\n",
       "      <td>0.9871</td>\n",
       "    </tr>\n",
       "    <tr>\n",
       "      <th>13</th>\n",
       "      <td>0.010868</td>\n",
       "      <td>0.996550</td>\n",
       "      <td>0.064244</td>\n",
       "      <td>0.9871</td>\n",
       "    </tr>\n",
       "    <tr>\n",
       "      <th>14</th>\n",
       "      <td>0.011897</td>\n",
       "      <td>0.996217</td>\n",
       "      <td>0.048644</td>\n",
       "      <td>0.9886</td>\n",
       "    </tr>\n",
       "    <tr>\n",
       "      <th>15</th>\n",
       "      <td>0.009793</td>\n",
       "      <td>0.997000</td>\n",
       "      <td>0.071235</td>\n",
       "      <td>0.9862</td>\n",
       "    </tr>\n",
       "    <tr>\n",
       "      <th>16</th>\n",
       "      <td>0.009798</td>\n",
       "      <td>0.996733</td>\n",
       "      <td>0.087954</td>\n",
       "      <td>0.9828</td>\n",
       "    </tr>\n",
       "    <tr>\n",
       "      <th>17</th>\n",
       "      <td>0.008179</td>\n",
       "      <td>0.997117</td>\n",
       "      <td>0.065269</td>\n",
       "      <td>0.9880</td>\n",
       "    </tr>\n",
       "    <tr>\n",
       "      <th>18</th>\n",
       "      <td>0.009665</td>\n",
       "      <td>0.996683</td>\n",
       "      <td>0.055445</td>\n",
       "      <td>0.9889</td>\n",
       "    </tr>\n",
       "    <tr>\n",
       "      <th>19</th>\n",
       "      <td>0.007630</td>\n",
       "      <td>0.997617</td>\n",
       "      <td>0.068010</td>\n",
       "      <td>0.9874</td>\n",
       "    </tr>\n",
       "  </tbody>\n",
       "</table>\n",
       "</div>"
      ],
      "text/plain": [
       "        loss  accuracy  val_loss  val_accuracy\n",
       "0   0.271852  0.916133  0.097853        0.9708\n",
       "1   0.088252  0.973283  0.072432        0.9780\n",
       "2   0.062856  0.981617  0.056117        0.9842\n",
       "3   0.049683  0.984483  0.053653        0.9848\n",
       "4   0.039614  0.987783  0.051699        0.9854\n",
       "5   0.031919  0.989900  0.053822        0.9863\n",
       "6   0.027605  0.991250  0.049733        0.9859\n",
       "7   0.022237  0.992983  0.054018        0.9852\n",
       "8   0.018629  0.993733  0.054870        0.9875\n",
       "9   0.018987  0.994067  0.057843        0.9858\n",
       "10  0.015424  0.994667  0.053107        0.9892\n",
       "11  0.013262  0.995883  0.055922        0.9864\n",
       "12  0.014291  0.995250  0.054360        0.9871\n",
       "13  0.010868  0.996550  0.064244        0.9871\n",
       "14  0.011897  0.996217  0.048644        0.9886\n",
       "15  0.009793  0.997000  0.071235        0.9862\n",
       "16  0.009798  0.996733  0.087954        0.9828\n",
       "17  0.008179  0.997117  0.065269        0.9880\n",
       "18  0.009665  0.996683  0.055445        0.9889\n",
       "19  0.007630  0.997617  0.068010        0.9874"
      ]
     },
     "metadata": {},
     "output_type": "display_data"
    },
    {
     "data": {
      "text/plain": [
       "<AxesSubplot:>"
      ]
     },
     "execution_count": 53,
     "metadata": {},
     "output_type": "execute_result"
    },
    {
     "data": {
      "image/png": "[encoded data removed]",
      "text/plain": [
       "<Figure size 432x288 with 1 Axes>"
      ]
     },
     "metadata": {
      "needs_background": "light"
     },
     "output_type": "display_data"
    }
   ],
   "source": [
    "import pandas as pd\n",
    "display(pd.DataFrame(model.history.history))\n",
    "pd.DataFrame(model.history.history).plot()"
   ]
  },
  {
   "cell_type": "code",
   "execution_count": 32,
   "id": "026641c0-31d9-4386-a058-cc6edd16efd3",
   "metadata": {},
   "outputs": [],
   "source": [
    "ypred = model.predict(xtest)"
   ]
  },
  {
   "cell_type": "code",
   "execution_count": 69,
   "id": "0a32e28c-9d58-4b4d-ab55-6d043149dd29",
   "metadata": {},
   "outputs": [
    {
     "data": {
      "image/png": "[encoded data removed]",
      "text/plain": [
       "<Figure size 432x288 with 1 Axes>"
      ]
     },
     "metadata": {
      "needs_background": "light"
     },
     "output_type": "display_data"
    },
    {
     "name": "stdout",
     "output_type": "stream",
     "text": [
      "\u001b[33m \u001b[100m \u001b[1m The Actual Label At Index(3092) 1\n",
      "    Predicted Value At Index(3092) 1 \u001b[0m\n"
     ]
    },
    {
     "data": {
      "image/png": "[encoded data removed]",
      "text/plain": [
       "<Figure size 432x288 with 1 Axes>"
      ]
     },
     "metadata": {
      "needs_background": "light"
     },
     "output_type": "display_data"
    },
    {
     "name": "stdout",
     "output_type": "stream",
     "text": [
      "\u001b[33m \u001b[100m \u001b[1m The Actual Label At Index(1442) 3\n",
      "    Predicted Value At Index(1442) 3 \u001b[0m\n"
     ]
    },
    {
     "data": {
      "image/png": "[encoded data removed]",
      "text/plain": [
       "<Figure size 432x288 with 1 Axes>"
      ]
     },
     "metadata": {
      "needs_background": "light"
     },
     "output_type": "display_data"
    },
    {
     "name": "stdout",
     "output_type": "stream",
     "text": [
      "\u001b[33m \u001b[100m \u001b[1m The Actual Label At Index(5888) 4\n",
      "    Predicted Value At Index(5888) 4 \u001b[0m\n"
     ]
    },
    {
     "data": {
      "image/png": "[encoded data removed]",
      "text/plain": [
       "<Figure size 432x288 with 1 Axes>"
      ]
     },
     "metadata": {
      "needs_background": "light"
     },
     "output_type": "display_data"
    },
    {
     "name": "stdout",
     "output_type": "stream",
     "text": [
      "\u001b[33m \u001b[100m \u001b[1m The Actual Label At Index(3138) 3\n",
      "    Predicted Value At Index(3138) 3 \u001b[0m\n"
     ]
    },
    {
     "data": {
      "image/png": "[encoded data removed]",
      "text/plain": [
       "<Figure size 432x288 with 1 Axes>"
      ]
     },
     "metadata": {
      "needs_background": "light"
     },
     "output_type": "display_data"
    },
    {
     "name": "stdout",
     "output_type": "stream",
     "text": [
      "\u001b[33m \u001b[100m \u001b[1m The Actual Label At Index(8069) 2\n",
      "    Predicted Value At Index(8069) 2 \u001b[0m\n"
     ]
    }
   ],
   "source": [
    "for j in range(5):\n",
    "    i = choice(range(10000))\n",
    "    plt.imshow(xtest[i])\n",
    "    plt.show()    \n",
    "    stmnt=f'''the actual label at index({i}) {ytest[i]}\n",
    "    predicted value at index({i}) {np.argmax(ypred[i])}'''.title()\n",
    "    statement(stmnt)"
   ]
  },
  {
   "cell_type": "markdown",
   "id": "24e34f79-c23e-4459-b227-5c48c1598094",
   "metadata": {},
   "source": [
    "# The first model"
   ]
  },
  {
   "cell_type": "code",
   "execution_count": 70,
   "id": "0ed0a170-2aa5-469a-98dd-41f0244faa2a",
   "metadata": {},
   "outputs": [
    {
     "name": "stdout",
     "output_type": "stream",
     "text": [
      "313/313 [==============================] - 2s 8ms/step - loss: 0.0680 - accuracy: 0.9874\n",
      "\u001b[33m \u001b[100m \u001b[1m Test Loss On 10000 Test Samples 0.06801015883684158 \u001b[0m\n",
      "\u001b[33m \u001b[100m \u001b[1m Validation Accuracy On 10000 Test Samples 98.73999953269958 \u001b[0m\n"
     ]
    }
   ],
   "source": [
    "test_loss, test_acc = model.evaluate(xtest,ytest)\n",
    "statement(f'test loss on {len(xtest)} test samples {test_loss}'.title())\n",
    "statement(f'validation accuracy on {len(xtest)} test samples {test_acc*100}'.title())"
   ]
  },
  {
   "cell_type": "code",
   "execution_count": 34,
   "id": "a25885ab-3841-48fe-b127-ad6735ebb737",
   "metadata": {},
   "outputs": [
    {
     "name": "stdout",
     "output_type": "stream",
     "text": [
      "INFO:tensorflow:Assets written to: ./Digit Identification/model\\assets\n"
     ]
    }
   ],
   "source": [
    "model.save('./Digit Identification/model')"
   ]
  },
  {
   "cell_type": "code",
   "execution_count": 56,
   "id": "594f373b-42cc-4f68-8ac8-2f7e79654514",
   "metadata": {},
   "outputs": [
    {
     "name": "stdout",
     "output_type": "stream",
     "text": [
      "(60000, 28, 28) (60000,)\n",
      "xtrain1 shape: (60000, 28, 28, 1)\n",
      "60000 train samples\n",
      "10000 test samples\n"
     ]
    }
   ],
   "source": [
    "batch_size = 128\n",
    "num_classes = 10\n",
    "epochs = 10\n",
    "\n",
    "(xtrain1, ytrain1), (xtest1, ytest1) = mnist.load_data()\n",
    "print(xtrain1.shape, ytrain1.shape)\n",
    "\n",
    "xtrain1 = xtrain1.reshape(xtrain1.shape[0], 28, 28, 1)\n",
    "xtest1 = xtest1.reshape(xtest1.shape[0], 28, 28, 1)\n",
    "input_shape = (28, 28, 1)\n",
    "\n",
    "ytrain1 = tf.keras.utils.to_categorical(ytrain1, num_classes)\n",
    "ytest1 = tf.keras.utils.to_categorical(ytest1, num_classes)\n",
    "xtrain1 = xtrain1.astype('float32')\n",
    "xtest1 = xtest1.astype('float32')\n",
    "xtrain1 /= 255\n",
    "xtest1 /= 255\n",
    "print('xtrain1 shape:', xtrain1.shape)\n",
    "print(xtrain1.shape[0], 'train samples')\n",
    "print(xtest1.shape[0], 'test samples')"
   ]
  },
  {
   "cell_type": "markdown",
   "id": "e3f16509-f32a-4e20-84f1-5d79ef234a58",
   "metadata": {},
   "source": [
    "# A model with 2 convolutional layers and 1 dense layer"
   ]
  },
  {
   "cell_type": "code",
   "execution_count": 57,
   "id": "54072d7d-2d5c-4b6b-b180-f35728637eb7",
   "metadata": {},
   "outputs": [
    {
     "name": "stdout",
     "output_type": "stream",
     "text": [
      "Model: \"sequential_4\"\n",
      "_________________________________________________________________\n",
      " Layer (type)                Output Shape              Param #   \n",
      "=================================================================\n",
      " conv2d_12 (Conv2D)          (None, 26, 26, 32)        320       \n",
      "                                                                 \n",
      " conv2d_13 (Conv2D)          (None, 24, 24, 64)        18496     \n",
      "                                                                 \n",
      " max_pooling2d_12 (MaxPoolin  (None, 12, 12, 64)       0         \n",
      " g2D)                                                            \n",
      "                                                                 \n",
      " dropout (Dropout)           (None, 12, 12, 64)        0         \n",
      "                                                                 \n",
      " flatten_4 (Flatten)         (None, 9216)              0         \n",
      "                                                                 \n",
      " dense_12 (Dense)            (None, 256)               2359552   \n",
      "                                                                 \n",
      " dropout_1 (Dropout)         (None, 256)               0         \n",
      "                                                                 \n",
      " dense_13 (Dense)            (None, 10)                2570      \n",
      "                                                                 \n",
      "=================================================================\n",
      "Total params: 2,380,938\n",
      "Trainable params: 2,380,938\n",
      "Non-trainable params: 0\n",
      "_________________________________________________________________\n"
     ]
    }
   ],
   "source": [
    "model1 = Sequential([\n",
    "(Conv2D(32, kernel_size=(3, 3),activation='relu',input_shape=xtrain1.shape[1:])),\n",
    "(Conv2D(64, (3, 3), activation='relu')),\n",
    "(MaxPooling2D(pool_size=(2, 2))),\n",
    "(Dropout(0.25)),\n",
    "(Flatten()),\n",
    "(Dense(256, activation='relu')),\n",
    "(Dropout(0.5)),\n",
    "(Dense(num_classes, activation='softmax')),\n",
    "])\n",
    "model1.summary()"
   ]
  },
  {
   "cell_type": "code",
   "execution_count": 58,
   "id": "dafe2462-25f3-492b-9074-96f32bc5bf5d",
   "metadata": {},
   "outputs": [
    {
     "name": "stdout",
     "output_type": "stream",
     "text": [
      "Epoch 1/20\n",
      "469/469 [==============================] - 37s 78ms/step - loss: 2.2818 - accuracy: 0.1512 - val_loss: 2.2304 - val_accuracy: 0.4517\n",
      "Epoch 2/20\n",
      "469/469 [==============================] - 37s 80ms/step - loss: 2.1956 - accuracy: 0.3250 - val_loss: 2.1238 - val_accuracy: 0.6498\n",
      "Epoch 3/20\n",
      "469/469 [==============================] - 36s 77ms/step - loss: 2.0811 - accuracy: 0.4668 - val_loss: 1.9791 - val_accuracy: 0.6954\n",
      "Epoch 4/20\n",
      "469/469 [==============================] - 35s 75ms/step - loss: 1.9249 - accuracy: 0.5538 - val_loss: 1.7794 - val_accuracy: 0.7271\n",
      "Epoch 5/20\n",
      "469/469 [==============================] - 35s 75ms/step - loss: 1.7202 - accuracy: 0.6108 - val_loss: 1.5276 - val_accuracy: 0.7612\n",
      "Epoch 6/20\n",
      "469/469 [==============================] - 36s 77ms/step - loss: 1.4863 - accuracy: 0.6519 - val_loss: 1.2624 - val_accuracy: 0.7844\n",
      "Epoch 7/20\n",
      "469/469 [==============================] - 37s 79ms/step - loss: 1.2693 - accuracy: 0.6817 - val_loss: 1.0345 - val_accuracy: 0.8085\n",
      "Epoch 8/20\n",
      "469/469 [==============================] - 36s 77ms/step - loss: 1.0964 - accuracy: 0.7087 - val_loss: 0.8652 - val_accuracy: 0.8240\n",
      "Epoch 9/20\n",
      "469/469 [==============================] - 36s 76ms/step - loss: 0.9710 - accuracy: 0.7262 - val_loss: 0.7462 - val_accuracy: 0.8382\n",
      "Epoch 10/20\n",
      "469/469 [==============================] - 36s 76ms/step - loss: 0.8717 - accuracy: 0.7503 - val_loss: 0.6620 - val_accuracy: 0.8481\n",
      "Epoch 11/20\n",
      "469/469 [==============================] - 36s 76ms/step - loss: 0.8049 - accuracy: 0.7639 - val_loss: 0.6009 - val_accuracy: 0.8556\n",
      "Epoch 12/20\n",
      "469/469 [==============================] - 36s 76ms/step - loss: 0.7523 - accuracy: 0.7759 - val_loss: 0.5549 - val_accuracy: 0.8634\n",
      "Epoch 13/20\n",
      "469/469 [==============================] - 36s 76ms/step - loss: 0.7114 - accuracy: 0.7866 - val_loss: 0.5192 - val_accuracy: 0.8708\n",
      "Epoch 14/20\n",
      "469/469 [==============================] - 36s 77ms/step - loss: 0.6750 - accuracy: 0.7948 - val_loss: 0.4906 - val_accuracy: 0.8765\n",
      "Epoch 15/20\n",
      "469/469 [==============================] - 36s 77ms/step - loss: 0.6467 - accuracy: 0.8040 - val_loss: 0.4673 - val_accuracy: 0.8809\n",
      "Epoch 16/20\n",
      "469/469 [==============================] - 36s 77ms/step - loss: 0.6215 - accuracy: 0.8113 - val_loss: 0.4474 - val_accuracy: 0.8848\n",
      "Epoch 17/20\n",
      "469/469 [==============================] - 37s 79ms/step - loss: 0.5975 - accuracy: 0.8194 - val_loss: 0.4303 - val_accuracy: 0.8870\n",
      "Epoch 18/20\n",
      "469/469 [==============================] - 36s 76ms/step - loss: 0.5807 - accuracy: 0.8228 - val_loss: 0.4160 - val_accuracy: 0.8886\n",
      "Epoch 19/20\n",
      "469/469 [==============================] - 36s 77ms/step - loss: 0.5668 - accuracy: 0.8270 - val_loss: 0.4032 - val_accuracy: 0.8913\n",
      "Epoch 20/20\n",
      "469/469 [==============================] - 36s 76ms/step - loss: 0.5474 - accuracy: 0.8333 - val_loss: 0.3916 - val_accuracy: 0.8937\n"
     ]
    }
   ],
   "source": [
    "# model.compile(loss='categorical_crossentropy', optimizer='adam', metrics='accuracy')\n",
    "# model.fit(xtrain1,ytrain1,epochs=5,validation_split=.3)\n",
    "model1.compile(loss=tf.keras.losses.categorical_crossentropy,optimizer=tf.keras.optimizers.Adadelta(),metrics=['accuracy'])\n",
    "hist = model1.fit(xtrain1, ytrain1,batch_size=batch_size,epochs=20,verbose=1,validation_data=(xtest1, ytest1))"
   ]
  },
  {
   "cell_type": "code",
   "execution_count": 61,
   "id": "e87059c6-ce86-4862-8e6b-58f8550115f7",
   "metadata": {},
   "outputs": [
    {
     "data": {
      "text/html": [
       "<div>\n",
       "<style scoped>\n",
       "    .dataframe tbody tr th:only-of-type {\n",
       "        vertical-align: middle;\n",
       "    }\n",
       "\n",
       "    .dataframe tbody tr th {\n",
       "        vertical-align: top;\n",
       "    }\n",
       "\n",
       "    .dataframe thead th {\n",
       "        text-align: right;\n",
       "    }\n",
       "</style>\n",
       "<table border=\"1\" class=\"dataframe\">\n",
       "  <thead>\n",
       "    <tr style=\"text-align: right;\">\n",
       "      <th></th>\n",
       "      <th>loss</th>\n",
       "      <th>accuracy</th>\n",
       "      <th>val_loss</th>\n",
       "      <th>val_accuracy</th>\n",
       "    </tr>\n",
       "  </thead>\n",
       "  <tbody>\n",
       "    <tr>\n",
       "      <th>0</th>\n",
       "      <td>2.281823</td>\n",
       "      <td>0.151150</td>\n",
       "      <td>2.230366</td>\n",
       "      <td>0.4517</td>\n",
       "    </tr>\n",
       "    <tr>\n",
       "      <th>1</th>\n",
       "      <td>2.195618</td>\n",
       "      <td>0.325033</td>\n",
       "      <td>2.123793</td>\n",
       "      <td>0.6498</td>\n",
       "    </tr>\n",
       "    <tr>\n",
       "      <th>2</th>\n",
       "      <td>2.081069</td>\n",
       "      <td>0.466833</td>\n",
       "      <td>1.979074</td>\n",
       "      <td>0.6954</td>\n",
       "    </tr>\n",
       "    <tr>\n",
       "      <th>3</th>\n",
       "      <td>1.924878</td>\n",
       "      <td>0.553767</td>\n",
       "      <td>1.779431</td>\n",
       "      <td>0.7271</td>\n",
       "    </tr>\n",
       "    <tr>\n",
       "      <th>4</th>\n",
       "      <td>1.720222</td>\n",
       "      <td>0.610767</td>\n",
       "      <td>1.527583</td>\n",
       "      <td>0.7612</td>\n",
       "    </tr>\n",
       "    <tr>\n",
       "      <th>5</th>\n",
       "      <td>1.486287</td>\n",
       "      <td>0.651883</td>\n",
       "      <td>1.262394</td>\n",
       "      <td>0.7844</td>\n",
       "    </tr>\n",
       "    <tr>\n",
       "      <th>6</th>\n",
       "      <td>1.269271</td>\n",
       "      <td>0.681717</td>\n",
       "      <td>1.034491</td>\n",
       "      <td>0.8085</td>\n",
       "    </tr>\n",
       "    <tr>\n",
       "      <th>7</th>\n",
       "      <td>1.096375</td>\n",
       "      <td>0.708717</td>\n",
       "      <td>0.865163</td>\n",
       "      <td>0.8240</td>\n",
       "    </tr>\n",
       "    <tr>\n",
       "      <th>8</th>\n",
       "      <td>0.971018</td>\n",
       "      <td>0.726183</td>\n",
       "      <td>0.746235</td>\n",
       "      <td>0.8382</td>\n",
       "    </tr>\n",
       "    <tr>\n",
       "      <th>9</th>\n",
       "      <td>0.871682</td>\n",
       "      <td>0.750283</td>\n",
       "      <td>0.661999</td>\n",
       "      <td>0.8481</td>\n",
       "    </tr>\n",
       "    <tr>\n",
       "      <th>10</th>\n",
       "      <td>0.804937</td>\n",
       "      <td>0.763917</td>\n",
       "      <td>0.600881</td>\n",
       "      <td>0.8556</td>\n",
       "    </tr>\n",
       "    <tr>\n",
       "      <th>11</th>\n",
       "      <td>0.752285</td>\n",
       "      <td>0.775883</td>\n",
       "      <td>0.554904</td>\n",
       "      <td>0.8634</td>\n",
       "    </tr>\n",
       "    <tr>\n",
       "      <th>12</th>\n",
       "      <td>0.711412</td>\n",
       "      <td>0.786617</td>\n",
       "      <td>0.519177</td>\n",
       "      <td>0.8708</td>\n",
       "    </tr>\n",
       "    <tr>\n",
       "      <th>13</th>\n",
       "      <td>0.675042</td>\n",
       "      <td>0.794850</td>\n",
       "      <td>0.490561</td>\n",
       "      <td>0.8765</td>\n",
       "    </tr>\n",
       "    <tr>\n",
       "      <th>14</th>\n",
       "      <td>0.646748</td>\n",
       "      <td>0.804017</td>\n",
       "      <td>0.467301</td>\n",
       "      <td>0.8809</td>\n",
       "    </tr>\n",
       "    <tr>\n",
       "      <th>15</th>\n",
       "      <td>0.621540</td>\n",
       "      <td>0.811350</td>\n",
       "      <td>0.447371</td>\n",
       "      <td>0.8848</td>\n",
       "    </tr>\n",
       "    <tr>\n",
       "      <th>16</th>\n",
       "      <td>0.597450</td>\n",
       "      <td>0.819350</td>\n",
       "      <td>0.430263</td>\n",
       "      <td>0.8870</td>\n",
       "    </tr>\n",
       "    <tr>\n",
       "      <th>17</th>\n",
       "      <td>0.580722</td>\n",
       "      <td>0.822817</td>\n",
       "      <td>0.416015</td>\n",
       "      <td>0.8886</td>\n",
       "    </tr>\n",
       "    <tr>\n",
       "      <th>18</th>\n",
       "      <td>0.566842</td>\n",
       "      <td>0.826967</td>\n",
       "      <td>0.403234</td>\n",
       "      <td>0.8913</td>\n",
       "    </tr>\n",
       "    <tr>\n",
       "      <th>19</th>\n",
       "      <td>0.547437</td>\n",
       "      <td>0.833333</td>\n",
       "      <td>0.391567</td>\n",
       "      <td>0.8937</td>\n",
       "    </tr>\n",
       "  </tbody>\n",
       "</table>\n",
       "</div>"
      ],
      "text/plain": [
       "        loss  accuracy  val_loss  val_accuracy\n",
       "0   2.281823  0.151150  2.230366        0.4517\n",
       "1   2.195618  0.325033  2.123793        0.6498\n",
       "2   2.081069  0.466833  1.979074        0.6954\n",
       "3   1.924878  0.553767  1.779431        0.7271\n",
       "4   1.720222  0.610767  1.527583        0.7612\n",
       "5   1.486287  0.651883  1.262394        0.7844\n",
       "6   1.269271  0.681717  1.034491        0.8085\n",
       "7   1.096375  0.708717  0.865163        0.8240\n",
       "8   0.971018  0.726183  0.746235        0.8382\n",
       "9   0.871682  0.750283  0.661999        0.8481\n",
       "10  0.804937  0.763917  0.600881        0.8556\n",
       "11  0.752285  0.775883  0.554904        0.8634\n",
       "12  0.711412  0.786617  0.519177        0.8708\n",
       "13  0.675042  0.794850  0.490561        0.8765\n",
       "14  0.646748  0.804017  0.467301        0.8809\n",
       "15  0.621540  0.811350  0.447371        0.8848\n",
       "16  0.597450  0.819350  0.430263        0.8870\n",
       "17  0.580722  0.822817  0.416015        0.8886\n",
       "18  0.566842  0.826967  0.403234        0.8913\n",
       "19  0.547437  0.833333  0.391567        0.8937"
      ]
     },
     "metadata": {},
     "output_type": "display_data"
    },
    {
     "data": {
      "text/plain": [
       "<AxesSubplot:>"
      ]
     },
     "execution_count": 61,
     "metadata": {},
     "output_type": "execute_result"
    },
    {
     "data": {
      "image/png": "[encoded data removed]",
      "text/plain": [
       "<Figure size 432x288 with 1 Axes>"
      ]
     },
     "metadata": {
      "needs_background": "light"
     },
     "output_type": "display_data"
    }
   ],
   "source": [
    "display(pd.DataFrame(model1.history.history))\n",
    "pd.DataFrame(model1.history.history).plot()"
   ]
  },
  {
   "cell_type": "markdown",
   "id": "76a2051b-538a-4dd2-9249-3ab5d27799f0",
   "metadata": {
    "tags": []
   },
   "source": [
    "# Second model"
   ]
  },
  {
   "cell_type": "code",
   "execution_count": 26,
   "id": "cc5289a5-dbd3-485a-80ce-860b7d43e0f4",
   "metadata": {},
   "outputs": [
    {
     "name": "stdout",
     "output_type": "stream",
     "text": [
      "INFO:tensorflow:Assets written to: tkinter_model\\assets\n"
     ]
    }
   ],
   "source": [
    "model1.save('./Digit Identification/tkinter_model')"
   ]
  },
  {
   "cell_type": "code",
   "execution_count": 63,
   "id": "a5843f41-ed62-43ee-b2fe-9c679e8e0f03",
   "metadata": {},
   "outputs": [],
   "source": [
    "def predict(file,model,frame_speed=1):\n",
    "    preds = []\n",
    "    ext = file.split('.')[-1]\n",
    "    if ext in 'mp4,ts'.split(','):\n",
    "        font = cv2.FONT_HERSHEY_SCRIPT_COMPLEX\n",
    "        size = 1.5\n",
    "\n",
    "        vid = cv2.VideoCapture(file)\n",
    "\n",
    "        if not vid.isOpened():\n",
    "            vid = cv2.VideoCapture(0)\n",
    "        if not vid.isOpened():\n",
    "            raise IOError('File Not Open')\n",
    "\n",
    "        text = 'some text in a box!'.title()\n",
    "        text_width,text_height=cv2.getTextSize(text,font,fontScale=size,thickness=1)[0]\n",
    "\n",
    "\n",
    "        counter = 0\n",
    "        while True:\n",
    "            ret, frame = vid.read()\n",
    "            counter+=1;\n",
    "            if (counter%frame_speed)==0:\n",
    "                try:\n",
    "                    gray = cv2.cvtColor(frame,cv2.COLOR_BGR2GRAY)\n",
    "                except:\n",
    "                    break\n",
    "                resized = cv2.resize(gray,(28,28),interpolation=cv2.INTER_AREA)\n",
    "\n",
    "                # txt_off_x = 5\n",
    "                # txt_off_y = gray.shape[0]-25\n",
    "                # box = ((txt_off_x,txt_off_y), (txt_off_x+text_width+1,txt_off_y-text_height-5))\n",
    "\n",
    "                img = tf.keras.utils.normalize(resized)\n",
    "                img = np.array(img).reshape(-1,28,28,1)\n",
    "                pred = model.predict(img)\n",
    "                status = np.argmax(pred)\n",
    "                # print(status)\n",
    "                # print(type(status))\n",
    "                preds.append(status)\n",
    "                x1,y1,w1,h1 = 0,0,175,175\n",
    "                cv2.rectangle(frame,(x1,x1),(x1+100,y1+100),(0,0,0),-1)\n",
    "                cv2.putText(frame,status.astype(str),(x1+int(w1/5),y1+int(h1/2)),cv2.FONT_HERSHEY_SCRIPT_COMPLEX,.7,(0,0,255),2)\n",
    "\n",
    "                cv2.imshow('handwritten digits recognition',frame)\n",
    "\n",
    "                if cv2.waitKey(2)&0xFF==ord('q'):\n",
    "                    break\n",
    "        vid.release()\n",
    "        cv2.destroyAllWindows()\n",
    "        return preds\n",
    "    \n",
    "    elif ext in 'png,jpeg'.split(','):\n",
    "        img = cv2.imread(file)\n",
    "        plt.imshow(img)\n",
    "        plt.show()\n",
    "        img = cv2.cvtColor(img,cv2.COLOR_BGR2GRAY)\n",
    "        plt.imshow(img)\n",
    "        plt.show()\n",
    "        img = cv2.resize(img,(28,28),interpolation=cv2.INTER_AREA)\n",
    "        plt.imshow(img)\n",
    "        plt.show()\n",
    "        img = tf.keras.utils.normalize(img)\n",
    "        img = np.array(img).reshape(-1,28,28,1)\n",
    "        pred = model.predict(img)\n",
    "        print('the model identified the digit in the image as'.title(),end='')\n",
    "        statement(np.argmax(pred))"
   ]
  },
  {
   "cell_type": "markdown",
   "id": "7091eb9b-3c38-4cee-aae9-af480bb3ec04",
   "metadata": {},
   "source": [
    "# A small demonsteration"
   ]
  },
  {
   "cell_type": "code",
   "execution_count": 64,
   "id": "c92bd4c2-d271-4650-98f3-e4b6a3f822ed",
   "metadata": {},
   "outputs": [
    {
     "data": {
      "image/png": "[encoded data removed]",
      "text/plain": [
       "<Figure size 432x288 with 1 Axes>"
      ]
     },
     "metadata": {
      "needs_background": "light"
     },
     "output_type": "display_data"
    },
    {
     "data": {
      "image/png": "[encoded data removed]",
      "text/plain": [
       "<Figure size 432x288 with 1 Axes>"
      ]
     },
     "metadata": {
      "needs_background": "light"
     },
     "output_type": "display_data"
    },
    {
     "data": {
      "image/png": "[encoded data removed]",
      "text/plain": [
       "<Figure size 432x288 with 1 Axes>"
      ]
     },
     "metadata": {
      "needs_background": "light"
     },
     "output_type": "display_data"
    },
    {
     "name": "stdout",
     "output_type": "stream",
     "text": [
      "The Model Identified The Digit In The Image As\u001b[33m \u001b[100m \u001b[1m 1 \u001b[0m\n"
     ]
    }
   ],
   "source": [
    "predict('./myImage/9.png',model,frame_speed=1)"
   ]
  },
  {
   "cell_type": "code",
   "execution_count": 65,
   "id": "78c31af0-8e1c-4ef7-a59c-40bd888733af",
   "metadata": {},
   "outputs": [
    {
     "data": {
      "text/plain": [
       "[1,\n",
       " 1,\n",
       " 1,\n",
       " 1,\n",
       " 1,\n",
       " 1,\n",
       " 1,\n",
       " 1,\n",
       " 1,\n",
       " 1,\n",
       " 1,\n",
       " 1,\n",
       " 1,\n",
       " 1,\n",
       " 1,\n",
       " 1,\n",
       " 1,\n",
       " 1,\n",
       " 1,\n",
       " 1,\n",
       " 1,\n",
       " 1,\n",
       " 1,\n",
       " 1,\n",
       " 1,\n",
       " 1,\n",
       " 1,\n",
       " 1,\n",
       " 1,\n",
       " 1,\n",
       " 1,\n",
       " 1,\n",
       " 1,\n",
       " 1,\n",
       " 1,\n",
       " 1,\n",
       " 1,\n",
       " 1,\n",
       " 1,\n",
       " 1,\n",
       " 1,\n",
       " 1,\n",
       " 1,\n",
       " 6,\n",
       " 6,\n",
       " 6,\n",
       " 6,\n",
       " 6,\n",
       " 2,\n",
       " 3,\n",
       " 2,\n",
       " 2,\n",
       " 2,\n",
       " 2,\n",
       " 2,\n",
       " 2,\n",
       " 2,\n",
       " 2,\n",
       " 2,\n",
       " 2,\n",
       " 2,\n",
       " 2,\n",
       " 2,\n",
       " 2,\n",
       " 2,\n",
       " 2,\n",
       " 1,\n",
       " 1,\n",
       " 1,\n",
       " 1,\n",
       " 1,\n",
       " 1,\n",
       " 1,\n",
       " 1,\n",
       " 1,\n",
       " 1,\n",
       " 1,\n",
       " 6,\n",
       " 6,\n",
       " 7,\n",
       " 7,\n",
       " 3,\n",
       " 3,\n",
       " 3,\n",
       " 3,\n",
       " 3,\n",
       " 3,\n",
       " 3,\n",
       " 3,\n",
       " 3,\n",
       " 3,\n",
       " 3,\n",
       " 3,\n",
       " 3,\n",
       " 3,\n",
       " 1,\n",
       " 1,\n",
       " 1,\n",
       " 1,\n",
       " 1,\n",
       " 1,\n",
       " 1,\n",
       " 1,\n",
       " 1,\n",
       " 1,\n",
       " 1,\n",
       " 1,\n",
       " 5,\n",
       " 5,\n",
       " 3,\n",
       " 3,\n",
       " 3,\n",
       " 5,\n",
       " 2,\n",
       " 4,\n",
       " 4,\n",
       " 4,\n",
       " 4,\n",
       " 4,\n",
       " 4,\n",
       " 4,\n",
       " 4,\n",
       " 4,\n",
       " 4,\n",
       " 4,\n",
       " 4,\n",
       " 4,\n",
       " 4,\n",
       " 1,\n",
       " 1,\n",
       " 1,\n",
       " 1,\n",
       " 1,\n",
       " 1,\n",
       " 1,\n",
       " 1,\n",
       " 1,\n",
       " 1,\n",
       " 1,\n",
       " 1,\n",
       " 1,\n",
       " 6,\n",
       " 1,\n",
       " 1,\n",
       " 6,\n",
       " 6,\n",
       " 6,\n",
       " 6,\n",
       " 6,\n",
       " 6,\n",
       " 6,\n",
       " 6,\n",
       " 6,\n",
       " 6,\n",
       " 6,\n",
       " 6,\n",
       " 6,\n",
       " 1,\n",
       " 1,\n",
       " 1,\n",
       " 1,\n",
       " 1,\n",
       " 1,\n",
       " 1,\n",
       " 1,\n",
       " 1,\n",
       " 1,\n",
       " 1,\n",
       " 6,\n",
       " 6,\n",
       " 7,\n",
       " 7,\n",
       " 7,\n",
       " 7,\n",
       " 7,\n",
       " 7,\n",
       " 7,\n",
       " 7,\n",
       " 7,\n",
       " 7,\n",
       " 7,\n",
       " 7,\n",
       " 7,\n",
       " 1,\n",
       " 1,\n",
       " 1,\n",
       " 1,\n",
       " 1,\n",
       " 1,\n",
       " 1,\n",
       " 1,\n",
       " 1,\n",
       " 1,\n",
       " 1,\n",
       " 1,\n",
       " 6,\n",
       " 6,\n",
       " 6,\n",
       " 2,\n",
       " 5,\n",
       " 5,\n",
       " 5,\n",
       " 5,\n",
       " 5,\n",
       " 5,\n",
       " 5,\n",
       " 5,\n",
       " 5,\n",
       " 8,\n",
       " 8,\n",
       " 8,\n",
       " 8,\n",
       " 8,\n",
       " 8,\n",
       " 8,\n",
       " 8,\n",
       " 8,\n",
       " 8,\n",
       " 8,\n",
       " 8,\n",
       " 8,\n",
       " 8,\n",
       " 1,\n",
       " 1,\n",
       " 1,\n",
       " 1,\n",
       " 1,\n",
       " 1,\n",
       " 1,\n",
       " 1,\n",
       " 1,\n",
       " 1,\n",
       " 7,\n",
       " 7,\n",
       " 2,\n",
       " 3,\n",
       " 2,\n",
       " 2,\n",
       " 2,\n",
       " 5,\n",
       " 5,\n",
       " 5,\n",
       " 9,\n",
       " 9,\n",
       " 9,\n",
       " 9,\n",
       " 9,\n",
       " 9,\n",
       " 9,\n",
       " 9,\n",
       " 1,\n",
       " 1,\n",
       " 1,\n",
       " 1,\n",
       " 1,\n",
       " 1,\n",
       " 1,\n",
       " 1,\n",
       " 1,\n",
       " 1,\n",
       " 1,\n",
       " 1,\n",
       " 1,\n",
       " 1,\n",
       " 1,\n",
       " 1,\n",
       " 1,\n",
       " 1,\n",
       " 1,\n",
       " 1,\n",
       " 1,\n",
       " 1,\n",
       " 1,\n",
       " 7,\n",
       " 7,\n",
       " 7,\n",
       " 7,\n",
       " 7,\n",
       " 7,\n",
       " 1,\n",
       " 3,\n",
       " 0,\n",
       " 0,\n",
       " 0,\n",
       " 0,\n",
       " 0,\n",
       " 0,\n",
       " 0,\n",
       " 0,\n",
       " 0,\n",
       " 0,\n",
       " 0,\n",
       " 0,\n",
       " 0,\n",
       " 0,\n",
       " 0,\n",
       " 1,\n",
       " 1,\n",
       " 1,\n",
       " 1,\n",
       " 1,\n",
       " 1,\n",
       " 1,\n",
       " 1,\n",
       " 1,\n",
       " 1,\n",
       " 1,\n",
       " 1,\n",
       " 1,\n",
       " 7,\n",
       " 7,\n",
       " 7,\n",
       " 6,\n",
       " 5,\n",
       " 5,\n",
       " 5,\n",
       " 5,\n",
       " 5,\n",
       " 5,\n",
       " 5,\n",
       " 5,\n",
       " 5,\n",
       " 5,\n",
       " 5,\n",
       " 5,\n",
       " 5,\n",
       " 1,\n",
       " 1,\n",
       " 1,\n",
       " 1,\n",
       " 1,\n",
       " 1,\n",
       " 1,\n",
       " 1,\n",
       " 1,\n",
       " 7,\n",
       " 7,\n",
       " 7,\n",
       " 7,\n",
       " 3,\n",
       " 7,\n",
       " 7,\n",
       " 7,\n",
       " 7,\n",
       " 7,\n",
       " 7,\n",
       " 7,\n",
       " 7,\n",
       " 7,\n",
       " 7,\n",
       " 7,\n",
       " 1,\n",
       " 1,\n",
       " 1,\n",
       " 1,\n",
       " 1,\n",
       " 1,\n",
       " 1,\n",
       " 1,\n",
       " 1,\n",
       " 7,\n",
       " 7,\n",
       " 6,\n",
       " 5,\n",
       " 5,\n",
       " 5,\n",
       " 5,\n",
       " 8,\n",
       " 8,\n",
       " 8,\n",
       " 8,\n",
       " 8,\n",
       " 8,\n",
       " 8,\n",
       " 8,\n",
       " 8,\n",
       " 8,\n",
       " 1,\n",
       " 1,\n",
       " 1,\n",
       " 1,\n",
       " 1,\n",
       " 1,\n",
       " 1,\n",
       " 1,\n",
       " 1,\n",
       " 1,\n",
       " 7,\n",
       " 7,\n",
       " 2,\n",
       " 8,\n",
       " 8,\n",
       " 9,\n",
       " 9,\n",
       " 9,\n",
       " 9,\n",
       " 9,\n",
       " 9,\n",
       " 9,\n",
       " 1,\n",
       " 1,\n",
       " 1,\n",
       " 1,\n",
       " 1,\n",
       " 1,\n",
       " 1,\n",
       " 1,\n",
       " 1,\n",
       " 1,\n",
       " 1,\n",
       " 1,\n",
       " 1,\n",
       " 1,\n",
       " 1,\n",
       " 1,\n",
       " 1,\n",
       " 1,\n",
       " 1,\n",
       " 1,\n",
       " 1,\n",
       " 1,\n",
       " 7,\n",
       " 1,\n",
       " 3,\n",
       " 3,\n",
       " 3,\n",
       " 3,\n",
       " 3,\n",
       " 3,\n",
       " 3,\n",
       " 3,\n",
       " 3,\n",
       " 3,\n",
       " 1,\n",
       " 1,\n",
       " 1,\n",
       " 1,\n",
       " 1,\n",
       " 1,\n",
       " 1,\n",
       " 1,\n",
       " 1,\n",
       " 7,\n",
       " 7,\n",
       " 7,\n",
       " 7,\n",
       " 7,\n",
       " 7,\n",
       " 7,\n",
       " 7,\n",
       " 7,\n",
       " 7,\n",
       " 1,\n",
       " 1,\n",
       " 1,\n",
       " 1,\n",
       " 1,\n",
       " 1,\n",
       " 1,\n",
       " 1,\n",
       " 1,\n",
       " 1,\n",
       " 1,\n",
       " 1,\n",
       " 1,\n",
       " 1,\n",
       " 1,\n",
       " 1,\n",
       " 1,\n",
       " 1,\n",
       " 1,\n",
       " 1,\n",
       " 1,\n",
       " 1,\n",
       " 1,\n",
       " 1,\n",
       " 1,\n",
       " 1,\n",
       " 1,\n",
       " 1,\n",
       " 1,\n",
       " 1,\n",
       " 1,\n",
       " 1,\n",
       " 1,\n",
       " 1,\n",
       " 1,\n",
       " 1,\n",
       " 1,\n",
       " 1,\n",
       " 1,\n",
       " 1,\n",
       " 1]"
      ]
     },
     "execution_count": 65,
     "metadata": {},
     "output_type": "execute_result"
    }
   ],
   "source": [
    "li = predict('./myImage/2022-02-02-18-10-28.mp4',model)\n",
    "li"
   ]
  },
  {
   "cell_type": "code",
   "execution_count": null,
   "id": "e1bab2a3-1061-4f17-8f82-5d0f6839dbff",
   "metadata": {},
   "outputs": [],
   "source": []
  }
 ],
 "metadata": {
  "kernelspec": {
   "display_name": "Python 3 (ipykernel)",
   "language": "python",
   "name": "python3"
  },
  "language_info": {
   "codemirror_mode": {
    "name": "ipython",
    "version": 3
   },
   "file_extension": ".py",
   "mimetype": "text/x-python",
   "name": "python",
   "nbconvert_exporter": "python",
   "pygments_lexer": "ipython3",
   "version": "3.9.2"
  }
 },
 "nbformat": 4,
 "nbformat_minor": 5
}
